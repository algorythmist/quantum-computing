{
 "cells": [
  {
   "cell_type": "code",
   "execution_count": 9,
   "id": "6bf1efee",
   "metadata": {},
   "outputs": [],
   "source": [
    "import numpy as np\n",
    "from qiskit import QuantumCircuit, assemble, transpile\n",
    "from qiskit.visualization import plot_histogram"
   ]
  },
  {
   "cell_type": "markdown",
   "id": "890343dd",
   "metadata": {},
   "source": [
    "# Deutsch-Jozsa Algorithm"
   ]
  },
  {
   "cell_type": "code",
   "execution_count": 10,
   "id": "3934c66c",
   "metadata": {},
   "outputs": [],
   "source": [
    "def position_X_gates(circuit:QuantumCircuit, bit_string:str):\n",
    "    # place the X gates\n",
    "    for qubit in range(len(bit_string)):\n",
    "        if bit_string[qubit] == '1':\n",
    "            circuit.x(qubit)\n",
    "    \n",
    "def dj_oracle(qubits:int, balanced:bool = True):\n",
    "    n = qubits\n",
    "    # This circuit has n+1 qubits: the size of the input,\n",
    "    # plus one output qubit\n",
    "    oracle_qc = QuantumCircuit(n+1)\n",
    "    if balanced:\n",
    "        # generate a random string that tells which CNOTs to activate\n",
    "        b = np.random.randint(1,2**n)\n",
    "        b_str = format(b, '0'+str(n)+'b')\n",
    "        print(b_str)\n",
    "        \n",
    "        # position the first row of X gates\n",
    "        position_X_gates(oracle_qc, b_str)\n",
    "        \n",
    "        # Do the controlled-NOT gates for each qubit, \n",
    "        # using the output qubit as the target:\n",
    "        for qubit in range(n):\n",
    "            oracle_qc.cx(qubit, n)\n",
    "            \n",
    "        # position the last row of X gates\n",
    "        position_X_gates(oracle_qc, b_str)\n",
    "    else:\n",
    "        # decide the oracle output (0 or 1)\n",
    "        output = np.random.randint(2)\n",
    "        if output == 1:\n",
    "            oracle_qc.x(n)\n",
    "    \n",
    "    oracle_gate = oracle_qc.to_gate()\n",
    "    oracle_gate.name = \"Deutsch-Jozsa Oracle\" # To show when we display the circuit\n",
    "    return oracle_gate"
   ]
  },
  {
   "cell_type": "code",
   "execution_count": 11,
   "id": "02b08a42",
   "metadata": {},
   "outputs": [],
   "source": [
    "def hadamard(circuit:QuantumCircuit, qubits):\n",
    "    for qubit in range(qubits):\n",
    "        circuit.h(qubit)\n",
    "\n",
    "def dj_algorithm(oracle, qubits:int):\n",
    "    n = qubits\n",
    "    dj_circuit = QuantumCircuit(n+1, n)\n",
    "    # Set up the output qubit:\n",
    "    dj_circuit.x(n)\n",
    "    dj_circuit.barrier()\n",
    "    dj_circuit.h(n)\n",
    "    # set the input register in superposition:\n",
    "    hadamard(dj_circuit, n)\n",
    "    #introduce the oracle gate as a subroutine\n",
    "    dj_circuit.append(oracle, range(n+1))\n",
    "    # reverse superposition:\n",
    "    hadamard(dj_circuit, n)\n",
    "    \n",
    "    #measure first register\n",
    "    dj_circuit.measure(0,0)\n",
    "    \n",
    "    return dj_circuit "
   ]
  },
  {
   "cell_type": "code",
   "execution_count": 12,
   "id": "065383a0",
   "metadata": {},
   "outputs": [
    {
     "data": {
      "image/png": "[encoded data removed]",
      "text/plain": [
       "<Figure size 872.774x535.111 with 1 Axes>"
      ]
     },
     "execution_count": 12,
     "metadata": {},
     "output_type": "execute_result"
    }
   ],
   "source": [
    "n = 4\n",
    "const_oracle = dj_oracle(n, False)\n",
    "dj_circuit = dj_algorithm(const_oracle, n)\n",
    "dj_circuit.draw(output='mpl')"
   ]
  },
  {
   "cell_type": "code",
   "execution_count": 13,
   "id": "5ddf0156",
   "metadata": {},
   "outputs": [],
   "source": [
    "from qiskit.providers.aer import AerSimulator\n",
    "\n",
    "def simulate(circuit, shots=1000):\n",
    "    aer_sim = AerSimulator()\n",
    "    transpiled_circuit = transpile(circuit, aer_sim)\n",
    "    job = aer_sim.run(transpiled_circuit, shots=shots)  # run the experiment\n",
    "    result = job.result()  # get the results\n",
    "    # interpret the results as a \"counts\" dictionary\n",
    "    return result.get_counts()"
   ]
  },
  {
   "cell_type": "code",
   "execution_count": 14,
   "id": "3b846631",
   "metadata": {},
   "outputs": [],
   "source": [
    "def interpret_result(result):\n",
    "    bit = int(list(result.keys())[0])\n",
    "    return 'Constant' if bit==0 else 'Balanced'"
   ]
  },
  {
   "cell_type": "code",
   "execution_count": 15,
   "id": "bc343da5",
   "metadata": {},
   "outputs": [
    {
     "data": {
      "text/plain": [
       "'Constant'"
      ]
     },
     "execution_count": 15,
     "metadata": {},
     "output_type": "execute_result"
    }
   ],
   "source": [
    "# use local simulator\n",
    "result = simulate(dj_circuit)\n",
    "interpret_result(result)"
   ]
  },
  {
   "cell_type": "code",
   "execution_count": 16,
   "id": "b5c323ed",
   "metadata": {},
   "outputs": [
    {
     "name": "stdout",
     "output_type": "stream",
     "text": [
      "1111\n"
     ]
    },
    {
     "data": {
      "text/plain": [
       "'Balanced'"
      ]
     },
     "execution_count": 16,
     "metadata": {},
     "output_type": "execute_result"
    }
   ],
   "source": [
    "bal_oracle = dj_oracle(n, True)\n",
    "dj_circuit = dj_algorithm(bal_oracle, n)\n",
    "result = simulate(dj_circuit)\n",
    "interpret_result(result)"
   ]
  }
 ],
 "metadata": {
  "kernelspec": {
   "display_name": "quantum-computing",
   "language": "python",
   "name": "quantum-computing"
  },
  "language_info": {
   "codemirror_mode": {
    "name": "ipython",
    "version": 3
   },
   "file_extension": ".py",
   "mimetype": "text/x-python",
   "name": "python",
   "nbconvert_exporter": "python",
   "pygments_lexer": "ipython3",
   "version": "3.10.9"
  },
  "latex_envs": {
   "LaTeX_envs_menu_present": true,
   "autoclose": false,
   "autocomplete": true,
   "bibliofile": "biblio.bib",
   "cite_by": "apalike",
   "current_citInitial": 1,
   "eqLabelWithNumbers": true,
   "eqNumInitial": 1,
   "hotkeys": {
    "equation": "Ctrl-E",
    "itemize": "Ctrl-I"
   },
   "labels_anchors": false,
   "latex_user_defs": false,
   "report_style_numbering": false,
   "user_envs_cfg": false
  }
 },
 "nbformat": 4,
 "nbformat_minor": 5
}
