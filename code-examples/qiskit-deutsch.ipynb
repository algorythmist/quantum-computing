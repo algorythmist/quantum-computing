{
 "cells": [
  {
   "cell_type": "markdown",
   "id": "80d2f95f",
   "metadata": {},
   "source": [
    "# Deutsch Algorithm"
   ]
  },
  {
   "cell_type": "markdown",
   "id": "82c33a80",
   "metadata": {},
   "source": [
    "#### This cell is  used to define bras, kets, brackets for latex\n",
    "$\n",
    "\\newcommand{\\ket}[1]{\\left|{#1}\\right\\rangle}\n",
    "\\newcommand{\\bra}[1]{\\left\\langle{#1}\\right|}\n",
    "\\newcommand{\\braket}[2]{\\left\\langle{#1}\\middle|{#2}\\right\\rangle}\n",
    "$"
   ]
  },
  {
   "cell_type": "markdown",
   "id": "c652e9bb",
   "metadata": {},
   "source": [
    "A Hadamard gate puts a single qubit into superposition\n",
    "\n",
    "$$\n",
    "H\\ket{0} = \\frac{1}{\\sqrt{2}}(\\ket{0}+\\ket{1}) \\equiv \\ket{+}\\\\\n",
    "H\\ket{1} = \\frac{1}{\\sqrt{2}}(\\ket{0}-\\ket{1}) \\equiv \\ket{-}\\\\\n",
    "$$"
   ]
  },
  {
   "cell_type": "markdown",
   "id": "8e4af83c",
   "metadata": {},
   "source": [
    "## Building a gate from a function\n",
    "\n",
    "$$\n",
    "\\ket{x}\\ket{y} \\rightarrow \\ket{x}\\ket{y\\oplus f(x)}\n",
    "$$\n",
    "    \n",
    "    "
   ]
  },
  {
   "cell_type": "code",
   "execution_count": 1,
   "id": "ec225eda",
   "metadata": {},
   "outputs": [],
   "source": [
    "from qiskit import QuantumCircuit\n",
    "\n",
    "def deutsch_oracle(f):\n",
    "    qc = QuantumCircuit(2)\n",
    "    if f(0) == f(1): # constant\n",
    "        if f(0) == 1:\n",
    "            qc.x(0)\n",
    "    else: #balanced\n",
    "        if f(0) == 1:\n",
    "            qc.x(0)\n",
    "        qc.cx(0, 1)\n",
    "    qc.name = \"Deutsch Oracle\" # To show when we display the circuit\n",
    "    return qc"
   ]
  },
  {
   "cell_type": "code",
   "execution_count": 2,
   "id": "f1cad6c8",
   "metadata": {},
   "outputs": [],
   "source": [
    "def deutsch_circuit(f):\n",
    "    oracle = deutsch_oracle(f)\n",
    "    qc = QuantumCircuit(2,1)\n",
    "    qc.x(1)\n",
    "    qc.barrier()\n",
    "    qc.h(0)\n",
    "    qc.h(1)\n",
    "    qc.append(oracle, [0, 1])\n",
    "    qc.h(0)\n",
    "    qc.measure(0,0)\n",
    "    return qc"
   ]
  },
  {
   "cell_type": "code",
   "execution_count": 3,
   "id": "05601aab",
   "metadata": {},
   "outputs": [],
   "source": [
    "def interpret_result(result):\n",
    "    bit = int(list(result.keys())[0])\n",
    "    return 'Constant' if bit==0 else 'Balanced'"
   ]
  },
  {
   "cell_type": "code",
   "execution_count": 4,
   "id": "a81747dd",
   "metadata": {},
   "outputs": [],
   "source": [
    "from qiskit.providers.aer import AerSimulator\n",
    "from qiskit import assemble, transpile\n",
    "\n",
    "def simulate(circuit, shots=1000):\n",
    "    aer_sim = AerSimulator()\n",
    "    transpiled_circuit = transpile(circuit, aer_sim)\n",
    "    job = aer_sim.run(transpiled_circuit, shots=shots)  # run the experiment\n",
    "    result = job.result()  # get the results\n",
    "    # interpret the results as a \"counts\" dictionary\n",
    "    return result.get_counts()"
   ]
  },
  {
   "cell_type": "code",
   "execution_count": 5,
   "id": "03e8bd5b",
   "metadata": {},
   "outputs": [],
   "source": [
    "# Define the possible functions\n",
    "\n",
    "def b0(x):\n",
    "    return 0\n",
    "\n",
    "def b1(x):\n",
    "    return 1\n",
    "\n",
    "def identity(x):\n",
    "    return x\n",
    "\n",
    "def inverse(x):\n",
    "    return 1-x\n"
   ]
  },
  {
   "cell_type": "code",
   "execution_count": 6,
   "id": "4edb622c",
   "metadata": {},
   "outputs": [
    {
     "data": {
      "image/png": "[encoded data removed]",
      "text/plain": [
       "<Figure size 287.294x200.667 with 1 Axes>"
      ]
     },
     "execution_count": 6,
     "metadata": {},
     "output_type": "execute_result"
    }
   ],
   "source": [
    "## visualize inverse\n",
    "\n",
    "qc = deutsch_oracle(inverse)\n",
    "qc.draw(output='mpl')"
   ]
  },
  {
   "cell_type": "code",
   "execution_count": 7,
   "id": "d60c4576",
   "metadata": {},
   "outputs": [
    {
     "data": {
      "image/png": "[encoded data removed]",
      "text/plain": [
       "<Figure size 203.683x200.667 with 1 Axes>"
      ]
     },
     "execution_count": 7,
     "metadata": {},
     "output_type": "execute_result"
    }
   ],
   "source": [
    "## visualize b1\n",
    "\n",
    "\n",
    "qc = deutsch_oracle(b1)\n",
    "qc.draw(output='mpl')"
   ]
  },
  {
   "cell_type": "code",
   "execution_count": 8,
   "id": "966ddfba",
   "metadata": {},
   "outputs": [
    {
     "data": {
      "image/png": "[encoded data removed]",
      "text/plain": [
       "<Figure size 788.961x284.278 with 1 Axes>"
      ]
     },
     "execution_count": 8,
     "metadata": {},
     "output_type": "execute_result"
    }
   ],
   "source": [
    "#example \n",
    "\n",
    "qc0 = deutsch_circuit(b0)\n",
    "qc0.draw(output='mpl')"
   ]
  },
  {
   "cell_type": "code",
   "execution_count": 9,
   "id": "f9f4951c",
   "metadata": {},
   "outputs": [
    {
     "data": {
      "text/plain": [
       "'Constant'"
      ]
     },
     "execution_count": 9,
     "metadata": {},
     "output_type": "execute_result"
    }
   ],
   "source": [
    "result0 = simulate(qc0)\n",
    "result0\n",
    "interpret_result(result0)"
   ]
  },
  {
   "cell_type": "code",
   "execution_count": 10,
   "id": "ea2458f2",
   "metadata": {},
   "outputs": [
    {
     "data": {
      "text/plain": [
       "'Constant'"
      ]
     },
     "execution_count": 10,
     "metadata": {},
     "output_type": "execute_result"
    }
   ],
   "source": [
    "qc1 = deutsch_circuit(b1)\n",
    "result1 = simulate(qc1)\n",
    "interpret_result(result1)"
   ]
  },
  {
   "cell_type": "code",
   "execution_count": 11,
   "id": "ae4875d9",
   "metadata": {},
   "outputs": [
    {
     "data": {
      "text/plain": [
       "'Balanced'"
      ]
     },
     "execution_count": 11,
     "metadata": {},
     "output_type": "execute_result"
    }
   ],
   "source": [
    "qc2 = deutsch_circuit(identity)\n",
    "result2 = simulate(qc2)\n",
    "interpret_result(result2)"
   ]
  },
  {
   "cell_type": "code",
   "execution_count": 12,
   "id": "ea54b5db",
   "metadata": {},
   "outputs": [
    {
     "data": {
      "text/plain": [
       "'Balanced'"
      ]
     },
     "execution_count": 12,
     "metadata": {},
     "output_type": "execute_result"
    }
   ],
   "source": [
    "qc3 = deutsch_circuit(inverse)\n",
    "result3 = simulate(qc3)\n",
    "interpret_result(result3)"
   ]
  },
  {
   "cell_type": "code",
   "execution_count": null,
   "id": "bec27961",
   "metadata": {},
   "outputs": [],
   "source": []
  }
 ],
 "metadata": {
  "kernelspec": {
   "display_name": "quantum-computing",
   "language": "python",
   "name": "quantum-computing"
  },
  "language_info": {
   "codemirror_mode": {
    "name": "ipython",
    "version": 3
   },
   "file_extension": ".py",
   "mimetype": "text/x-python",
   "name": "python",
   "nbconvert_exporter": "python",
   "pygments_lexer": "ipython3",
   "version": "3.10.9"
  }
 },
 "nbformat": 4,
 "nbformat_minor": 5
}
