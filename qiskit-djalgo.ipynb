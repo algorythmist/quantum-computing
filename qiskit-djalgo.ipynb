{
 "cells": [
  {
   "cell_type": "code",
   "execution_count": 1,
   "id": "6bf1efee",
   "metadata": {},
   "outputs": [],
   "source": [
    "import numpy as np\n",
    "from qiskit import QuantumCircuit, assemble, transpile\n",
    "from qiskit import Aer # Simulator\n",
    "from qiskit.visualization import plot_histogram"
   ]
  },
  {
   "cell_type": "markdown",
   "id": "890343dd",
   "metadata": {},
   "source": [
    "# Deutsch-Jozsa Algorithm"
   ]
  },
  {
   "cell_type": "code",
   "execution_count": 2,
   "id": "3934c66c",
   "metadata": {},
   "outputs": [],
   "source": [
    "def position_X_gates(circuit:QuantumCircuit, bit_string:str):\n",
    "    # place the X gates\n",
    "    for qubit in range(len(bit_string)):\n",
    "        if bit_string[qubit] == '1':\n",
    "            circuit.x(qubit)\n",
    "\n",
    "    \n",
    "def dj_oracle(qubits:int, balanced:bool = True):\n",
    "    n = qubits\n",
    "    # This circuit has n+1 qubits: the size of the input,\n",
    "    # plus one output qubit\n",
    "    oracle_qc = QuantumCircuit(n+1)\n",
    "    if balanced:\n",
    "        # generate a random string that tells which CNOTs to activate\n",
    "        b = np.random.randint(1,2**n)\n",
    "        b_str = format(b, '0'+str(n)+'b')\n",
    "        print(b_str)\n",
    "        \n",
    "        # position the first row of X gates\n",
    "        position_X_gates(oracle_qc, b_str)\n",
    "        \n",
    "        # Do the controlled-NOT gates for each qubit, \n",
    "        # using the output qubit as the target:\n",
    "        for qubit in range(n):\n",
    "            oracle_qc.cx(qubit, n)\n",
    "            \n",
    "        # position the last row of X gates\n",
    "        position_X_gates(oracle_qc, b_str)\n",
    "    else:\n",
    "        # decide the oracle output (0 or 1)\n",
    "        output = np.random.randint(2)\n",
    "        if output == 1:\n",
    "            oracle_qc.x(n)\n",
    "    \n",
    "    oracle_gate = oracle_qc.to_gate()\n",
    "    oracle_gate.name = \"Deutsch-Jozsa Oracle\" # To show when we display the circuit\n",
    "    return oracle_gate"
   ]
  },
  {
   "cell_type": "code",
   "execution_count": 3,
   "id": "02b08a42",
   "metadata": {},
   "outputs": [],
   "source": [
    "def hadamard(circuit:QuantumCircuit, qubits):\n",
    "    for qubit in range(qubits):\n",
    "        circuit.h(qubit)\n",
    "\n",
    "def dj_algorithm(oracle, qubits:int):\n",
    "    n = qubits\n",
    "    dj_circuit = QuantumCircuit(n+1, n)\n",
    "    # Set up the output qubit:\n",
    "    dj_circuit.x(n)\n",
    "    dj_circuit.h(n)\n",
    "    # set the input register in superposition:\n",
    "    hadamard(dj_circuit, n)\n",
    "    #introduce the oracle gate as a subroutine\n",
    "    dj_circuit.append(oracle, range(n+1))\n",
    "    # reverse superposition:\n",
    "    hadamard(dj_circuit, n)\n",
    "    \n",
    "    #measure first register\n",
    "    dj_circuit.measure(0,0)\n",
    "    \n",
    "    return dj_circuit\n",
    "    "
   ]
  },
  {
   "cell_type": "code",
   "execution_count": 4,
   "id": "065383a0",
   "metadata": {},
   "outputs": [
    {
     "data": {
      "text/html": [
       "<pre style=\"word-wrap: normal;white-space: pre;background: #fff0;line-height: 1.1;font-family: &quot;Courier New&quot;,Courier,monospace\">     ┌───┐     ┌───────────────────────┐┌───┐┌─┐\n",
       "q_0: ┤ H ├─────┤0                      ├┤ H ├┤M├\n",
       "     ├───┤     │                       │├───┤└╥┘\n",
       "q_1: ┤ H ├─────┤1                      ├┤ H ├─╫─\n",
       "     ├───┤     │                       │├───┤ ║ \n",
       "q_2: ┤ H ├─────┤2 Deutsch-Jozsa Oracle ├┤ H ├─╫─\n",
       "     ├───┤     │                       │├───┤ ║ \n",
       "q_3: ┤ H ├─────┤3                      ├┤ H ├─╫─\n",
       "     ├───┤┌───┐│                       │└───┘ ║ \n",
       "q_4: ┤ X ├┤ H ├┤4                      ├──────╫─\n",
       "     └───┘└───┘└───────────────────────┘      ║ \n",
       "c: 4/═════════════════════════════════════════╩═\n",
       "                                              0 </pre>"
      ],
      "text/plain": [
       "     ┌───┐     ┌───────────────────────┐┌───┐┌─┐\n",
       "q_0: ┤ H ├─────┤0                      ├┤ H ├┤M├\n",
       "     ├───┤     │                       │├───┤└╥┘\n",
       "q_1: ┤ H ├─────┤1                      ├┤ H ├─╫─\n",
       "     ├───┤     │                       │├───┤ ║ \n",
       "q_2: ┤ H ├─────┤2 Deutsch-Jozsa Oracle ├┤ H ├─╫─\n",
       "     ├───┤     │                       │├───┤ ║ \n",
       "q_3: ┤ H ├─────┤3                      ├┤ H ├─╫─\n",
       "     ├───┤┌───┐│                       │└───┘ ║ \n",
       "q_4: ┤ X ├┤ H ├┤4                      ├──────╫─\n",
       "     └───┘└───┘└───────────────────────┘      ║ \n",
       "c: 4/═════════════════════════════════════════╩═\n",
       "                                              0 "
      ]
     },
     "execution_count": 4,
     "metadata": {},
     "output_type": "execute_result"
    }
   ],
   "source": [
    "n = 4\n",
    "const_oracle = dj_oracle(n, False)\n",
    "dj_circuit = dj_algorithm(const_oracle, n)\n",
    "dj_circuit.draw()"
   ]
  },
  {
   "cell_type": "code",
   "execution_count": 5,
   "id": "bc343da5",
   "metadata": {},
   "outputs": [
    {
     "data": {
      "image/png": "[encoded data removed]",
      "text/plain": [
       "<Figure size 504x360 with 1 Axes>"
      ]
     },
     "execution_count": 5,
     "metadata": {},
     "output_type": "execute_result"
    },
    {
     "data": {
      "image/png": "[encoded data removed]",
      "text/plain": [
       "<Figure size 504x360 with 1 Axes>"
      ]
     },
     "metadata": {
      "needs_background": "light"
     },
     "output_type": "display_data"
    }
   ],
   "source": [
    "# use local simulator\n",
    "aer_sim = Aer.get_backend('aer_simulator')\n",
    "transpiled_dj_circuit = transpile(dj_circuit, aer_sim)\n",
    "qobj = assemble(transpiled_dj_circuit)\n",
    "results = aer_sim.run(qobj).result()\n",
    "answer = results.get_counts()\n",
    "plot_histogram(answer)"
   ]
  },
  {
   "cell_type": "code",
   "execution_count": 6,
   "id": "b5c323ed",
   "metadata": {},
   "outputs": [
    {
     "name": "stdout",
     "output_type": "stream",
     "text": [
      "1011\n"
     ]
    },
    {
     "data": {
      "text/html": [
       "<pre style=\"word-wrap: normal;white-space: pre;background: #fff0;line-height: 1.1;font-family: &quot;Courier New&quot;,Courier,monospace\">     ┌───┐     ┌───────────────────────┐┌───┐┌─┐\n",
       "q_0: ┤ H ├─────┤0                      ├┤ H ├┤M├\n",
       "     ├───┤     │                       │├───┤└╥┘\n",
       "q_1: ┤ H ├─────┤1                      ├┤ H ├─╫─\n",
       "     ├───┤     │                       │├───┤ ║ \n",
       "q_2: ┤ H ├─────┤2 Deutsch-Jozsa Oracle ├┤ H ├─╫─\n",
       "     ├───┤     │                       │├───┤ ║ \n",
       "q_3: ┤ H ├─────┤3                      ├┤ H ├─╫─\n",
       "     ├───┤┌───┐│                       │└───┘ ║ \n",
       "q_4: ┤ X ├┤ H ├┤4                      ├──────╫─\n",
       "     └───┘└───┘└───────────────────────┘      ║ \n",
       "c: 4/═════════════════════════════════════════╩═\n",
       "                                              0 </pre>"
      ],
      "text/plain": [
       "     ┌───┐     ┌───────────────────────┐┌───┐┌─┐\n",
       "q_0: ┤ H ├─────┤0                      ├┤ H ├┤M├\n",
       "     ├───┤     │                       │├───┤└╥┘\n",
       "q_1: ┤ H ├─────┤1                      ├┤ H ├─╫─\n",
       "     ├───┤     │                       │├───┤ ║ \n",
       "q_2: ┤ H ├─────┤2 Deutsch-Jozsa Oracle ├┤ H ├─╫─\n",
       "     ├───┤     │                       │├───┤ ║ \n",
       "q_3: ┤ H ├─────┤3                      ├┤ H ├─╫─\n",
       "     ├───┤┌───┐│                       │└───┘ ║ \n",
       "q_4: ┤ X ├┤ H ├┤4                      ├──────╫─\n",
       "     └───┘└───┘└───────────────────────┘      ║ \n",
       "c: 4/═════════════════════════════════════════╩═\n",
       "                                              0 "
      ]
     },
     "execution_count": 6,
     "metadata": {},
     "output_type": "execute_result"
    }
   ],
   "source": [
    "bal_oracle = dj_oracle(n, True)\n",
    "dj_circuit = dj_algorithm(bal_oracle, n)\n",
    "dj_circuit.draw()"
   ]
  },
  {
   "cell_type": "code",
   "execution_count": 7,
   "id": "99d723bc",
   "metadata": {},
   "outputs": [
    {
     "data": {
      "image/png": "[encoded data removed]",
      "text/plain": [
       "<Figure size 504x360 with 1 Axes>"
      ]
     },
     "execution_count": 7,
     "metadata": {},
     "output_type": "execute_result"
    },
    {
     "data": {
      "image/png": "[encoded data removed]",
      "text/plain": [
       "<Figure size 504x360 with 1 Axes>"
      ]
     },
     "metadata": {
      "needs_background": "light"
     },
     "output_type": "display_data"
    }
   ],
   "source": [
    "# use local simulator\n",
    "aer_sim = Aer.get_backend('aer_simulator')\n",
    "transpiled_dj_circuit = transpile(dj_circuit, aer_sim)\n",
    "qobj = assemble(transpiled_dj_circuit)\n",
    "results = aer_sim.run(qobj).result()\n",
    "answer = results.get_counts()\n",
    "plot_histogram(answer)"
   ]
  },
  {
   "cell_type": "code",
   "execution_count": null,
   "id": "56df01e5",
   "metadata": {},
   "outputs": [],
   "source": []
  }
 ],
 "metadata": {
  "kernelspec": {
   "display_name": "quantum-computing",
   "language": "python",
   "name": "quantum-computing"
  },
  "language_info": {
   "codemirror_mode": {
    "name": "ipython",
    "version": 3
   },
   "file_extension": ".py",
   "mimetype": "text/x-python",
   "name": "python",
   "nbconvert_exporter": "python",
   "pygments_lexer": "ipython3",
   "version": "3.9.12"
  },
  "latex_envs": {
   "LaTeX_envs_menu_present": true,
   "autoclose": false,
   "autocomplete": true,
   "bibliofile": "biblio.bib",
   "cite_by": "apalike",
   "current_citInitial": 1,
   "eqLabelWithNumbers": true,
   "eqNumInitial": 1,
   "hotkeys": {
    "equation": "Ctrl-E",
    "itemize": "Ctrl-I"
   },
   "labels_anchors": false,
   "latex_user_defs": false,
   "report_style_numbering": false,
   "user_envs_cfg": false
  }
 },
 "nbformat": 4,
 "nbformat_minor": 5
}
