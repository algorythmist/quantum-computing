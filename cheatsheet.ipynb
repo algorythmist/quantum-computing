{
 "cells": [
  {
   "cell_type": "markdown",
   "id": "7d2f88fd",
   "metadata": {},
   "source": [
    "#### This cell is  used to define bras, kets, brackets for latex\n",
    "$\n",
    "\\newcommand{\\ket}[1]{\\left|{#1}\\right\\rangle}\n",
    "\\newcommand{\\bra}[1]{\\left\\langle{#1}\\right|}\n",
    "\\newcommand{\\braket}[2]{\\left\\langle{#1}\\middle|{#2}\\right\\rangle}\n",
    "$"
   ]
  },
  {
   "cell_type": "markdown",
   "id": "a06d3020",
   "metadata": {},
   "source": [
    "$$\n",
    "X = \\begin{bmatrix}0 & 1\\\\ 1 & 0\\end{bmatrix},\n",
    "Y = \\begin{bmatrix}0 & -i\\\\ i & 0\\end{bmatrix},\n",
    "Z = \\begin{bmatrix}1 & 0\\\\ 0 & -1\\end{bmatrix}\n",
    "$$"
   ]
  },
  {
   "cell_type": "markdown",
   "id": "eac5c78b",
   "metadata": {},
   "source": [
    "$$\n",
    "S = \\begin{bmatrix}1 & 0\\\\ 0 & i\\end{bmatrix},\n",
    "T = \\begin{bmatrix}1 & 0\\\\ 0 & e^{i\\pi/4}\\end{bmatrix}\n",
    "$$"
   ]
  },
  {
   "cell_type": "markdown",
   "id": "69b35c11",
   "metadata": {},
   "source": [
    "$$\n",
    "\\sqrt{NOT} =\\frac{1}{\\sqrt{2}} \\begin{bmatrix}1 & -1\\\\ 1 & 1\\end{bmatrix}\n",
    "$$"
   ]
  },
  {
   "cell_type": "markdown",
   "id": "e5f68088",
   "metadata": {},
   "source": [
    "$$\n",
    "X^2 = Y^2 = Z^2 = I\\\\\n",
    "H = \\frac{1}{2}(X+Z)\\\\\n",
    "X = HZH\\\\\n",
    "Z = HXH\\\\\n",
    "-Y = HYH\\\\\n",
    "S = T^2\\\\\n",
    "-Y = XYX\n",
    "$$"
   ]
  },
  {
   "cell_type": "markdown",
   "id": "314558c9",
   "metadata": {},
   "source": [
    "$$\n",
    "R(\\theta) = \\begin{bmatrix}1 & 0\\\\ 0 & e^{i\\theta}\\end{bmatrix}\n",
    "$$\n",
    "\n",
    "$$\n",
    "R_X(\\theta) = \\cos\\frac{\\theta}{2}I -i\\sin\\frac{\\theta}{2}X = \n",
    "\\begin{bmatrix}\n",
    "\\cos\\frac{\\theta}{2} & -i\\sin\\frac{\\theta}{2}\\\\ -i\\sin\\frac{\\theta}{2} & \\cos\\frac{\\theta}{2}\n",
    "\\end{bmatrix}\n",
    "$$"
   ]
  },
  {
   "cell_type": "markdown",
   "id": "52b9d97b",
   "metadata": {},
   "source": [
    "$$\n",
    "R_Y(\\theta) = \\cos\\frac{\\theta}{2}I -i\\sin\\frac{\\theta}{2}Y = \n",
    "\\begin{bmatrix}\n",
    "\\cos\\frac{\\theta}{2} & -\\sin\\frac{\\theta}{2}\\\\ \\sin\\frac{\\theta}{2} & \\cos\\frac{\\theta}{2}\n",
    "\\end{bmatrix}\n",
    "$$\n",
    "\n",
    "$$\n",
    "R_Z(\\theta) = \\cos\\frac{\\theta}{2}I -i\\sin\\frac{\\theta}{2}Z = \n",
    "\\begin{bmatrix}\n",
    "e^{-i\\theta/2} & 0\\\\ 0 & e^{i\\theta/2}\n",
    "\\end{bmatrix}\n",
    "$$"
   ]
  },
  {
   "cell_type": "markdown",
   "id": "2687c715",
   "metadata": {},
   "source": [
    "### Bloch Sphere (canonical) representation \n",
    "\n",
    "$$\n",
    "\\ket{\\psi} = \\cos\\theta\\ket{0} + e^{i\\phi}\\sin\\theta\\ket{1}\n",
    "$$"
   ]
  },
  {
   "cell_type": "code",
   "execution_count": null,
   "id": "c795006b",
   "metadata": {},
   "outputs": [],
   "source": []
  }
 ],
 "metadata": {
  "kernelspec": {
   "display_name": "quantum-computing",
   "language": "python",
   "name": "quantum-computing"
  },
  "language_info": {
   "codemirror_mode": {
    "name": "ipython",
    "version": 3
   },
   "file_extension": ".py",
   "mimetype": "text/x-python",
   "name": "python",
   "nbconvert_exporter": "python",
   "pygments_lexer": "ipython3",
   "version": "3.10.9"
  }
 },
 "nbformat": 4,
 "nbformat_minor": 5
}
