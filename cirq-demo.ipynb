{
 "cells": [
  {
   "cell_type": "code",
   "execution_count": 16,
   "id": "cf848e94",
   "metadata": {},
   "outputs": [],
   "source": [
    "import cirq\n",
    "\n",
    "# Single qubit grid\n",
    "qubit = cirq.GridQubit(0,0)\n",
    "\n",
    "# Create a cirquit with a NOT gate and a measurment\n",
    "circuit1 = cirq.Circuit(cirq.X(qubit), cirq.measure(qubit, key='m'))\n"
   ]
  },
  {
   "cell_type": "code",
   "execution_count": 17,
   "id": "49c301d0",
   "metadata": {},
   "outputs": [
    {
     "data": {
      "text/html": [
       "<pre style=\"overflow: auto; white-space: pre;\">(0, 0): ───X───M(&#x27;m&#x27;)───</pre>"
      ],
      "text/plain": [
       "(0, 0): ───X───M('m')───"
      ]
     },
     "execution_count": 17,
     "metadata": {},
     "output_type": "execute_result"
    }
   ],
   "source": [
    "# Display the cirquit\n",
    "\n",
    "circuit1"
   ]
  },
  {
   "cell_type": "code",
   "execution_count": 20,
   "id": "88dd1154",
   "metadata": {},
   "outputs": [
    {
     "data": {
      "text/plain": [
       "m=1111111111"
      ]
     },
     "execution_count": 20,
     "metadata": {},
     "output_type": "execute_result"
    }
   ],
   "source": [
    "# Create a simulator and simulate several times\n",
    "\n",
    "simulator = cirq.Simulator()\n",
    "result = simulator.run(circuit1, repetitions=10)\n",
    "result"
   ]
  },
  {
   "cell_type": "markdown",
   "id": "69b34c5a",
   "metadata": {},
   "source": [
    "## Prepare a Bell state"
   ]
  },
  {
   "cell_type": "code",
   "execution_count": 21,
   "id": "f4e0a41d",
   "metadata": {},
   "outputs": [],
   "source": [
    "# Create a 2 qubit circuit\n",
    "\n",
    "qreg = [cirq.LineQubit(x) for x in range(2)]\n",
    "circuit2 = cirq.Circuit()\n",
    "\n",
    "circuit2.append([cirq.H(qreg[0]), cirq.CNOT(qreg[0],qreg[1])])"
   ]
  },
  {
   "cell_type": "code",
   "execution_count": 22,
   "id": "31e00b85",
   "metadata": {},
   "outputs": [],
   "source": [
    "# Add a measurement\n",
    "\n",
    "circuit2.append(cirq.measure(*qreg, key=\"z\"))"
   ]
  },
  {
   "cell_type": "code",
   "execution_count": 23,
   "id": "52ca53c8",
   "metadata": {},
   "outputs": [
    {
     "name": "stdout",
     "output_type": "stream",
     "text": [
      "0: ───H───@───M('z')───\n",
      "          │   │\n",
      "1: ───────X───M────────\n"
     ]
    }
   ],
   "source": [
    "print(circuit2)"
   ]
  },
  {
   "cell_type": "code",
   "execution_count": 26,
   "id": "cf75a37a",
   "metadata": {},
   "outputs": [],
   "source": [
    "# Create a simulator and simulate several times\n",
    "\n",
    "simulator = cirq.Simulator()\n",
    "result = simulator.run(circuit2, repetitions=100)"
   ]
  },
  {
   "cell_type": "code",
   "execution_count": 27,
   "id": "bcbfd2f2",
   "metadata": {},
   "outputs": [
    {
     "name": "stdout",
     "output_type": "stream",
     "text": [
      "Counter({3: 55, 0: 45})\n"
     ]
    }
   ],
   "source": [
    "# obtain statistics of results\n",
    "print(result.histogram(key=\"z\"))"
   ]
  },
  {
   "cell_type": "code",
   "execution_count": null,
   "id": "30a552b6",
   "metadata": {},
   "outputs": [],
   "source": []
  }
 ],
 "metadata": {
  "kernelspec": {
   "display_name": "quantum-computing",
   "language": "python",
   "name": "quantum-computing"
  },
  "language_info": {
   "codemirror_mode": {
    "name": "ipython",
    "version": 3
   },
   "file_extension": ".py",
   "mimetype": "text/x-python",
   "name": "python",
   "nbconvert_exporter": "python",
   "pygments_lexer": "ipython3",
   "version": "3.9.12"
  },
  "latex_envs": {
   "LaTeX_envs_menu_present": true,
   "autoclose": false,
   "autocomplete": true,
   "bibliofile": "biblio.bib",
   "cite_by": "apalike",
   "current_citInitial": 1,
   "eqLabelWithNumbers": true,
   "eqNumInitial": 1,
   "hotkeys": {
    "equation": "Ctrl-E",
    "itemize": "Ctrl-I"
   },
   "labels_anchors": false,
   "latex_user_defs": false,
   "report_style_numbering": false,
   "user_envs_cfg": false
  }
 },
 "nbformat": 4,
 "nbformat_minor": 5
}
