{
 "cells": [
  {
   "cell_type": "markdown",
   "id": "dbf88281",
   "metadata": {},
   "source": [
    "#### This cell is  used to define bras, kets, brackets for latex\n",
    "$\n",
    "\\newcommand{\\ket}[1]{\\left|{#1}\\right\\rangle}\n",
    "\\newcommand{\\bra}[1]{\\left\\langle{#1}\\right|}\n",
    "\\newcommand{\\braket}[2]{\\left\\langle{#1}\\middle|{#2}\\right\\rangle}\n",
    "$"
   ]
  },
  {
   "cell_type": "markdown",
   "id": "1ec12e10",
   "metadata": {},
   "source": [
    "# Oracle-based algorithms\n",
    "\n",
    "The structure of several oracle-based algorithms can be summarized by the following process:\n",
    "\n",
    "1. We are given a function $f:[0,1]^n \\rightarrow [0,1]^m$\n",
    "2. We create a circuit with $n$ input qubits and $m$ control qubits.\n",
    "3. We put the input qubits in superpositions using Hadamard operators. The initial state of the control qubits depends on the problem.\n",
    "4. We apply the controlled-f operator $U_f$ to all the qubits \n",
    "5. We apply another set of Hadamard to the input qubits and measure them.\n",
    "\n",
    "The following is the pictorial representation of the algorithms:"
   ]
  },
  {
   "cell_type": "code",
   "execution_count": 18,
   "id": "c2219804",
   "metadata": {},
   "outputs": [
    {
     "data": {
      "image/png": "[encoded data removed]",
      "text/plain": [
       "<Figure size 723.984x702.333 with 1 Axes>"
      ]
     },
     "execution_count": 18,
     "metadata": {},
     "output_type": "execute_result"
    }
   ],
   "source": [
    "import numpy as np\n",
    "from qiskit import QuantumCircuit, QuantumRegister, ClassicalRegister\n",
    "from qc.qiskit_helper import hadamard, measure, simulate\n",
    "\n",
    "n = 4\n",
    "m = 3\n",
    "\n",
    "gate = QuantumCircuit(n+m).to_gate()\n",
    "gate.name = \"Uf\"\n",
    "\n",
    "qr = QuantumRegister(n, 'qb')\n",
    "anc = QuantumRegister(m, 'ctl')\n",
    "cr = ClassicalRegister(n, 'cb')\n",
    "qc = QuantumCircuit(qr, anc, cr)\n",
    "hadamard(qc, n)\n",
    "qc.append(gate,  range(n+m))\n",
    "hadamard(qc, n)\n",
    "measure(qc, n)\n",
    "qc.draw(output='mpl')"
   ]
  },
  {
   "cell_type": "markdown",
   "id": "ed689117",
   "metadata": {},
   "source": [
    "If we start the input qubits in state $\\ket{0}$ and control qubits in state $\\ket{y}$, the circuit can be represented tensorially as:\n",
    "\n",
    "$$\n",
    "(H^{\\otimes n}\\otimes I)U_f(H^{\\otimes n}\\otimes I)\\ket{0}\\ket{y}\n",
    "$$"
   ]
  },
  {
   "cell_type": "markdown",
   "id": "705838f8",
   "metadata": {},
   "source": [
    "$$\n",
    "(H^{\\otimes n}\\otimes I)\\ket{0}\\ket{y} = (H^{\\otimes n}\\ket{0}\\ket{y} =  \\frac{1}{\\sqrt{2^n}}\\sum_{x\\in[0,1]^n}\\ket{x}\\ket{y}\n",
    "$$"
   ]
  },
  {
   "cell_type": "markdown",
   "id": "d239e0a0",
   "metadata": {},
   "source": [
    "$$\n",
    "U_f(H^{\\otimes n}\\otimes I)\\ket{0}\\ket{y} = (H^{\\otimes n}\\ket{0}\\ket{y} =  \n",
    "\\frac{1}{\\sqrt{2^n}}\\sum_{x\\in[0,1]^n}\\ket{x}\\ket{y\\otimes f(x)}\n",
    "$$"
   ]
  },
  {
   "cell_type": "markdown",
   "id": "a5e3ae5c",
   "metadata": {},
   "source": [
    "$$\n",
    "(H^{\\otimes n}\\otimes I)U_f(H^{\\otimes n}\\otimes I)\\ket{0}\\ket{y} = (H^{\\otimes n}\\ket{0}\\ket{y} =  \n",
    "\\frac{1}{2^n}\\sum_{x\\in[0,1]^n}\\sum_{z\\in[0,1]^n}(-1)^{<z,x>}\\ket{z}\\ket{y\\otimes f(x)}\n",
    "$$"
   ]
  },
  {
   "cell_type": "markdown",
   "id": "0b509f36",
   "metadata": {},
   "source": [
    "### Deutsch-Josza\n",
    "\n",
    "$$\n",
    "f(x) = constant/balanced, \\ket{y} = \\ket{-}\n",
    "$$"
   ]
  },
  {
   "cell_type": "markdown",
   "id": "d075d146",
   "metadata": {},
   "source": [
    "$$\n",
    "\\ket{-\\otimes f(x)} = \\frac{1}{\\sqrt{2}}(\\ket{f(x)}-\\ket{\\bar{f}(x)} = (-1)^{f(x)}\\ket{-}\n",
    "$$"
   ]
  },
  {
   "cell_type": "markdown",
   "id": "050aaa07",
   "metadata": {},
   "source": [
    "$$\n",
    "(H^{\\otimes n}\\otimes I)U_f(H^{\\otimes n}\\otimes I)\\ket{0}\\ket{-} = \n",
    "\\frac{1}{2^n}\\sum_{x\\in[0,1]^n}\\sum_{z\\in[0,1]^n}(-1)^{<z,x>}(-1)^{f(x)}\\ket{z}\\ket{-} =\\\\\n",
    "\\frac{1}{2^n}\\sum_{z\\in[0,1]^n}\\sum_{x\\in[0,1]^n}(-1)^{<z,x>\\oplus f(x)}\\ket{z}\\ket{-}\n",
    "$$"
   ]
  },
  {
   "cell_type": "markdown",
   "id": "a51f1d86",
   "metadata": {},
   "source": [
    "The amplitude correspoding to $\\ket{0}$ is \n",
    "$\\frac{1}{2^n}\\sum_{x\\in[0,1]^n}(-1)^{<0,x>\\oplus f(x)} = \\frac{1}{2^n}\\sum_{x\\in[0,1]^n}(-1)^{f(x)}$,\n",
    "\n",
    "If $f$ is constant, this is equal to  $\\frac{1}{2^n}\\sum_{x\\in[0,1]^n}(-1)^c = \\pm 1$, so the probability of measuring $\\ket{0}$ is 1. "
   ]
  },
  {
   "cell_type": "markdown",
   "id": "d21c4adc",
   "metadata": {},
   "source": [
    "### Bernstein-Vazirani \n",
    "\n",
    "$$\n",
    "f(x) = <c,x>,  \\ket{y} = \\ket{-}\n",
    "$$\n",
    "\n",
    "As before, we have \n",
    "\n",
    "$$\n",
    "U_f(H^{\\otimes n}\\otimes I)\\ket{0}\\ket{-} = \n",
    "\\frac{1}{\\sqrt{2^n}}\\sum_{x\\in[0,1]^n}\\ket{x}\\ket{y\\otimes f(x)} = \\\\\n",
    "\\frac{1}{\\sqrt{2^n}}\\sum_{x\\in[0,1]^n}(-1)^{ f(x)}\\ket{z}\\ket{-}=\\\\\n",
    "\\frac{1}{\\sqrt{2^n}}\\sum_{x\\in[0,1]^n}(-1)^{<c,x>}\\ket{x}\\ket{-} = \n",
    "$$\n",
    "\n",
    "But this is just the Hadamard transform of $\\ket{c}$, so applying another Hadamard transform, recovers the state $\\ket{c}$:\n",
    "\n",
    "$$\n",
    "(H^{\\otimes n}\\otimes I)U_f(H^{\\otimes n}\\otimes I)\\ket{0}\\ket{-} = \\\\\n",
    "(H^{\\otimes n}\\otimes I)\\frac{1}{\\sqrt{2^n}}\\sum_{x\\in[0,1]^n}(-1)^{<c,x>}\\ket{x}\\ket{-} = \\\\\n",
    "\\ket{c}\\ket{-}\n",
    "$$"
   ]
  },
  {
   "cell_type": "markdown",
   "id": "99071e22",
   "metadata": {},
   "source": [
    "### Simon's Problem \n",
    "\n",
    "$f: [0,1]^n \\rightarrow [0,1]^n$ with $f(x) = f(y)$ iff $x = y \\oplus c$ for some $c$ \n",
    "\n",
    "In this case, we set $y = \\ket{0}_n$ "
   ]
  },
  {
   "cell_type": "markdown",
   "id": "209c5fad",
   "metadata": {},
   "source": [
    "$$\n",
    "(H^{\\otimes n}\\otimes I)U_f(H^{\\otimes n}\\otimes I)\\ket{0}\\ket{0} = (H^{\\otimes n}\\ket{0}\\ket{0} =  \n",
    "\\frac{1}{2^n}\\sum_{x\\in[0,1]^n}\\sum_{z\\in[0,1]^n}(-1)^{<z,x>}\\ket{z}\\ket{f(x)}\n",
    "$$"
   ]
  },
  {
   "cell_type": "markdown",
   "id": "79eb07f6",
   "metadata": {},
   "source": [
    "For a fixed $f$, we can group together the two coefficients of $\\ket{f(x)}$:\n",
    "\n",
    "$$\n",
    "\\frac{1}{2}\\left((-1)^{<z,x>}+(-1)^{<z,x\\oplus c>}\\right) =\\\\\n",
    "\\frac{1}{2}\\left((-1)^{<z,x>}+(-1)^{<z,x>}(-1)^{<z,c>}\\right)\n",
    "$$"
   ]
  },
  {
   "cell_type": "markdown",
   "id": "0ad978c6",
   "metadata": {},
   "source": [
    "If $<z,c> = 1$, then the coefficient is 0, so the only measurable coefficients, are the ones where $<z,c> = 0$.\n"
   ]
  },
  {
   "cell_type": "markdown",
   "id": "988ccc03",
   "metadata": {},
   "source": [
    "Whereas repeating the experiment can produce up to $2^{n-1}$ results, we only need $n$ distinct results to create a system of boolean linear equations:\n",
    "\n",
    "$$\n",
    "<𝑧_1,𝑐>=0\\\\\n",
    "\\ldots\\\\\n",
    "<𝑧_n,𝑐>=0\n",
    "$$\n",
    "\n",
    "which can be solved for $c$ in $O(n)$ time."
   ]
  },
  {
   "cell_type": "code",
   "execution_count": null,
   "id": "782ddebc",
   "metadata": {},
   "outputs": [],
   "source": []
  }
 ],
 "metadata": {
  "kernelspec": {
   "display_name": "quantum-computing",
   "language": "python",
   "name": "quantum-computing"
  },
  "language_info": {
   "codemirror_mode": {
    "name": "ipython",
    "version": 3
   },
   "file_extension": ".py",
   "mimetype": "text/x-python",
   "name": "python",
   "nbconvert_exporter": "python",
   "pygments_lexer": "ipython3",
   "version": "3.10.9"
  }
 },
 "nbformat": 4,
 "nbformat_minor": 5
}
