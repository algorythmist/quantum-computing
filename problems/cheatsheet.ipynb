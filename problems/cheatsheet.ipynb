{
 "cells": [
  {
   "cell_type": "markdown",
   "id": "7d2f88fd",
   "metadata": {},
   "source": [
    "#### This cell is  used to define bras, kets, brackets for latex\n",
    "$\n",
    "\\newcommand{\\ket}[1]{\\left|{#1}\\right\\rangle}\n",
    "\\newcommand{\\bra}[1]{\\left\\langle{#1}\\right|}\n",
    "\\newcommand{\\braket}[2]{\\left\\langle{#1}\\middle|{#2}\\right\\rangle}\n",
    "$"
   ]
  },
  {
   "cell_type": "markdown",
   "id": "92145655",
   "metadata": {},
   "source": [
    "## States\n",
    "\n",
    "The following notations are equivalent\n",
    "\n",
    "$$\n",
    "\\ket{101} \\equiv \\ket{1}\\ket{0}\\ket{1} \\equiv \\ket{1}\\otimes\\ket{0}\\otimes\\ket{1} \\equiv \\ket{5}_3\n",
    "$$"
   ]
  },
  {
   "cell_type": "markdown",
   "id": "3ae792e3",
   "metadata": {},
   "source": [
    "$$\n",
    "\\ket{+} = \\frac{1}{\\sqrt{2}}(\\ket{0}+\\ket{1})\n",
    "$$\n",
    "$$\n",
    "\\ket{-} = \\frac{1}{\\sqrt{2}}(\\ket{0}-\\ket{1})\n",
    "$$"
   ]
  },
  {
   "cell_type": "markdown",
   "id": "23f04851",
   "metadata": {},
   "source": [
    "### Binary \"inner product\"\n",
    "\n",
    "Count the number of times both bits are one:\n",
    "\n",
    "$\n",
    "<x,y> := (x_0\\land y_0)\\oplus \\ldots \\oplus(x_{n-1}\\land  y_{n-1})\n",
    "$\n",
    "\n",
    "#### Properties\n",
    "\n",
    "(i) $<x, y\\oplus y'> = <x,y>\\oplus <x,y'>\\\\$\n",
    "    $<x\\oplus x', y> = <x,y>\\oplus <x',y>$\n",
    "\n",
    "(ii) $<0\\cdot x, y> = <0^n, y> = 0\\\\$\n",
    "$<x, 0\\cdot y> = <x, 0^n> = 0$"
   ]
  },
  {
   "cell_type": "markdown",
   "id": "083ff46e",
   "metadata": {},
   "source": [
    "### Bloch Sphere (canonical) representation \n",
    "\n",
    "$$\n",
    "\\ket{\\psi} = \\cos\\theta\\ket{0} + e^{i\\phi}\\sin\\theta\\ket{1}\n",
    "$$"
   ]
  },
  {
   "cell_type": "markdown",
   "id": "5a8e429a",
   "metadata": {},
   "source": [
    "## Gates"
   ]
  },
  {
   "cell_type": "markdown",
   "id": "a06d3020",
   "metadata": {},
   "source": [
    "$$\n",
    "X = \\begin{bmatrix}0 & 1\\\\ 1 & 0\\end{bmatrix},\n",
    "Y = \\begin{bmatrix}0 & -i\\\\ i & 0\\end{bmatrix},\n",
    "Z = \\begin{bmatrix}1 & 0\\\\ 0 & -1\\end{bmatrix}\n",
    "$$"
   ]
  },
  {
   "cell_type": "markdown",
   "id": "eac5c78b",
   "metadata": {},
   "source": [
    "$$\n",
    "S = \\begin{bmatrix}1 & 0\\\\ 0 & i\\end{bmatrix},\n",
    "T = \\begin{bmatrix}1 & 0\\\\ 0 & e^{i\\pi/4}\\end{bmatrix}\n",
    "$$"
   ]
  },
  {
   "cell_type": "markdown",
   "id": "69b35c11",
   "metadata": {},
   "source": [
    "$$\n",
    "\\sqrt{NOT} =\\frac{1}{\\sqrt{2}} \\begin{bmatrix}1 & -1\\\\ 1 & 1\\end{bmatrix}\n",
    "$$"
   ]
  },
  {
   "cell_type": "markdown",
   "id": "e5f68088",
   "metadata": {},
   "source": [
    "$$\n",
    "X^2 = Y^2 = Z^2 = I\\\\\n",
    "H = \\frac{1}{2}(X+Z)\\\\\n",
    "X = HZH\\\\\n",
    "Z = HXH\\\\\n",
    "-Y = HYH\\\\\n",
    "S = T^2\\\\\n",
    "-Y = XYX\n",
    "$$"
   ]
  },
  {
   "cell_type": "markdown",
   "id": "314558c9",
   "metadata": {},
   "source": [
    "$$\n",
    "R(\\theta) = \\begin{bmatrix}1 & 0\\\\ 0 & e^{i\\theta}\\end{bmatrix}\n",
    "$$\n",
    "\n",
    "$$\n",
    "R_X(\\theta) = \\cos\\frac{\\theta}{2}I -i\\sin\\frac{\\theta}{2}X = \n",
    "\\begin{bmatrix}\n",
    "\\cos\\frac{\\theta}{2} & -i\\sin\\frac{\\theta}{2}\\\\ -i\\sin\\frac{\\theta}{2} & \\cos\\frac{\\theta}{2}\n",
    "\\end{bmatrix}\n",
    "$$"
   ]
  },
  {
   "cell_type": "markdown",
   "id": "52b9d97b",
   "metadata": {},
   "source": [
    "$$\n",
    "R_Y(\\theta) = \\cos\\frac{\\theta}{2}I -i\\sin\\frac{\\theta}{2}Y = \n",
    "\\begin{bmatrix}\n",
    "\\cos\\frac{\\theta}{2} & -\\sin\\frac{\\theta}{2}\\\\ \\sin\\frac{\\theta}{2} & \\cos\\frac{\\theta}{2}\n",
    "\\end{bmatrix}\n",
    "$$\n",
    "\n",
    "$$\n",
    "R_Z(\\theta) = \\cos\\frac{\\theta}{2}I -i\\sin\\frac{\\theta}{2}Z = \n",
    "\\begin{bmatrix}\n",
    "e^{-i\\theta/2} & 0\\\\ 0 & e^{i\\theta/2}\n",
    "\\end{bmatrix}\n",
    "$$"
   ]
  },
  {
   "cell_type": "markdown",
   "id": "c1fc7acf",
   "metadata": {},
   "source": [
    "## Superposition"
   ]
  },
  {
   "cell_type": "markdown",
   "id": "9ae5dee2",
   "metadata": {},
   "source": [
    "$$\n",
    "H\\ket{0} = \\ket{+}\\\\\n",
    "H\\ket{1} = \\ket{-}\n",
    "$$"
   ]
  },
  {
   "cell_type": "markdown",
   "id": "6edcb3a9",
   "metadata": {},
   "source": [
    "$$\n",
    "H^{\\otimes n}[i,j] = \\frac{1}{\\sqrt{2}}(-1)^{<i,j>}\n",
    "$$"
   ]
  },
  {
   "cell_type": "markdown",
   "id": "bffe020b",
   "metadata": {},
   "source": [
    "$$\n",
    "H^{\\otimes n}\\ket{y} = \\frac{1}{\\sqrt{2^n}}\\sum_{x\\in[0,1]^n}(-1)^{<x,y>}\\ket{x}\n",
    "$$\n",
    "\n",
    "Note that $(H^{\\otimes n})^2 = I$."
   ]
  },
  {
   "cell_type": "markdown",
   "id": "31f5f278",
   "metadata": {},
   "source": [
    "### Applying a function as a Gate\n",
    "\n",
    "$$\n",
    "U_f\\ket{x}\\ket{y} = \\ket{x}\\ket{y\\oplus f(x)}\n",
    "$$\n",
    "\n",
    "Note that $U_f^2 = I$.\n",
    "\n",
    "### Controlled operators\n",
    "\n",
    "For a unitary gate $U=\\begin{bmatrix}\n",
    "u_{00} & u_{01}\\\\ u_{10} & u_{11}\n",
    "\\end{bmatrix}\n",
    "$\n",
    "the corresponding controlled gate is given by \n",
    "\n",
    "$$\n",
    "CU = \\begin{bmatrix}\n",
    "1 & 0 & 0 & 0\\\\\n",
    "0 & 1 & 0 & 0\\\\\n",
    "0 & 0 & u_{00} & u_{01}\\\\\n",
    "0 & 0 & u_{10} & u_{11}\n",
    "\\end{bmatrix}\n",
    "$$\n",
    "\n",
    "For a general multibit operator $U$, the single bit controlled version is:\n",
    "\n",
    "$$\n",
    "CU\\ket{c}\\ket{x} = \\ket{c}U^c\\ket{x}\n",
    "$$\n"
   ]
  },
  {
   "cell_type": "code",
   "execution_count": null,
   "id": "b05ed4da",
   "metadata": {},
   "outputs": [],
   "source": []
  }
 ],
 "metadata": {
  "kernelspec": {
   "display_name": "quantum-computing",
   "language": "python",
   "name": "quantum-computing"
  },
  "language_info": {
   "codemirror_mode": {
    "name": "ipython",
    "version": 3
   },
   "file_extension": ".py",
   "mimetype": "text/x-python",
   "name": "python",
   "nbconvert_exporter": "python",
   "pygments_lexer": "ipython3",
   "version": "3.10.9"
  }
 },
 "nbformat": 4,
 "nbformat_minor": 5
}
