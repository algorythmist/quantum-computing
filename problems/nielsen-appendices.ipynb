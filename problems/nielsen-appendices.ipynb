{
 "cells": [
  {
   "cell_type": "markdown",
   "id": "dc11ea25",
   "metadata": {},
   "source": [
    "## Appending 2"
   ]
  },
  {
   "cell_type": "markdown",
   "id": "623e0a7c",
   "metadata": {},
   "source": [
    "### Exercise A2.23\n",
    "\n",
    "The Abelian group $\\mathbb{Z}_N$ has exactly $N$ one dimensional irreps, where the kth representation is given by\n",
    "\n",
    "$$\n",
    "\\rho_k(g) = exp[-2\\pi i gk/N]\n",
    "$$\n",
    "\n",
    "Plugging into the formula, the FT of the kth representation is\n",
    "\n",
    "$$\n",
    "\\hat{f}(k) = \\frac{1}{\\sqrt{N}}\\sum_{g=0}^{N-1} f(g)exp^{-2\\pi i gk/N}\n",
    "$$\n",
    "\n",
    "And correspondingly the inverse transform is given by \n",
    "\n",
    "$$\n",
    "f(g) = \\frac{1}{\\sqrt{N}}\\sum_{k=0}^{N-1} \\hat{f}(K)exp^{2\\pi i gk/N}\n",
    "$$"
   ]
  },
  {
   "cell_type": "markdown",
   "id": "fe3ab5a3",
   "metadata": {},
   "source": [
    "## Appendix 4"
   ]
  },
  {
   "cell_type": "markdown",
   "id": "7cec6700",
   "metadata": {},
   "source": [
    "### Exercise A4.5\n",
    "\n",
    "If q<p, then gcd(p,q)=1 therefore the order of q is p and the multiplicative inverse of q is $q^{p-1} (mod p)$.\n",
    "\n",
    "The integers that do not have an inverse mod $p^2$ are the numbers $kp, 1\\leq k < p$."
   ]
  },
  {
   "cell_type": "markdown",
   "id": "aced7e60",
   "metadata": {},
   "source": [
    "### Exercise A4.6\n",
    "\n",
    "17\n"
   ]
  },
  {
   "cell_type": "markdown",
   "id": "f2322269",
   "metadata": {},
   "source": [
    "### Exercise A4.7\n",
    "\n",
    "$$\n",
    "(1+n)(1-n) = 1 - n^2 = 1 (mod n^2)\n",
    "$$\n",
    "\n",
    "Therefore the inverse of $n+1$ is $1-n = n^2 - n + 1$."
   ]
  },
  {
   "cell_type": "markdown",
   "id": "854b25b7",
   "metadata": {},
   "source": [
    "### Exercise A4.18\n",
    "\n",
    "19/17 -> [1,8,2]\n",
    "\n",
    "77/65 -> [1, 5, 2, 2, 2]\n",
    "\n"
   ]
  },
  {
   "cell_type": "code",
   "execution_count": null,
   "id": "1be61519",
   "metadata": {},
   "outputs": [],
   "source": []
  }
 ],
 "metadata": {
  "kernelspec": {
   "display_name": "quantum-computing",
   "language": "python",
   "name": "quantum-computing"
  },
  "language_info": {
   "codemirror_mode": {
    "name": "ipython",
    "version": 3
   },
   "file_extension": ".py",
   "mimetype": "text/x-python",
   "name": "python",
   "nbconvert_exporter": "python",
   "pygments_lexer": "ipython3",
   "version": "3.10.9"
  }
 },
 "nbformat": 4,
 "nbformat_minor": 5
}
