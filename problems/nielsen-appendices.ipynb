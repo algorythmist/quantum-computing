{
 "cells": [
  {
   "cell_type": "markdown",
   "id": "2f0b1773",
   "metadata": {},
   "source": [
    "## Appendix 4"
   ]
  },
  {
   "cell_type": "markdown",
   "id": "2900ab62",
   "metadata": {},
   "source": [
    "### Exercise A4.5\n",
    "\n",
    "If q<p, then gcd(p,q)=1 therefore the order of q is p and the multiplicative inverse of q is $q^{p-1} (mod p)$.\n",
    "\n",
    "The integers that do not have an inverse mod $p^2$ are the numbers $kp, 1\\leq k < p$."
   ]
  },
  {
   "cell_type": "markdown",
   "id": "ae5b4e48",
   "metadata": {},
   "source": [
    "### Exercise A4.6\n",
    "\n",
    "17\n"
   ]
  },
  {
   "cell_type": "markdown",
   "id": "c7689ddb",
   "metadata": {},
   "source": [
    "### Exercise A4.7\n",
    "\n",
    "$$\n",
    "(1+n)(1-n) = 1 - n^2 = 1 (mod n^2)\n",
    "$$\n",
    "\n",
    "Therefore the inverse of $n+1$ is $1-n = n^2 - n + 1$."
   ]
  },
  {
   "cell_type": "markdown",
   "id": "17567f07",
   "metadata": {},
   "source": [
    "### Exercise A4.18\n",
    "\n",
    "19/17 -> [1,8,2]\n",
    "\n",
    "77/65 -> [1, 5, 2, 2, 2]\n",
    "\n"
   ]
  },
  {
   "cell_type": "code",
   "execution_count": null,
   "id": "a13663f1",
   "metadata": {},
   "outputs": [],
   "source": []
  }
 ],
 "metadata": {
  "kernelspec": {
   "display_name": "quantum-computing",
   "language": "python",
   "name": "quantum-computing"
  },
  "language_info": {
   "codemirror_mode": {
    "name": "ipython",
    "version": 3
   },
   "file_extension": ".py",
   "mimetype": "text/x-python",
   "name": "python",
   "nbconvert_exporter": "python",
   "pygments_lexer": "ipython3",
   "version": "3.10.9"
  }
 },
 "nbformat": 4,
 "nbformat_minor": 5
}
