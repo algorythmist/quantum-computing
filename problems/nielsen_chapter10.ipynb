{
 "cells": [
  {
   "cell_type": "markdown",
   "id": "ab729c9a",
   "metadata": {},
   "source": [
    "# Quantum Computation and Quantum Information\n",
    "\n",
    "## Chapter 10 Problems"
   ]
  },
  {
   "cell_type": "markdown",
   "id": "80c0a7f8",
   "metadata": {},
   "source": [
    "#### Latex: Define bras, kets, brackets\n",
    "$\n",
    "\\newcommand{\\ket}[1]{\\left|{#1}\\right\\rangle}\n",
    "\\newcommand{\\bra}[1]{\\left\\langle{#1}\\right|}\n",
    "\\newcommand{\\braket}[2]{\\left\\langle{#1}\\middle|{#2}\\right\\rangle}\n",
    "$"
   ]
  },
  {
   "cell_type": "markdown",
   "id": "42144c5b",
   "metadata": {},
   "source": [
    "### Exercise 10.1\n",
    "\n",
    "$CNOT(\\psi, 0)=  \\ket{\\psi}\\ket{\\psi \\oplus 0} = \\ket{\\psi}\\ket{\\psi}$ "
   ]
  },
  {
   "cell_type": "markdown",
   "id": "b13a3a81-cb84-4c98-8e24-f8f664650311",
   "metadata": {},
   "source": [
    "### Exercise 10.2\n",
    "\n",
    "The resolution of X is $X = P_+ - P_-$, where $P_{+/-} = \\frac{1}{\\sqrt{2}} \\ket{+/-}\\bra{+/-}$ \n",
    "\n",
    "$$\n",
    "X\\rho X = (P_+ - P_-)\\rho(P_+ - P_-) = P_+\\rho P_+ +  P_-\\rho P_- -  P_+\\rho P_- -  P_-\\rho P_+ \n",
    "$$\n",
    "\n",
    "Furthermore, using $I = P_+ + P_-$, we can write\n",
    "\n",
    "$$\n",
    "\\rho = I\\rho I = (P_+ + P_-)\\rho(P_+ + P_-) = P_+\\rho P_+ +  P_-\\rho P_- +  P_+\\rho P_- +  P_-\\rho P_+ \n",
    "$$\n",
    "\n",
    "Putting these in the original expression does not work as expected...\n"
   ]
  },
  {
   "cell_type": "markdown",
   "id": "0712b100-d7d4-49ec-a93f-bfaf219a043b",
   "metadata": {},
   "source": [
    "### Exercise 10.7\n",
    "\n",
    "Let $E_0 = \\sqrt{(1-p)^3}I, E_i = \\sqrt{p(1-p)^2}X_i$\n",
    "\n",
    "Then $P E_0^2 P = (1-p)^3P^2 = (1-p)^3 P$ and $P E_i^2 P = p(1-p)^2 PIP = p(1-p)^2 P$\n",
    "\n",
    "For $i \\neq j, PE_i E_j = P = 0$.\n",
    "\n",
    "So $a_{ij}$ is given by a real diagonal matrix, which is therefore Hermitian."
   ]
  },
  {
   "cell_type": "markdown",
   "id": "d27f5ff2-dbda-4044-9332-8ef96514b933",
   "metadata": {},
   "source": [
    "### Exercise 10.8\n",
    "\n",
    "This is identical to exercise 10.7. In fact, we can observe that it is the same problem under a transformation given by Hadamard matrices.\n",
    "\n",
    "$H^{(3)}\\ket{0} = \\ket{+++}$, $H^{(3)}\\ket{1} = \\ket{---}$, and $HX_iH = Z_i$."
   ]
  },
  {
   "cell_type": "code",
   "execution_count": null,
   "id": "723095c9-0f3e-491d-bfe4-d9ec18ebc64c",
   "metadata": {},
   "outputs": [],
   "source": []
  }
 ],
 "metadata": {
  "kernelspec": {
   "display_name": "quantum-computing",
   "language": "python",
   "name": "quantum-computing"
  },
  "language_info": {
   "codemirror_mode": {
    "name": "ipython",
    "version": 3
   },
   "file_extension": ".py",
   "mimetype": "text/x-python",
   "name": "python",
   "nbconvert_exporter": "python",
   "pygments_lexer": "ipython3",
   "version": "3.10.13"
  },
  "widgets": {
   "application/vnd.jupyter.widget-state+json": {
    "state": {},
    "version_major": 2,
    "version_minor": 0
   }
  }
 },
 "nbformat": 4,
 "nbformat_minor": 5
}
