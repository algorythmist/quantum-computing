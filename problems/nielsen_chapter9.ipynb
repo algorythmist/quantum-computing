{
 "cells": [
  {
   "cell_type": "markdown",
   "id": "ab729c9a",
   "metadata": {},
   "source": [
    "# Quantum Computation and Quantum Information\n",
    "\n",
    "## Chapter 9 Problems"
   ]
  },
  {
   "cell_type": "markdown",
   "id": "80c0a7f8",
   "metadata": {},
   "source": [
    "#### Latex: Define bras, kets, brackets\n",
    "$\n",
    "\\newcommand{\\ket}[1]{\\left|{#1}\\right\\rangle}\n",
    "\\newcommand{\\bra}[1]{\\left\\langle{#1}\\right|}\n",
    "\\newcommand{\\braket}[2]{\\left\\langle{#1}\\middle|{#2}\\right\\rangle}\n",
    "$"
   ]
  },
  {
   "cell_type": "markdown",
   "id": "42144c5b",
   "metadata": {},
   "source": [
    "### Exercise 9.1\n",
    "\n",
    "1/2 and 1/4"
   ]
  },
  {
   "cell_type": "markdown",
   "id": "d9711f1c",
   "metadata": {},
   "source": [
    "### Exercise 9.2\n",
    "\n",
    "$$\n",
    "|p-q|+|1-p-(1-q)| = |p-q|+|q-p| = 2|p-q|\n",
    "$$\n",
    "\n",
    "Therefore $D = |p-q|$"
   ]
  },
  {
   "cell_type": "markdown",
   "id": "e7687dbb-cce7-46f6-a5af-6ccf1e7e326f",
   "metadata": {},
   "source": [
    "### Exercise 9.3\n",
    "\n",
    "0.7071067811865475 and 0.9608341482251325"
   ]
  },
  {
   "cell_type": "markdown",
   "id": "ccac7e45-7c13-45a5-886b-56f63dd6acab",
   "metadata": {},
   "source": [
    "### Exercise 9.6 \n",
    "\n",
    "a) $|3/4-2/3|+|1/4-1/3| = (9-8)/12+(4-3)/12 = 1/6$"
   ]
  },
  {
   "cell_type": "code",
   "execution_count": null,
   "id": "877c0588-f275-4b8b-acc9-64bb6ce06321",
   "metadata": {},
   "outputs": [],
   "source": []
  }
 ],
 "metadata": {
  "kernelspec": {
   "display_name": "quantum-computing",
   "language": "python",
   "name": "quantum-computing"
  },
  "language_info": {
   "codemirror_mode": {
    "name": "ipython",
    "version": 3
   },
   "file_extension": ".py",
   "mimetype": "text/x-python",
   "name": "python",
   "nbconvert_exporter": "python",
   "pygments_lexer": "ipython3",
   "version": "3.10.11"
  }
 },
 "nbformat": 4,
 "nbformat_minor": 5
}
