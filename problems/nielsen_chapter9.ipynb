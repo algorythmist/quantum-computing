{
 "cells": [
  {
   "cell_type": "markdown",
   "id": "ab729c9a",
   "metadata": {},
   "source": [
    "# Quantum Computation and Quantum Information\n",
    "\n",
    "## Chapter 9 Problems"
   ]
  },
  {
   "cell_type": "markdown",
   "id": "80c0a7f8",
   "metadata": {},
   "source": [
    "#### Latex: Define bras, kets, brackets\n",
    "$\n",
    "\\newcommand{\\ket}[1]{\\left|{#1}\\right\\rangle}\n",
    "\\newcommand{\\bra}[1]{\\left\\langle{#1}\\right|}\n",
    "\\newcommand{\\braket}[2]{\\left\\langle{#1}\\middle|{#2}\\right\\rangle}\n",
    "$"
   ]
  },
  {
   "cell_type": "markdown",
   "id": "42144c5b",
   "metadata": {},
   "source": [
    "### Exercise 9.1\n",
    "\n",
    "1/2 and 1/4"
   ]
  },
  {
   "cell_type": "markdown",
   "id": "d9711f1c",
   "metadata": {},
   "source": [
    "### Exercise 9.2\n",
    "\n",
    "$$\n",
    "|p-q|+|1-p-(1-q)| = |p-q|+|q-p| = 2|p-q|\n",
    "$$\n",
    "\n",
    "Therefore $D = |p-q|$"
   ]
  },
  {
   "cell_type": "markdown",
   "id": "e7687dbb-cce7-46f6-a5af-6ccf1e7e326f",
   "metadata": {},
   "source": [
    "### Exercise 9.3\n",
    "\n",
    "0.7071067811865475 and 0.9608341482251325"
   ]
  },
  {
   "cell_type": "markdown",
   "id": "96469eec-a033-4ef4-b15e-7fad9538536b",
   "metadata": {},
   "source": [
    "### Exercise 9.4, 9.5\n",
    "\n",
    "Let $S \\equiv \\{x| p_x \\geq q_x \\}$. This set maximizes the difference since adding any other point would make it smaller.\n",
    "Let $p \\equiv \\sum_{x \\in S}p_x$ and $q \\equiv \\sum_{x \\in S}q_x$. Then $D(p_x,q_x) = p - q$.\n",
    "\n",
    "Also, $\\sum_{x \\notin S}p_x = 1-p$ and $\\sum_{x \\notin S}q_x = 1-q$, so that $\\sum_{x \\notin S}p_x - \\sum_{x \\notin S}q_x = 1-p- (1-q) = q-p = -|p-q|$\n",
    "\n",
    "Going to the original definition, we have \n",
    "\n",
    "$$\n",
    "D(p_x,q_x) = \\frac{1}{2}\\sum_x |p_x - q_x| = \\frac{1}{2}\\left(\\sum_{x \\in S} (p_x - q_x) + \\sum_{x \\notin S} (q_x - p_x)\\right) = \\\\\n",
    "\\frac{1}{2}\\left(|p-q|+|q-p|\\right) = \\frac{1}{2}\\left(2|p-q|\\right) = |p-q|\n",
    "$$\n",
    "\n",
    "Since $S$ splits the sum into positive and negative parts, we did not need to use the absolute value around the sum."
   ]
  },
  {
   "cell_type": "markdown",
   "id": "ccac7e45-7c13-45a5-886b-56f63dd6acab",
   "metadata": {},
   "source": [
    "### Exercise 9.6 \n",
    "\n",
    "a) $|3/4-2/3|+|1/4-1/3| = (9-8)/12+(4-3)/12 = 1/6$"
   ]
  },
  {
   "cell_type": "code",
   "execution_count": null,
   "id": "877c0588-f275-4b8b-acc9-64bb6ce06321",
   "metadata": {},
   "outputs": [],
   "source": []
  }
 ],
 "metadata": {
  "kernelspec": {
   "display_name": "quantum-computing",
   "language": "python",
   "name": "quantum-computing"
  },
  "language_info": {
   "codemirror_mode": {
    "name": "ipython",
    "version": 3
   },
   "file_extension": ".py",
   "mimetype": "text/x-python",
   "name": "python",
   "nbconvert_exporter": "python",
   "pygments_lexer": "ipython3",
   "version": "3.10.11"
  }
 },
 "nbformat": 4,
 "nbformat_minor": 5
}
