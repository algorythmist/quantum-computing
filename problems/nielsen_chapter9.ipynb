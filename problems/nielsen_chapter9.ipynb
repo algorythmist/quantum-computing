{
 "cells": [
  {
   "cell_type": "markdown",
   "id": "ab729c9a",
   "metadata": {},
   "source": [
    "# Quantum Computation and Quantum Information\n",
    "\n",
    "## Chapter 9 Problems"
   ]
  },
  {
   "cell_type": "markdown",
   "id": "80c0a7f8",
   "metadata": {},
   "source": [
    "#### Latex: Define bras, kets, brackets\n",
    "$\n",
    "\\newcommand{\\ket}[1]{\\left|{#1}\\right\\rangle}\n",
    "\\newcommand{\\bra}[1]{\\left\\langle{#1}\\right|}\n",
    "\\newcommand{\\braket}[2]{\\left\\langle{#1}\\middle|{#2}\\right\\rangle}\n",
    "$"
   ]
  },
  {
   "cell_type": "markdown",
   "id": "c8810648-a53b-4da0-a703-67470c5a44e0",
   "metadata": {},
   "source": [
    "Classical Trace Distance \n",
    "\n",
    "$$\n",
    "D(p, q) = \\frac{1}{2}\\sum_x |p_x - q_x| = \\max_S \\left(\\sum_{x \\in S} p_x - \\sum_{x \\in S} q_x \\right)\n",
    "$$\n",
    "\n",
    "Classical Fidelity\n",
    "\n",
    "$$\n",
    "F(p,q) = \\sum_x\\sqrt{p_x q_x}\n",
    "$$"
   ]
  },
  {
   "cell_type": "markdown",
   "id": "930b3c91-16f4-4237-af35-36f109dd8798",
   "metadata": {},
   "source": [
    "Quantum Trace Distance\n",
    "\n",
    "$$\n",
    "D(\\rho, \\sigma) = \\frac{1}{2}tr|\\rho - \\sigma| = \\max_P tr(P(\\rho - \\sigma))\n",
    "$$\n",
    "\n",
    "Quantum Fidelity\n",
    "\n",
    "$$\n",
    "F(\\rho, \\sigma) = tr\\sqrt{\\rho^{1/2}\\sigma \\rho^{1/2}}\n",
    "$$\n",
    "\n",
    "$$\n",
    "A(\\rho, \\sigma) := \\arccos F(\\rho, \\sigma)\n",
    "$$"
   ]
  },
  {
   "cell_type": "markdown",
   "id": "42144c5b",
   "metadata": {},
   "source": [
    "### Exercise 9.1\n",
    "\n",
    "1/2 and 1/4"
   ]
  },
  {
   "cell_type": "markdown",
   "id": "d9711f1c",
   "metadata": {},
   "source": [
    "### Exercise 9.2\n",
    "\n",
    "$$\n",
    "|p-q|+|1-p-(1-q)| = |p-q|+|q-p| = 2|p-q|\n",
    "$$\n",
    "\n",
    "Therefore $D = |p-q|$"
   ]
  },
  {
   "cell_type": "markdown",
   "id": "e7687dbb-cce7-46f6-a5af-6ccf1e7e326f",
   "metadata": {},
   "source": [
    "### Exercise 9.3\n"
   ]
  },
  {
   "cell_type": "code",
   "execution_count": 3,
   "id": "5823d7b7-217a-412a-b95b-9950cbd9e9b3",
   "metadata": {},
   "outputs": [
    {
     "data": {
      "text/plain": [
       "0.7071067811865476"
      ]
     },
     "execution_count": 3,
     "metadata": {},
     "output_type": "execute_result"
    }
   ],
   "source": [
    "import numpy as np\n",
    "\n",
    "def fidelity(p, q):\n",
    "    assert len(p) == len(q)\n",
    "    return np.dot(np.sqrt(p), np.sqrt(q))\n",
    "\n",
    "p = [1., 0.]\n",
    "q = [0.5, 0.5]\n",
    "fidelity(p,q)"
   ]
  },
  {
   "cell_type": "code",
   "execution_count": 4,
   "id": "3dfabab9-1ea5-4fd6-9685-a89673d228b6",
   "metadata": {},
   "outputs": [
    {
     "data": {
      "text/plain": [
       "0.9608341482251325"
      ]
     },
     "execution_count": 4,
     "metadata": {},
     "output_type": "execute_result"
    }
   ],
   "source": [
    " p = [1. / 2, 1. / 3, 1. / 6]\n",
    "q = [3. / 4, 1. / 8, 1. / 8]\n",
    "fidelity(p,q)"
   ]
  },
  {
   "cell_type": "markdown",
   "id": "96469eec-a033-4ef4-b15e-7fad9538536b",
   "metadata": {},
   "source": [
    "### Exercise 9.4, 9.5\n",
    "\n",
    "Let $S \\equiv \\{x| p_x \\geq q_x \\}$. This set maximizes the difference since adding any other point would make it smaller.\n",
    "Let $p \\equiv \\sum_{x \\in S}p_x$ and $q \\equiv \\sum_{x \\in S}q_x$. Then $D(p_x,q_x) = p - q$.\n",
    "\n",
    "Also, $\\sum_{x \\notin S}p_x = 1-p$ and $\\sum_{x \\notin S}q_x = 1-q$, so that $\\sum_{x \\notin S}p_x - \\sum_{x \\notin S}q_x = 1-p- (1-q) = q-p = -|p-q|$\n",
    "\n",
    "Going to the original definition, we have \n",
    "\n",
    "$$\n",
    "D(p_x,q_x) = \\frac{1}{2}\\sum_x |p_x - q_x| = \\frac{1}{2}\\left(\\sum_{x \\in S} (p_x - q_x) + \\sum_{x \\notin S} (q_x - p_x)\\right) = \\\\\n",
    "\\frac{1}{2}\\left(|p-q|+|q-p|\\right) = \\frac{1}{2}\\left(2|p-q|\\right) = |p-q|\n",
    "$$\n",
    "\n",
    "Since $S$ splits the sum into positive and negative parts, we did not need to use the absolute value around the sum."
   ]
  },
  {
   "cell_type": "markdown",
   "id": "ccac7e45-7c13-45a5-886b-56f63dd6acab",
   "metadata": {},
   "source": [
    "### Exercise 9.6 \n",
    "\n",
    "a) $|3/4-2/3|+|1/4-1/3| = (9-8)/12+(4-3)/12 = 1/6$"
   ]
  },
  {
   "cell_type": "markdown",
   "id": "aa8c3b8d-a395-4461-b2a5-e8ef7d41546a",
   "metadata": {},
   "source": [
    "### Exercise 9.7\n",
    "\n",
    "Following the hint $\\rho = \\sigma = UDU^\\dagger$, where D is diagonal. Let q contain the positive diagonal elements with 0s elsewhere and s the negatives of the negative diagnonal elements. Then $D = q - s$. The supports of q and s are orthogonal since they have 0s in complementary diagonal elements. Specifically, *support(q) = null space(s)*, which is orthogonal to *support(s)*.\n",
    "\n",
    "Let $Q = UqU^\\dagger$ and $S = UsU^\\dagger$. These operators are positive and contibue to have orthogonal supports.\n"
   ]
  },
  {
   "cell_type": "markdown",
   "id": "69a1d158-5954-4663-8ae6-4096eb735d9c",
   "metadata": {},
   "source": [
    "### Exercise 9.8\n",
    "\n",
    "$$\n",
    "D(\\sum_i p_i\\rho_i, \\sum_i p_i\\sigma_i) \\leq D(p_i, pi_) + \\sum_i p_i D(\\rho_i, \\sigma_i) = \\sum_i p_i D(\\rho_i, \\sigma_i) \n",
    "$$"
   ]
  },
  {
   "cell_type": "markdown",
   "id": "ca3bd4d5-4118-4001-9cd9-762c2e6646e9",
   "metadata": {},
   "source": [
    "### Exercise 9.11\n",
    "\n",
    "\\begin{eqnarray}\n",
    "D(\\mathscr{E}(\\rho), \\mathscr{E}(\\sigma)) = D(p\\rho_0 + (1-p)\\mathscr{E'}(\\rho), p\\rho_0 + (1-p)\\mathscr{E'}(\\sigma)) \\leq\\\\\n",
    "pD(\\rho_0, \\rho_0) + (1-p) D(\\mathscr{E'}(\\rho), \\mathscr{E'}(\\sigma)) = (1-p) D(\\mathscr{E'}(\\rho), \\mathscr{E'}(\\sigma)) \\leq\\\\\n",
    " (1-p)D(\\rho, \\sigma) < D(\\rho, \\sigma)\n",
    "\\end{eqnarray}\n",
    "\n",
    "Therefore $\\mathscr{E}$ is fully contractive and has a unique fixed point."
   ]
  },
  {
   "cell_type": "markdown",
   "id": "033ef99e-6132-4147-adc5-6d93eb78c792",
   "metadata": {},
   "source": [
    "### Exercise 9.12\n",
    "\n",
    "In the Bloch sphere representation, let $\\rho = (I+r\\cdot\\sigma)/2$\n",
    "\n",
    "Then\n",
    "\n",
    "$$\n",
    "\\mathscr{E}(\\rho) = pI/2 + (1-p)\\rho/2 = pI/2 +(1-p)(I+r\\cdot\\sigma)/2 = I/2 +(1-p)r\\cdot\\sigma/2\n",
    "$$\n",
    "\n",
    "Therefore the effect of the channel is to take $r$ to $r' = (1-p)r$.\n",
    "\n",
    "Consequently \n",
    "$$\n",
    "D(\\mathscr{E}(\\rho), \\mathscr{E}(\\sigma)) = |r'-s'|/2 = (1-p)|r-s|/2 < |r-s|/2 = D(\\rho, \\sigma)\n",
    "$$\n",
    "\n",
    "Proving that $\\mathscr{E}$ is fully contractive and therefore has a unique fixed point."
   ]
  },
  {
   "cell_type": "markdown",
   "id": "f6454b49-2f85-4878-be47-fafa080a78a6",
   "metadata": {},
   "source": [
    "### Exercise 9.14\n",
    "\n",
    "\\begin{eqnarray}\n",
    "F(U\\rho U^\\dagger, U\\sigma U^\\dagger) = tr\\sqrt{(U\\rho U^\\dagger)^{1/2}U\\sigma U^\\dagger(U\\rho U^\\dagger)^{1/2}} = \\\\\n",
    "tr\\sqrt{U\\rho^{1/2} U^\\dagger U\\sigma U^\\dagger U\\rho ^{1/2}U^\\dagger} = tr\\sqrt{U\\rho^{1/2} \\sigma \\rho ^{1/2}U^\\dagger} = \\\\\n",
    "tr U\\sqrt{\\rho^{1/2} \\sigma \\rho ^{1/2}}U^\\dagger = tr \\sqrt{\\rho^{1/2} \\sigma \\rho ^{1/2}} = F(\\rho, \\sigma)\n",
    "\\end{eqnarray}"
   ]
  },
  {
   "cell_type": "markdown",
   "id": "7ae1f698-219c-4193-800c-27704177015f",
   "metadata": {},
   "source": [
    "### Exercise 9.19\n",
    "\n",
    "Follows directly from (9.92) with $q_i = p_i$"
   ]
  },
  {
   "cell_type": "markdown",
   "id": "9cab8e71-5f21-45fe-8008-9c8a931ea35b",
   "metadata": {},
   "source": [
    "### Exercise 9.20\n",
    "\n",
    "Follows directly from (9.92) with $q_i = p_i$ and $\\sigma_i = \\sigma, \\forall i$"
   ]
  },
  {
   "cell_type": "code",
   "execution_count": null,
   "id": "78e82217-5039-425d-97d3-6c87590838e2",
   "metadata": {},
   "outputs": [],
   "source": []
  }
 ],
 "metadata": {
  "kernelspec": {
   "display_name": "quantum-computing",
   "language": "python",
   "name": "quantum-computing"
  },
  "language_info": {
   "codemirror_mode": {
    "name": "ipython",
    "version": 3
   },
   "file_extension": ".py",
   "mimetype": "text/x-python",
   "name": "python",
   "nbconvert_exporter": "python",
   "pygments_lexer": "ipython3",
   "version": "3.10.13"
  },
  "widgets": {
   "application/vnd.jupyter.widget-state+json": {
    "state": {},
    "version_major": 2,
    "version_minor": 0
   }
  }
 },
 "nbformat": 4,
 "nbformat_minor": 5
}
