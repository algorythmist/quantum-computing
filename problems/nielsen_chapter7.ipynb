{
 "cells": [
  {
   "cell_type": "markdown",
   "id": "774a77e0",
   "metadata": {},
   "source": [
    "# Quantum Computation and Quantum Information\n",
    "\n",
    "## Chapter 7 Problems"
   ]
  },
  {
   "cell_type": "markdown",
   "id": "c7a10c31",
   "metadata": {},
   "source": [
    "#### Latex: Define bras, kets, brackets\n",
    "$\n",
    "\\newcommand{\\ket}[1]{\\left|{#1}\\right\\rangle}\n",
    "\\newcommand{\\bra}[1]{\\left\\langle{#1}\\right|}\n",
    "\\newcommand{\\braket}[2]{\\left\\langle{#1}\\middle|{#2}\\right\\rangle}\n",
    "$"
   ]
  },
  {
   "cell_type": "markdown",
   "id": "0fab40ec",
   "metadata": {},
   "source": [
    "## Harmonic Oscillator\n",
    "\n",
    "$$\n",
    "H = \\frac{p^2}{2m}+\\frac{1}{2}m\\omega^2 x^2 = \\hbar\\omega\\left(a^\\dagger a+\\frac{1}{2}\\right)\n",
    "$$\n",
    "\n",
    "$$\n",
    "a = \\frac{1}{\\sqrt{2m\\hbar\\omega}}\\left(m\\omega x+ip\\right)\n",
    "$$\n",
    "\n",
    "\n",
    "$$\n",
    "a^\\dagger = \\frac{1}{\\sqrt{2m\\hbar\\omega}}\\left(m\\omega x-ip\\right)\n",
    "$$\n",
    "\n",
    "$$\n",
    "N \\equiv a^\\dagger a\n",
    "$$"
   ]
  },
  {
   "cell_type": "markdown",
   "id": "f9e57906",
   "metadata": {},
   "source": [
    "$$\n",
    "N\\ket{n} = n\\ket{n}\\\\\n",
    "a^\\dagger\\ket{n}= \\sqrt{n+1}\\ket{n+1}\\\\\n",
    "a\\ket{n} \\sqrt{n}\\ket{n-1}\n",
    "$$"
   ]
  },
  {
   "cell_type": "markdown",
   "id": "0c1668f6",
   "metadata": {},
   "source": [
    "### Exercise 7.1\n",
    "\n",
    "$$\n",
    "a^\\dagger a = \\frac{1}{2m\\hbar\\omega} = \\left(m\\omega x-ip\\right)\\left(m\\omega x+ip\\right) = \\\\\n",
    "\\frac{1}{2m\\hbar\\omega}\\left(m^2\\omega^2 x^2 + p^2 + ip(mx\\omega)-mx\\omega(ip)\\right) = \\\\\n",
    "\\frac{1}{2m\\hbar\\omega} \\left(m^2\\omega^2 x^2 + p^2 + im\\omega [x,p]\\right) = \\\\\n",
    "\\frac{1}{2m\\hbar\\omega} \\left(m^2\\omega^2 x^2 + p^2  - m\\omega\\hbar\\right) = \\\\\n",
    "\\frac{H}{\\hbar\\omega} - \\frac{1}{2}\n",
    "$$"
   ]
  },
  {
   "cell_type": "markdown",
   "id": "15baaa02",
   "metadata": {},
   "source": [
    "### Exercise 7.2\n",
    "\n",
    "We can follow the steps of exercise 7.1 to conclude that $a a^\\dagger = \\frac{H}{\\hbar\\omega} + \\frac{1}{2}$.\n",
    "\n",
    "Then\n",
    "\n",
    "$$\n",
    "[a, a^\\dagger] = aa^\\dagger -a^\\dagger a = \\frac{1}{2} + \\frac{1}{2} = 1\n",
    "$$\n"
   ]
  },
  {
   "cell_type": "markdown",
   "id": "7f5e8617",
   "metadata": {},
   "source": [
    "### Exercise 7.3\n",
    "\n",
    "$$\n",
    "[H,a] = \\hbar\\omega[a^\\dagger a, a] = \\hbar\\omega(a[a^\\dagger,a]+[a,a]a^\\dagger) = -\\hbar\\omega a\n",
    "$$\n",
    "\n",
    "Therefore\n",
    "\n",
    "$$\n",
    "H a\\ket{E} = (-\\hbar\\omega a + Ha)\\ket{E} = (E-\\hbar\\omega)a\\ket{E}\n",
    "$$\n",
    "\n",
    "The result $a^n\\ket{E} = (E-n\\hbar\\omega)a\\ket{E}$ follows by induction."
   ]
  },
  {
   "cell_type": "markdown",
   "id": "da1d656a",
   "metadata": {},
   "source": [
    "### Exercise  7.4\n",
    "\n",
    "Induction on expression (7.11)"
   ]
  },
  {
   "cell_type": "markdown",
   "id": "476e0406",
   "metadata": {},
   "source": [
    "### Exercise 7.6\n",
    "\n",
    "$$\n",
    "\\ket{\\alpha} \\equiv e^{-|\\alpha|^2/2} \\sum_{n=0}^\\infty \\frac{\\alpha^n}{\\sqrt{n!}}\\ket{n}\n",
    "$$\n",
    "\n",
    "Apply the \"annihilation\" operator a to this state\n",
    "\n",
    "$$\n",
    "a\\ket{\\alpha} = e^{-|\\alpha|^2/2} \\sum_{n=0}^\\infty \\frac{\\alpha^n}{\\sqrt{n!}}a\\ket{n} = \\\\\n",
    "e^{-|\\alpha|^2/2} \\sum_{n=1}^\\infty \\frac{\\alpha^n}{\\sqrt{n!}}\\sqrt{n}\\ket{n-1} = \\\n",
    "e^{-|\\alpha|^2/2} \\sum_{n=1}^\\infty \\frac{\\alpha^n}{\\sqrt{(n-1)!}}\\ket{n-1}\n",
    "$$\n",
    "\n",
    "Where the summation index goes from 1 since the operator has annihilated the state $\\ket{0}$.We can re-index to get\n",
    "\n",
    "$$\n",
    "a\\ket{\\alpha} = e^{-|\\alpha|^2/2} \\sum_{n=0}^\\infty \\alpha\\frac{\\alpha^{n-1}}{\\sqrt{(n-1)!}}\\ket{n-1} = \\alpha\\ket{\\alpha}\n",
    "$$\n",
    "\n"
   ]
  },
  {
   "cell_type": "code",
   "execution_count": null,
   "id": "1f237a51",
   "metadata": {},
   "outputs": [],
   "source": []
  }
 ],
 "metadata": {
  "kernelspec": {
   "display_name": "quantum-computing",
   "language": "python",
   "name": "quantum-computing"
  },
  "language_info": {
   "codemirror_mode": {
    "name": "ipython",
    "version": 3
   },
   "file_extension": ".py",
   "mimetype": "text/x-python",
   "name": "python",
   "nbconvert_exporter": "python",
   "pygments_lexer": "ipython3",
   "version": "3.10.9"
  }
 },
 "nbformat": 4,
 "nbformat_minor": 5
}
