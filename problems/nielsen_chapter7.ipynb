{
 "cells": [
  {
   "cell_type": "markdown",
   "id": "774a77e0",
   "metadata": {},
   "source": [
    "# Quantum Computation and Quantum Information\n",
    "\n",
    "## Chapter 7 Problems"
   ]
  },
  {
   "cell_type": "markdown",
   "id": "8ac016e1",
   "metadata": {},
   "source": [
    "#### Latex: Define bras, kets, brackets\n",
    "$\n",
    "\\newcommand{\\ket}[1]{\\left|{#1}\\right\\rangle}\n",
    "\\newcommand{\\bra}[1]{\\left\\langle{#1}\\right|}\n",
    "\\newcommand{\\braket}[2]{\\left\\langle{#1}\\middle|{#2}\\right\\rangle}\n",
    "$"
   ]
  },
  {
   "cell_type": "markdown",
   "id": "66ccde47",
   "metadata": {},
   "source": [
    "## Harmonic Oscillator\n",
    "\n",
    "$$\n",
    "H = \\frac{p^2}{2m}+\\frac{1}{2}m\\omega^2 x^2 = \\hbar\\omega\\left(a^\\dagger a+\\frac{1}{2}\\right)\n",
    "$$\n",
    "\n",
    "$$\n",
    "a = \\frac{1}{\\sqrt{2m\\hbar\\omega}}\\left(m\\omega x+ip\\right)\n",
    "$$\n",
    "\n",
    "\n",
    "$$\n",
    "a^\\dagger = \\frac{1}{\\sqrt{2m\\hbar\\omega}}\\left(m\\omega x-ip\\right)\n",
    "$$\n",
    "\n",
    "$$\n",
    "N \\equiv a^\\dagger a\n",
    "$$"
   ]
  },
  {
   "cell_type": "markdown",
   "id": "4e9f4f04",
   "metadata": {},
   "source": [
    "$$\n",
    "N\\ket{n} = n\\ket{n}\\\\\n",
    "a^\\dagger\\ket{n}= \\sqrt{n+1}\\ket{n+1}\\\\\n",
    "a\\ket{n} \\sqrt{n}\\ket{n-1}\n",
    "$$"
   ]
  },
  {
   "cell_type": "markdown",
   "id": "35747394",
   "metadata": {},
   "source": [
    "### Exercise 7.1\n",
    "\n",
    "$$\n",
    "a^\\dagger a = \\frac{1}{2m\\hbar\\omega} = \\left(m\\omega x-ip\\right)\\left(m\\omega x+ip\\right) = \\\\\n",
    "\\frac{1}{2m\\hbar\\omega}\\left(m^2\\omega^2 x^2 + p^2 + ip(mx\\omega)-mx\\omega(ip)\\right) = \\\\\n",
    "\\frac{1}{2m\\hbar\\omega} \\left(m^2\\omega^2 x^2 + p^2 + im\\omega [x,p]\\right) = \\\\\n",
    "\\frac{1}{2m\\hbar\\omega} \\left(m^2\\omega^2 x^2 + p^2  - m\\omega\\hbar\\right) = \\\\\n",
    "\\frac{H}{\\hbar\\omega} - \\frac{1}{2}\n",
    "$$"
   ]
  },
  {
   "cell_type": "markdown",
   "id": "83bd9d03",
   "metadata": {},
   "source": [
    "### Exercise 7.2\n",
    "\n",
    "We can follow the steps of exercise 7.1 to conclude that $a a^\\dagger = \\frac{H}{\\hbar\\omega} + \\frac{1}{2}$.\n",
    "\n",
    "Then\n",
    "\n",
    "$$\n",
    "[a, a^\\dagger] = aa^\\dagger -a^\\dagger a = \\frac{1}{2} + \\frac{1}{2} = 1\n",
    "$$\n"
   ]
  },
  {
   "cell_type": "markdown",
   "id": "5cf0aa6a",
   "metadata": {},
   "source": [
    "### Exercise  7.4\n",
    "\n",
    "Induction on expression (7.11)"
   ]
  },
  {
   "cell_type": "code",
   "execution_count": null,
   "id": "08901db0",
   "metadata": {},
   "outputs": [],
   "source": []
  }
 ],
 "metadata": {
  "kernelspec": {
   "display_name": "quantum-computing",
   "language": "python",
   "name": "quantum-computing"
  },
  "language_info": {
   "codemirror_mode": {
    "name": "ipython",
    "version": 3
   },
   "file_extension": ".py",
   "mimetype": "text/x-python",
   "name": "python",
   "nbconvert_exporter": "python",
   "pygments_lexer": "ipython3",
   "version": "3.10.9"
  }
 },
 "nbformat": 4,
 "nbformat_minor": 5
}
