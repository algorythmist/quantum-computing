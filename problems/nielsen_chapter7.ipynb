{
 "cells": [
  {
   "cell_type": "markdown",
   "id": "9c5edee9",
   "metadata": {},
   "source": [
    "# Quantum Computation and Quantum Information\n",
    "## Chapter 7 Problems"
   ]
  },
  {
   "cell_type": "markdown",
   "id": "e9afe1b1",
   "metadata": {},
   "source": [
    "#### Latex: Define bras, kets, brackets\n",
    "$\n",
    "\\newcommand{\\ket}[1]{\\left|{#1}\\right\\rangle}\n",
    "\\newcommand{\\bra}[1]{\\left\\langle{#1}\\right|}\n",
    "\\newcommand{\\braket}[2]{\\left\\langle{#1}\\middle|{#2}\\right\\rangle}\n",
    "$"
   ]
  },
  {
   "cell_type": "markdown",
   "id": "0d33dd73",
   "metadata": {},
   "source": [
    "### Exercise 7.1\n",
    "\n",
    "$$\n",
    "a = \\frac{1}{\\sqrt{2m\\hbar\\omega}}(m\\omega x+ip)\n",
    "$$\n",
    "\n",
    "$$\n",
    "a^\\dagger = \\frac{1}{\\sqrt{2m\\hbar\\omega}}(m\\omega x-ip)\n",
    "$$"
   ]
  },
  {
   "cell_type": "markdown",
   "id": "c7e55ef4-0e3c-4e61-9f36-85d0c861bbae",
   "metadata": {},
   "source": [
    "$$\n",
    "a^\\dagger a = \\frac{1}{2m\\hbar\\omega}(m\\omega x-ip)(m\\omega x+ip) = \n",
    "\\frac{1}{2m\\hbar\\omega} (m^2\\omega^2 x^2 + p^2 + im\\omega [x, p]) = \n",
    "H/\\hbar\\omega +i[x, p]/2\\hbar = H/\\hbar\\omega - 1/2\n",
    "$$"
   ]
  },
  {
   "cell_type": "code",
   "execution_count": null,
   "id": "039c618f-356a-4785-a09a-ee98540b3c32",
   "metadata": {},
   "outputs": [],
   "source": []
  }
 ],
 "metadata": {
  "kernelspec": {
   "display_name": "quantum-computing",
   "language": "python",
   "name": "quantum-computing"
  },
  "language_info": {
   "codemirror_mode": {
    "name": "ipython",
    "version": 3
   },
   "file_extension": ".py",
   "mimetype": "text/x-python",
   "name": "python",
   "nbconvert_exporter": "python",
   "pygments_lexer": "ipython3",
   "version": "3.10.13"
  },
  "widgets": {
   "application/vnd.jupyter.widget-state+json": {
    "state": {},
    "version_major": 2,
    "version_minor": 0
   }
  }
 },
 "nbformat": 4,
 "nbformat_minor": 5
}
