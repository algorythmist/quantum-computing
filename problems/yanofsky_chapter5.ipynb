{
 "cells": [
  {
   "cell_type": "markdown",
   "id": "1d443a3c",
   "metadata": {},
   "source": [
    "#### This cell is  used to define bras, kets, brackets for latex\n",
    "$\n",
    "\\newcommand{\\ket}[1]{\\left|{#1}\\right\\rangle}\n",
    "\\newcommand{\\bra}[1]{\\left\\langle{#1}\\right|}\n",
    "\\newcommand{\\braket}[2]{\\left\\langle{#1}\\middle|{#2}\\right\\rangle}\n",
    "$"
   ]
  },
  {
   "cell_type": "markdown",
   "id": "a06d3020",
   "metadata": {},
   "source": [
    "### Exercise 5.1.1\n",
    "\n",
    "$$\n",
    "[3+2i, 4-2i] = (3+2i)\\ket{0}+(4-2i)\\ket{1}\n",
    "$$"
   ]
  },
  {
   "cell_type": "markdown",
   "id": "87f95aa2",
   "metadata": {},
   "source": [
    "### Exercise 5.1.2"
   ]
  },
  {
   "cell_type": "code",
   "execution_count": 2,
   "id": "7283d507",
   "metadata": {},
   "outputs": [
    {
     "data": {
      "text/plain": [
       "array([0.67286226-0.15251545j, 0.09420072-0.71771975j])"
      ]
     },
     "execution_count": 2,
     "metadata": {},
     "output_type": "execute_result"
    }
   ],
   "source": [
    "from qc.complex import normalize\n",
    "\n",
    "normalize([15-3.4j,2.1-16j])"
   ]
  },
  {
   "cell_type": "markdown",
   "id": "2fb10477",
   "metadata": {},
   "source": [
    "### Exercise 5.1.3"
   ]
  },
  {
   "cell_type": "code",
   "execution_count": 3,
   "id": "97baa139",
   "metadata": {},
   "outputs": [
    {
     "data": {
      "text/plain": [
       "array([0, 0, 0, 0, 0, 1, 0, 0])"
      ]
     },
     "execution_count": 3,
     "metadata": {},
     "output_type": "execute_result"
    }
   ],
   "source": [
    "from qc.vectors import bits_to_vector\n",
    "\n",
    "bits_to_vector(\"101\")"
   ]
  },
  {
   "cell_type": "code",
   "execution_count": 4,
   "id": "60145ae0",
   "metadata": {},
   "outputs": [
    {
     "data": {
      "text/plain": [
       "array([0, 0, 0, 1, 0, 0, 0, 0])"
      ]
     },
     "execution_count": 4,
     "metadata": {},
     "output_type": "execute_result"
    }
   ],
   "source": [
    "bits_to_vector(\"011\")"
   ]
  },
  {
   "cell_type": "markdown",
   "id": "cba6e5f5",
   "metadata": {},
   "source": [
    "### Exercise 5.1.4\n",
    "\n",
    "$[0, 3, 0, 2]$"
   ]
  },
  {
   "cell_type": "markdown",
   "id": "adeec384",
   "metadata": {},
   "source": [
    "### Exercise 5.4.4\n",
    "\n",
    "I will make use of these identities.\n",
    "\n",
    "\\begin{aligned}\\sin(\\alpha +\\beta )&=\\sin \\alpha \\cos \\beta +\\cos \\alpha \\sin \\beta \\\\\\sin(\\alpha -\\beta )&=\\sin \\alpha \\cos \\beta -\\cos \\alpha \\sin \\beta \\\\\\cos(\\alpha +\\beta )&=\\cos \\alpha \\cos \\beta -\\sin \\alpha \\sin \\beta \\\\\\cos(\\alpha -\\beta )&=\\cos \\alpha \\cos \\beta +\\sin \\alpha \\sin \\beta \\end{aligned}"
   ]
  },
  {
   "cell_type": "markdown",
   "id": "a8517aa2",
   "metadata": {},
   "source": [
    "An angle > $\\pi/2$ can be written as $\\pi/2+\\theta$, where $\\theta < \\pi/2$. Using the trig identities above (twice), we have\n",
    "\n",
    "$$\n",
    "\\cos(\\pi/2+\\theta) = - \\sin\\theta = -\\cos(\\pi/2-\\theta)\\\\\n",
    "\\sin(\\pi/2+\\theta) = \\cos\\theta = \\sin(\\pi/2-\\theta)\n",
    "$$\n",
    "\n",
    "Consequently\n",
    "\n",
    "$$\n",
    "\\ket{\\psi(\\pi/2+\\theta)} = -\\cos(\\pi/2-\\theta)\\ket{0} + e^{i\\phi'}\\sin(\\pi/2-\\theta)\n",
    "$$\n",
    "\n",
    "Choose $\\phi' = \\pi + \\phi$, then \n",
    "\n",
    "$$\n",
    "\\ket{\\psi(\\pi/2+\\theta)} = -\\left(\\cos(\\pi/2-\\theta)\\ket{0} + e^{i\\phi}\\sin(\\pi/2-\\theta)\\right)\n",
    "$$\n",
    "\n",
    "where the global phase -1 can be ignored to render an equivalent state of angle less that $\\pi/2$."
   ]
  }
 ],
 "metadata": {
  "kernelspec": {
   "display_name": "quantum-computing",
   "language": "python",
   "name": "quantum-computing"
  },
  "language_info": {
   "codemirror_mode": {
    "name": "ipython",
    "version": 3
   },
   "file_extension": ".py",
   "mimetype": "text/x-python",
   "name": "python",
   "nbconvert_exporter": "python",
   "pygments_lexer": "ipython3",
   "version": "3.10.9"
  }
 },
 "nbformat": 4,
 "nbformat_minor": 5
}
