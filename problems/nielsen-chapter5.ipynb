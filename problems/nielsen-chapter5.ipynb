{
 "cells": [
  {
   "cell_type": "markdown",
   "id": "31af7d7f",
   "metadata": {},
   "source": [
    "# Quantum Computation and Quantum Information\n",
    "## Chapter 5 Problems"
   ]
  },
  {
   "cell_type": "markdown",
   "id": "2d5e483c",
   "metadata": {},
   "source": [
    "#### Latex: Define bras, kets, brackets\n",
    "$\n",
    "\\newcommand{\\ket}[1]{\\left|{#1}\\right\\rangle}\n",
    "\\newcommand{\\bra}[1]{\\left\\langle{#1}\\right|}\n",
    "\\newcommand{\\braket}[2]{\\left\\langle{#1}\\middle|{#2}\\right\\rangle}\n",
    "$"
   ]
  },
  {
   "cell_type": "markdown",
   "id": "92edd61f",
   "metadata": {},
   "source": [
    "### Discrete Fourier Transform\n",
    "\n",
    "$$\n",
    "X_k := \\frac{1}{\\sqrt{N}}\\sum_{j=0}^{N-1}x_j e^{i2\\pi jk/N}\n",
    "$$\n",
    "\n",
    "### Quantum Fourier Transform (on the computational basis)\n",
    "\n",
    "$$\n",
    "\\ket{k} := \\frac{1}{\\sqrt{N}}\\sum_{j=0}^{N-1} e^{i2\\pi jk/N} \\ket{j}\n",
    "$$\n"
   ]
  },
  {
   "cell_type": "markdown",
   "id": "ed20dfa9",
   "metadata": {},
   "source": [
    "### Notation\n",
    "\n",
    "$N = 2^n$\n",
    "\n",
    "$$\n",
    "j = j_0 j_1 \\ldots j_{n-1} = \\sum_{k=0}^{n-1} j_k 2^{n-k}\n",
    "$$\n"
   ]
  },
  {
   "cell_type": "markdown",
   "id": "0d44023d",
   "metadata": {},
   "source": [
    "### Exercise 5.1\n",
    "\n",
    "Let $\\omega_N^k := e^{2\\pi i k/N}$. Using this notation, the matrix for the QFT is\n",
    "\n",
    "$$\n",
    "U_{QFT} = \\frac{1}{\\sqrt{N}}\\sum_{j=0}^{N-1} \\sum_{k=0}^{N-1}\\omega^{jk} \\ket{j}\\bra{k}\n",
    "$$\n",
    "\n",
    "We have \n",
    "\n",
    "$$\n",
    "U^{\\dagger}_{QFT} U_{QFT} = \\frac{1}{N}\\sum_{nm}(\\omega^{nm})^* \\ket{n}\\bra{m}\\sum_{jk}\\omega^{jk}\\ket{j}\\bra{k} =\\\\\n",
    "\\frac{1}{N}\\sum_{nmk}(\\omega^{nm})^*\\omega^{mk}\\ket{n}\\bra{k}\n",
    "$$\n",
    "\n",
    "where I have used $\\braket{m}{j}= \\delta_{mj}$. Now using the orthogonality relations:\n",
    "$\\frac{1}{N}\\sum_{m}(\\omega^{nm})^*\\omega^{mk} = \\delta_{nk}$, we get\n",
    "\n",
    "$$\n",
    "U^{\\dagger}_{QFT} U_{QFT} = \\sum_n \\ket{n}\\bra{n} = I\n",
    "$$"
   ]
  },
  {
   "cell_type": "markdown",
   "id": "d9d12f94",
   "metadata": {},
   "source": [
    "### Exercise 5.5\n",
    "\n",
    "The quantum circuit in (5.4) is given by the gates \n",
    "$R(2\\pi[0.j_n])\\otimes R(2\\pi[0.j_{n-1}j_n]) \\otimes\\ldots\\otimes R(2\\pi[0.j_1\\ldots j_n])$, so the inverse is given by\n",
    "$ R(-2\\pi[0.j_1\\ldots j_n]) \\otimes\\ldots\\otimes  R(-2\\pi[0.j_{n-1}j_n]) \\otimes  R(-2\\pi[0.j_n])$"
   ]
  },
  {
   "cell_type": "markdown",
   "id": "04b9f485",
   "metadata": {},
   "source": [
    "### Exercise 5.7\n",
    "\n",
    "For the state $\\ket{j} = \\ket{j_1 j_2 \\ldots j_n}$, each $j_i$, starting with $j_n$ is successively acting as a control to the gate $U^{2^{n-j}}$.\n",
    "\n",
    "Consequently,\n",
    "\n",
    "$$\n",
    "\\ket{j_1 j_2 \\ldots j_n}\\ket{u} \\rightarrow \\ket{j_1 j_2 \\ldots j_n}U^{j_n 2^0}\\ket{u} \\rightarrow \\\\\n",
    "\\ket{j_1 j_2 \\ldots j_n}U^{j_{n-1}2^1}U^{j_n 2^0}\\ket{u}  \\rightarrow \\\\\n",
    "\\ldots \\\\\n",
    "\\ket{j_1 j_2 \\ldots j_n} U^{j_1 2^n}\\ldots U^{j_{n-1}2^1}U^{j_n 2^0}\\ket{u} = \n",
    "\\ket{j}U^{\\sum_k j_k 2^{n-k}}\\ket{u} = \\ket{j}U^j\\ket{u}\n",
    "$$"
   ]
  },
  {
   "cell_type": "markdown",
   "id": "762c5ba8",
   "metadata": {},
   "source": [
    "### Exercise 5.10"
   ]
  },
  {
   "cell_type": "code",
   "execution_count": 1,
   "id": "d583e54e",
   "metadata": {
    "scrolled": true
   },
   "outputs": [
    {
     "name": "stdout",
     "output_type": "stream",
     "text": [
      "C:\\Users\\Dimitri\\workspaces\\opensource\\quantum-computing\n"
     ]
    },
    {
     "data": {
      "text/plain": [
       "6"
      ]
     },
     "execution_count": 1,
     "metadata": {},
     "output_type": "execute_result"
    }
   ],
   "source": [
    "%cd ..\n",
    "\n",
    "from qc.moduli import find_period\n",
    "\n",
    "find_period(5,21)"
   ]
  },
  {
   "cell_type": "markdown",
   "id": "599d690a",
   "metadata": {},
   "source": [
    "###  Exercise 5.13\n",
    "\n",
    "$\\ket{u_s} = \\frac{1}{\\sqrt{r}}\\sum_{m=0}^{r-1}(\\omega^{sm})^*\\ket{x^m mod N}$\n",
    "\n",
    "$$\n",
    "\\frac{1}{\\sqrt{r}}\\sum_{k=0}^{r-1}\\omega^{sk}\\ket{u_s} =  \n",
    "\\frac{1}{r}\\sum_{ks}\\omega^{sk}(\\omega^{sm})^*\\ket{x^m mod N} = \n",
    "\\frac{1}{r}\\sum_{ks}\\delta_{km}\\ket{x^m mod N} = \\\\\n",
    "\\frac{1}{r}\\sum_{s}\\ket{x^s mod N} = \\ket{x^s mod N} \n",
    "$$"
   ]
  },
  {
   "cell_type": "markdown",
   "id": "bef26718",
   "metadata": {},
   "source": []
  }
 ],
 "metadata": {
  "kernelspec": {
   "display_name": "quantum-computing",
   "language": "python",
   "name": "quantum-computing"
  },
  "language_info": {
   "codemirror_mode": {
    "name": "ipython",
    "version": 3
   },
   "file_extension": ".py",
   "mimetype": "text/x-python",
   "name": "python",
   "nbconvert_exporter": "python",
   "pygments_lexer": "ipython3",
   "version": "3.10.9"
  }
 },
 "nbformat": 4,
 "nbformat_minor": 5
}
