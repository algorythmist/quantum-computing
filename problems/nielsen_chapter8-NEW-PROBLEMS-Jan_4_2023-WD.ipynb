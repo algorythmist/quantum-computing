{
 "cells": [
  {
   "cell_type": "markdown",
   "id": "ab729c9a",
   "metadata": {},
   "source": [
    "# Quantum Computation and Quantum Information\n",
    "\n",
    "## Chapter 8 Problems"
   ]
  },
  {
   "cell_type": "markdown",
   "id": "80c0a7f8",
   "metadata": {},
   "source": [
    "#### Latex: Define bras, kets, brackets\n",
    "$\n",
    "\\newcommand{\\ket}[1]{\\left|{#1}\\right\\rangle}\n",
    "\\newcommand{\\bra}[1]{\\left\\langle{#1}\\right|}\n",
    "\\newcommand{\\braket}[2]{\\left\\langle{#1}\\middle|{#2}\\right\\rangle}\n",
    "\\newcommand{\\ketbra}[2]{\\left|{#1}\\rangle \\langle{#2}\\right|}\n",
    "$\n",
    "\n",
    "New ketbra command:\n",
    "$$\\ketbra{1}{0}$$"
   ]
  },
  {
   "cell_type": "markdown",
   "id": "e7687dbb-cce7-46f6-a5af-6ccf1e7e326f",
   "metadata": {},
   "source": [
    "### Exercise 8.4\n",
    "\n",
    "To calculate the $E_k$, I sandwich them between two orthonormal states $\\ket{i}, \\ket{j}$ of the principal system.\n",
    "\n",
    "\\begin{eqnarray}\n",
    "\\bra{i}E_0\\ket{j} = \\bra{0}\\bra{i}U\\ket{j}\\ket{0} =\\\\\n",
    "\\bra{0}\\bra{i}(P_0\\otimes I + P_1\\otimes X)\\ket{j}\\ket{0} =\\\\\n",
    "\\bra{0}\\bra{i}(P_0\\ket{j}\\ket{0} + P_1\\ket{j}\\ket{1}) = \\braket{0}{0}\\bra{i}P_0\\ket{j}+\\braket{0}{1} \\bra{i}P_1\\ket{j}=\\\\\n",
    "\\bra{i}P_0\\ket{j}\n",
    "\\end{eqnarray}\n",
    "\n",
    "Therefore $E_0 = P_0$\n",
    "\n",
    "Similarly,\n",
    "\n",
    "\\begin{equation}\n",
    "\\bra{i}E_1\\ket{j} = \\bra{1}\\bra{i}U\\ket{j}\\ket{0} = \\bra{1}\\bra{i}(P_0\\otimes I + P_1\\otimes X)\\ket{j}\\ket{0} = \\bra{i}P_1\\ket{j}\n",
    "\\end{equation}\n",
    "\n",
    "Therefore $E_1 = P_1$\n",
    "\n",
    "$$\n",
    "\\mathcal{E}(\\rho) = P_0\\rho P_0+P_1\\rho P_1\n",
    "$$"
   ]
  },
  {
   "cell_type": "markdown",
   "id": "a0b6278c",
   "metadata": {},
   "source": [
    "### Exercise 8.4, alternate - Wayne Dam\n",
    "\n",
    "This is essentially the same calculation from the definition of the $E_k$'s, but explicit about the tensor product implied. The text defines $E_k = \\bra{e_k}U\\ket{e_0}$. This can be confusing since the $\\ket{e_k}$'s are basis for the environment while $U$ acts on the entire system. I.e., both the principal system and the environment.\n",
    "\n",
    "Writing out in full this properly is,\n",
    "$$ E_k = (I \\otimes \\bra{e_k}) U (I \\otimes \\ket{e_0}.$$\n",
    "\n",
    "Substituting in the given $U$,\n",
    "$$ E_k = (I \\otimes \\bra{e_k}) (P_0\\otimes I + P_1\\otimes X) (I \\otimes \\ket{e_0}).$$\n",
    "\n",
    "Using the standard tensor identity, \n",
    "$$(A\\otimes B)(C\\otimes D) = AC \\otimes BD,$$\n",
    "we have:\n",
    "$$ E_k = IP_0 I \\otimes \\bra{e_k}I\\ket{e_0} + IP_1 I \\otimes \\bra{e_k}X\\ket{e_0} \\\\\n",
    "= P_0 \\otimes \\braket{e_k}{e_0} + P_1 \\otimes \\braket{e_k}{e_1} \\\\\n",
    "= P_0 \\delta_{k0} + P_1 \\delta_{k1}.\n",
    "$$\n",
    "\n",
    "Note that tensoring by a scalar, like the two inner products, is just normal scalar multiplication.\n",
    "\n",
    "This gives the result $E_0 = P_0$ and $E_1 = P_1$, so $$\n",
    "\\mathcal{E}(\\rho) = P_0\\rho P_0+P_1\\rho P_1.\n",
    "$$"
   ]
  },
  {
   "cell_type": "markdown",
   "id": "ca48f3fc",
   "metadata": {},
   "source": [
    "### Exercise 8.9 (Measurement Model) - Wayne Dam\n",
    "\n",
    "This is similar to the discussion on page 365 of the 2000 edition, *System-environment models for any operator-sum representation*, except here we are looking at distinct outcomes. I'm not entirely clear on this but the derivation is straightforward.\n",
    "\n",
    "**GIVEN:**\n",
    "* for each $m$ let $E_{mk}$ be a sot of operation elements for $\\mathcal{E}_m$.\n",
    "* environment $E$ has basis $\\ket{mk}$.\n",
    "* define the operator $U$ via, $U\\ket{\\psi}\\ket{e_0} = \\sum_{mk} E_{mk}\\ket{\\psi}\\ket{mk}$.\n",
    "* projectors $P_m = \\sum_k \\ket{mk}\\bra{mk}$ on the environment $E$.\n",
    "\n",
    "**SHOW:**\n",
    "Performing $U$ on $\\rho \\otimes\\ket{e_0}\\bra{e_0}$ then measuring $P_m$ gives $m$ with probability $\\textrm{tr} \\left(\\mathcal{E}_m(\\rho)\\right)$ and post-measurment state $\\rho'_m = \\mathcal{E}_m(\\rho) / \\textrm{tr} \\mathcal{E}_m(\\rho)$.\n",
    "\n",
    "**DERIVATION:**\n",
    "\n",
    "From the problem statement we want to show that:\n",
    "$$ \\mathcal{E}_m(\\rho) \\equiv \\textrm{tr}_E \\left( P_m U (\\rho\\otimes\\ket{e_o}\\bra{e_0})U^\\dagger P_m \\right) $$\n",
    "can be written in the form,\n",
    "$$ \\mathcal{E}_m(\\rho) = \\sum_k E_{mk} \\rho E_{mk}^\\dagger$$\n",
    "using the $U$ and $P_m$ defined above.\n",
    "\n",
    "First, drop the second $P_m$ in the bracket by the circular trace property and that $P_m$ is a projector.\n",
    "Then substitute the first $P_m$ with its given definition and expand the partial trace over the basis of the environment.\n",
    "So we have,\n",
    "$$ \\mathcal{E}_m(\\rho) = \\sum_{m'k'} \\bra{m'k'} \\sum_k \\ket{mk}\\bra{mk} \n",
    " U (\\rho\\otimes\\ket{e_o}\\bra{e_0})U^\\dagger \\ket{m'k'} \\\\\n",
    " =  \\sum_{km'k'} \n",
    " \\braket{m'k'}{mk} \\bra{mk} U (\\rho\\otimes\\ket{e_o}\\bra{e_0})U^\\dagger \\ket{m'k'} \\\\\n",
    " = \\sum_k \n",
    "\\bra{mk} U (\\rho\\otimes\\ket{e_o}\\bra{e_0})U^\\dagger \\ket{mk},\\ \\ \\ \\  \\textrm{by orthogonality of the environment basis.}\\ \\ \\  (*)$$\n",
    "\n",
    "To get the operator elements, $E_{mk}$, into the formulation we need to substitute $U$ from it's definition in the problem statement. It's given in terms of an action on a joint system state vector so we must expand $\\rho$ in terms of system state vectors by its eigen-expansion, \n",
    "$$\\rho = \\sum_i \\lambda_i \\ket{f_i}\\bra{f_i}.$$\n",
    "So we have,\n",
    "$$\n",
    " \\mathcal{E}_m(\\rho) = \n",
    " \\sum_k \\bra{mk} U (\\sum_i \\lambda_i \\ket{f_i}\\bra{f_i} \\otimes\\ket{e_o}\\bra{e_0})U^\\dagger \\ket{mk} \\\\\n",
    " = \\sum_{ki} \\lambda_i \\bra{mk} U \\ket{f_i}\\ket{e_0} \\bra{f_i}\\bra{e_0} U^\\dagger \\ket{mk}\n",
    "$$\n",
    "But from the defining expression for $U$, we have,\n",
    "$$ U \\ket{f_i}\\ket{e_0} = \\sum_{ab} E_{ab}\\ket{f_i}\\ket{ab}$$.\n",
    "So,\n",
    "$$\n",
    "\\mathcal{E}_m(\\rho) = \n",
    "\\sum_{ki} \\lambda_i \\bra{mk} \\sum_{ab} E_{ab} \\ket{f_i}\\ket{ab} \\sum_{a'b'} \\bra{f_i}\\bra{ab} E_{ab}^\\dagger \\ket{mk} \\\\\n",
    "= \\sum_{kiaba'b'} \\lambda_i E_{ab}\\ket{f_i} \\braket{mk}{ab} \\bra{f_i}E_{a'b'}^\\dagger \\braket{a'b'}{mk} \\ \\ \\ \\Leftarrow\\ \\textrm{Use orthogonality.}\\\\\n",
    "= \\sum_{ki} \\lambda_i E_{mk}\\ket{f_i}\\bra{f_i}E_{mk}^\\dagger \\\\\n",
    "= \\sum_k E_{mk} \\left(\\sum_i \\lambda_i \\ket{f_i}\\bra{f_i} \\right) E_{mk}^\\dagger \\\\\n",
    "\\Rightarrow \\mathcal{E}_m(\\rho) = \\sum_k E_{mk} \\rho E_{mk}^\\dagger.\n",
    "$$\n",
    "\n",
    "So using the $U$ as defined lets us write the operator sum form as required.\n",
    "\n",
    "To get the probability that state $m$ is the outcome it turns out we will need the explicit form of the $E_{mk}$'s. We do this starting from (*) above.\n",
    "$$ \\mathcal{E}_m(\\rho)  = \\sum_k \n",
    "\\bra{mk} U (\\rho\\otimes\\ket{e_o}\\bra{e_0})U^\\dagger \\ket{mk} \\\\\n",
    "= \\sum_k \\bra{mk} U \\ket{e_0} \\rho \\bra{e_0} U^\\dagger \\ket{mk} \\\\\n",
    "\\equiv \\sum_k E_{mk}\\rho E_{mk}^\\dagger,\n",
    "$$\n",
    "where we've defined $$ E_{mk} = \\bra{mk}U\\ket{e_0}.$$\n",
    "\n",
    "The probability of state $m$ is given by,\n",
    "$$ p_m = \\textrm{tr} \\left( P_m U (\\rho\\otimes \\ket{e_0}\\bra{e_0} ) U^\\dagger \\right) \\\\\n",
    "= \\textrm{tr} \\sum_k \\ket{mk}\\bra{mk} U  \\left(\\rho\\otimes \\ket{e_0}\\bra{e_0} \\right) U^\\dagger \\\\\n",
    "= \\textrm{tr} \\sum_k \\bra{mk} U \\ket{e_0} \\rho \\bra{e_0} U^\\dagger \\ket{mk} \\\\\n",
    "= \\textrm{tr} \\sum_k E_{mk}\\rho E_{mk}^\\dagger \\\\\n",
    "= \\textrm{tr} \\sum_k E_{mk}\\rho E_{mk}^\\dagger \\\\\n",
    "= \\textrm{tr} \\mathcal{E}_m(\\rho).\n",
    "$$\n",
    "\n",
    "And so the probability of a post-measurement state $m$ is $\\textrm{tr} \\mathcal{E}_m(\\rho)$ with the post-measurement state being, $\\mathcal{E}_m(\\rho) / \\textrm{tr} \\mathcal{E}_m(\\rho)$.\n",
    "\n",
    "**NOTE:**\n",
    "\n",
    "Why can we write, $\\rho \\otimes \\ket{e_0}\\bra{e_0}$, as, $\\ket{e_0}\\rho \\bra{e_0}$, in the above, where $\\rho$ is in the system space and $\\ket{e_0}$ in the environment space?\n",
    "\n",
    "It's a little confusing because of the compressed notation used. Properly this would be written,\n",
    "$$ (\\rho\\otimes I)(I\\otimes \\ket{e_0})(I\\otimes\\bra{e_0}).$$\n",
    "\n",
    "Using the tensor identity $(A\\otimes B)(C\\otimes D) = AC\\otimes BD$ we see the rhs expands to,\n",
    "$$ \\rho II \\otimes I\\ket{e_0}\\bra{e_0} = \\rho \\otimes \\ket{e_0}\\bra{e_0},$$\n",
    "as required.\n",
    "\n",
    "Notice the first two brackets, though, can be expanded as,\n",
    "$$(\\rho \\otimes I)(I\\otimes\\ket{e_0}) = \\rho I \\otimes I\\ket{e_0} \\ \\ \\ \\ \\textrm{via the identity.}\\\\\n",
    "= I\\rho \\otimes \\ket{e_0} \\cdot 1 \\\\\n",
    "= (I\\otimes \\ket{e_0})(\\rho \\otimes 1) \\\\\n",
    "= \\ket{e_0}\\rho \\ \\ \\ \\ \\textrm{Using the compressed notation.}\n",
    "$$\n",
    "\n",
    "So $\\rho \\otimes \\ket{e_0}\\bra{e_0} = \\ket{e_0}\\rho \\bra{e_0}$ as claimed.\n",
    "\n",
    "The switching from an identity operator to the scalar 1 needs to be explained better but this is the essential argument."
   ]
  },
  {
   "cell_type": "markdown",
   "id": "58922381",
   "metadata": {},
   "source": [
    "### Derivation of Book's Eq'ns 8.71, 8.72, 8.73 - Wayne Dam\n",
    "\n",
    "These are used to justify the freedom in choosing the operation elements to describe the same system. Again, though, they are using a compressed tensor notation and the derivation is incomplete. They also suggest using resolution of the identity but only over the environment Hilbert space whereas I had to do it over the entire system plus environment space.\n",
    "\n",
    "From their description of the augmented system we have,\n",
    "$$ F_k = \\bra{e_k} (I\\otimes U')U\\ket{e_0} $$\n",
    "\n",
    "We can expand into tensor products by being explicit about the two Hilbert spaces, i.e., $\\ket{e_0} = I\\otimes \\ket{e_0}$, etc. Then introduce a resolution of the identity and simplify. The identity $(A\\otimes B)(C\\otimes D) = AC \\otimes BD$ is used throughout.\n",
    "\n",
    "$$ F_k = (I\\otimes \\bra{e_k})\\ (I\\otimes U')U\\ket{e_0} \\\\\n",
    "= (I\\otimes \\bra{e_k} U')\\ U\\ (I\\otimes \\ket{e_0})\n",
    "$$\n",
    "\n",
    "From the supplied solution we see we want to pick off the $(j0)$ components of $U$. There's already a $\\ket{e_0}$ to the right of $U$, so introduce a resolution of the identity on its left.\n",
    "\n",
    "$$ F_k = (I\\otimes \\bra{e_k} U') \\underbrace{\\ \\ \\sum_{ij} \\ket{ij} (\\bra{i}\\otimes\\bra{j})}_{I}\\ \\ U\\ (I\\otimes \\ket{e_0}) \\\\\n",
    "= (I\\otimes \\bra{e_k} U')\\ \n",
    "\\sum_{ij} \\ket{ij} (\\bra{i}\\otimes I)\\ \\ \\underbrace{(I\\otimes\\bra{j})\\ U\\ (I\\otimes \\ket{e_0})}_{\\bra{e_j}U\\ket{e_0}} \\\\\n",
    "= (I\\otimes \\bra{e_k} U')\\ \n",
    "\\underbrace{\\sum_{ij} (\\ket{i}\\otimes I)(I\\otimes\\ket{j}) (\\bra{i}\\otimes I)}_{\\text{Slide j ket left outside the sum.}}\n",
    "\\ \\  \\bra{e_j}U\\ket{e_0} \\\\\n",
    "= \\sum_j \\underbrace{(I\\otimes \\bra{e_k} U')\\ \\ (I\\otimes\\ket{j})}_{I\\otimes \\bra{e_k}U'\\ket{e_j}} \\ \\ \n",
    "\\underbrace{\\sum_{i} (\\ket{i}\\otimes I)(\\bra{i}\\otimes I)}_{I} \\ \\  \\bra{e_j}U\\ket{e_0} \\\\\n",
    "= \\sum_j \\left(I\\otimes \\bra{e_k}U'\\ket{e_j} \\right) \\ \\bra{e_j}U\\ket{e_0}\n",
    "$$\n",
    "\n",
    "We can then write this in the final form from the text,\n",
    "$$ F_k = \\sum_j U'_{kj} E_j $$."
   ]
  },
  {
   "cell_type": "markdown",
   "id": "5beecb96",
   "metadata": {},
   "source": [
    "### Exercise 8.10\n",
    "\n",
    "We are given a matrix $W_{jk} = \\textrm{tr}E_j^\\dagger E_k$.\n",
    "\n",
    "1. **Show $W$ is Hermitian.**\n",
    "\n",
    "Hermitian means $W=W^\\dagger \\longrightarrow W_{jk} = W_{kj}^*$.\n",
    "\n",
    "So starting with the definition of W,\n",
    "$$\n",
    "W_{jk} = \\textrm{tr} E_j^\\dagger E_k \\\\\n",
    "=  \\textrm{tr} \\left[ (E_j^\\dagger E_k)^{\\dagger^\\dagger} \\right] \\\\\n",
    "=  \\textrm{tr} \\left[ (E_k^\\dagger E_j)^{\\dagger} \\right] \\\\\n",
    "=  \\left[ \\textrm{tr} (E_k^\\dagger E_j) \\right]^{*} \\\\\n",
    "= W_{kj}^*,\n",
    "$$\n",
    "as required.\n",
    "\n",
    "2. **Show W has rank at most $d^2$.**\n",
    "* We are given the $\\{E_k\\}_{k=1}^M$\n",
    "* There are $M$ of them.\n",
    "* Let $e_k = \\textrm{vec} E_k \\in \\mathbb{C}^{d^2}$\n",
    "* So there are at most $d^2$ linearly independent $e_k$'s, even though there are perhaps $M>d^2$ of them.\n",
    "\n",
    "The matrix $W$ then has the form,\n",
    "\n",
    "$$W = \\left[ \\begin{array}{cccc}\n",
    "e_1^\\dagger e_1 & e_1^\\dagger e_2 & e_1^\\dagger e_3 & \\cdots \\\\\n",
    "e_2^\\dagger e_1 & e_2^\\dagger e_2 & e_2^\\dagger e_3 & \\\\\n",
    "e_3^\\dagger e_1 & e_3^\\dagger e_2 & e_3^\\dagger e_3 & \\\\\n",
    "&\\vdots && \\ddots\n",
    "\\end{array} \\right]\n",
    "$$\n",
    "\n",
    "We want to make a claim about the rank of $W$, which involves the linear independence of its columns.\n",
    "\n",
    "Assume the first $d^2$ $e_j$'s are linearly independent. So,\n",
    "$$ e_{d^2+1} = \\sum_i^{d^2} a_i e_i$$\n",
    "\n",
    "Look at the $d^2+1$'st column of $W$. We want to show it's linearly dependent on columns 1 to $d^2$. Taking the column components we have,\n",
    "$$\n",
    "W_{i,d^2+1} = e_i^\\dagger e_{d^2+1} \\\\\n",
    "= e_i^\\dagger \\sum_j^{d^2} a_j e_j \\\\\n",
    "= \\sum_j^{d^2} a_j e_i^\\dagger  e_j \\\\\n",
    "= \\sum_j^{d^2} a_j W_{ij}.\n",
    "$$\n",
    "So calling the $j$'th column vector of $W$, $w_j$, we have,\n",
    "$$w_{d^2+1} =  \\sum_j^{d^2} a_j w_{j}.$$\n",
    "\n",
    "We can see then that all columns after the $d^2$'th one are linearly dependent on the first $d^2$ linearly independent ones. Therefore, $W$ has rank at most $d^2$.\n",
    "\n",
    "3. **Using the diagonalization of $W$ define a new set of at most $d^2$ operation elements for $\\cal{E}$.**\n",
    "\n",
    "Let $W = U\\Lambda U^\\dagger$ be its eigen-decomposition. Then $\\Lambda = U^\\dagger W U$, and\n",
    "$$ \\lambda_i = \\sum_{ab} (U^\\dagger)_{ia} W_{ab} U_{bi}\\\\\n",
    "= \\sum_{ab} u_{ai}^* w_{ab} u_{bi}.$$\n",
    "\n",
    "Also define the new operation elements using the unitary $U$ by,\n",
    "$$F_i = \\sum_j u_{ij}^* E_j \\longrightarrow F_i^\\dagger = \\sum_j u_{ij}E_j^\\dagger$$.\n",
    "\n",
    "Using the definition of the elements of $W$ as traces and expanding the trace into the diagonal components we hhave,\n",
    "\n",
    "$$\\lambda_i = \\sum_{ab} u_{ai}^* \\sum_k \\bra{k}E_a^\\dagger E_b \\ket{k} u_{bi}\\\\\n",
    "= \\sum_{ab} \\sum_k \\bra{k} u_{ai}^* E_a^\\dagger \\cdot u_{bi} E_b \\ket{k} \\\\\n",
    "= \\sum_k \\bra{k} \\underbrace{\\sum_a u_{ai}^* E_a^\\dagger}_{F_i^\\dagger} \\cdot \n",
    "\\underbrace{\\sum_b u_{bi} E_b}_{F_i} \\ket{k} \\\\\n",
    "= \\sum_k \\bra{k}F_i^\\dagger F_i \\ket{k} \\\\\n",
    "$$\n",
    "And so,\n",
    "$$\\lambda_i = \\textrm{tr}F_i^\\dagger F_i$$.\n",
    "\n",
    "Note this means  $\\textrm{tr}F_i^\\dagger F_i > 0$ for $i\\leq d^2$ and equals 0 for $i>d^2$.\n",
    "\n",
    "And also,\n",
    "$$ \\textrm{tr}F_i^\\dagger F_i = \\textrm{vec}(F_i)^\\dagger \\textrm{vec}(F_i) \\\\\n",
    "= \\sum_{ab} (F_i)_{ab}^* (F_i)_{ab} \\\\\n",
    "= \\sum_{ab} \\left| (F_i)_{ab} \\right|^2.\n",
    "$$\n",
    "However, this can only equal 0 if all the $(F_i)_{ab}$ omponents equal 0.\n",
    "\n",
    "Therefore, $F_i=0$  for $i>d^2$, as required."
   ]
  },
  {
   "cell_type": "markdown",
   "id": "fbbf43a8",
   "metadata": {},
   "source": [
    "### Exercise 8.12 - Wayne Dam\n",
    "Why can we assume that $O$ has determinant 1 in the decomposition (8.93)?"
   ]
  },
  {
   "cell_type": "markdown",
   "id": "cd785e0e",
   "metadata": {},
   "source": [
    "### Exercise 8.13 - Wayne Dam\n",
    "Show that unitary transformations correspond to rotation of the Bloch spere."
   ]
  },
  {
   "cell_type": "markdown",
   "id": "22645e46",
   "metadata": {},
   "source": [
    "From page 174 any unitary qubit operator can be written as a phase modified rotation matrix,\n",
    "$$ U = e^{i\\alpha} R_{\\hat{n}}(\\beta)$$.\n",
    "\n",
    "A state with polar coordinates $(\\theta,\\phi)$ on the sphere in the computational basis is,\n",
    "$$ \\ket{\\psi} = \\cos(\\theta/2) \\ket{0} + e^{i\\phi}\\sin(\\theta/2) \\ket{1}$$.\n",
    "\n",
    "The unitary operation, $U\\ket{\\psi}$, is simply a rotation of the state ket as a vector in the computational basis and so a rotation on the Bloch sphere in $(\\theta,\\phi)$ as well."
   ]
  },
  {
   "cell_type": "markdown",
   "id": "94b5b4ac",
   "metadata": {},
   "source": [
    "### Function to calculate the affine map of the Block sphere from equations 8.90, 8.91, 8.92."
   ]
  },
  {
   "cell_type": "code",
   "execution_count": 289,
   "id": "7852dc0e",
   "metadata": {},
   "outputs": [],
   "source": [
    "def calc_bloch_transform(E):\n",
    "    # Input:\n",
    "    # E: list of the E_i Kraus operators for the operator sum representation.\n",
    "    #\n",
    "    # Output:\n",
    "    # M,c: Matrix and vector of the affine map r -> r' = Mr + c (equation 8.89)\n",
    "    \n",
    "    P = len(E)\n",
    "    M = zeros(3)\n",
    "    \n",
    "    a = [[Trace(E[i].H * msigma(k) / 2).simplify() for k in [1,2,3]] for i in range(P)]\n",
    "    alpha = [Trace(E[i].H).simplify()/2 for i in range(P)]\n",
    "    # Addressing a ~ [number of E_i's, 3]\n",
    "    # Addressing alpha ~ [number of E_i's]\n",
    "    \n",
    "    for j in range(3):\n",
    "        for k in range(3):\n",
    "            M[j,k] = sum([\n",
    "                a[l][j]*conjugate(a[l][k]) + conjugate(a[l][j])*a[l][k] + \n",
    "                ( \n",
    "                    abs(alpha[l])**2.0 - \n",
    "                    sum([a[l][p]*conjugate(a[l][p]) for p in range(3)]) \n",
    "                ) * KroneckerDelta(j,k) + \n",
    "                I * sum([ \n",
    "                    LeviCivita(j,k,p) * (alpha[l]*conjugate(a[l][p] - conjugate(alpha[l]*a[l][p]))) for p in range(3)\n",
    "                ])\n",
    "                for l in range(P)\n",
    "            ])\n",
    "            \n",
    "    c = zeros(3,1)\n",
    "    for k in range(2):\n",
    "        c[k] = 2*I * sum( [LeviCivita(j,p,k)*a[l][j]*conjugate(a[l][p])\n",
    "                           for l in range(P) for j in range(3) for p in range(3)])\n",
    "\n",
    "    return M, c       "
   ]
  },
  {
   "cell_type": "markdown",
   "id": "5b22a898",
   "metadata": {},
   "source": [
    "### Exercise 8.14 - Wayne Dam\n",
    "Show that $\\det(S)$ need not be positive."
   ]
  },
  {
   "cell_type": "markdown",
   "id": "f1011cae",
   "metadata": {},
   "source": [
    "Use the bit flip channel with $p=1/2$ as a degenerate case.\n",
    "We have\n",
    "$$E_0 = \\frac{1}{\\sqrt{2}} \\left[ \\begin{array}{cc}\n",
    "1 & 0 \\\\\n",
    "0 & 1\n",
    "\\end{array} \\right],\n",
    "E_0 =  \\frac{1}{\\sqrt{2}} \\left[ \\begin{array}{cc}\n",
    "0 & 1\\\\\n",
    "1 & 0\n",
    "\\end{array} \\right]\n",
    "$$\n"
   ]
  },
  {
   "cell_type": "code",
   "execution_count": 293,
   "id": "93c5a769",
   "metadata": {},
   "outputs": [
    {
     "data": {
      "text/latex": [
       "$\\displaystyle \\left[\\begin{matrix}\\frac{\\sqrt{2}}{2} & 0\\\\0 & \\frac{\\sqrt{2}}{2}\\end{matrix}\\right]$"
      ],
      "text/plain": [
       "Matrix([\n",
       "[sqrt(2)/2,         0],\n",
       "[        0, sqrt(2)/2]])"
      ]
     },
     "metadata": {},
     "output_type": "display_data"
    },
    {
     "data": {
      "text/latex": [
       "$\\displaystyle \\left[\\begin{matrix}0 & \\frac{\\sqrt{2}}{2}\\\\\\frac{\\sqrt{2}}{2} & 0\\end{matrix}\\right]$"
      ],
      "text/plain": [
       "Matrix([\n",
       "[        0, sqrt(2)/2],\n",
       "[sqrt(2)/2,         0]])"
      ]
     },
     "metadata": {},
     "output_type": "display_data"
    }
   ],
   "source": [
    "E = [1/sqrt(2)*eye(2), 1/sqrt(2)*Matrix([[0,1],[1,0]])]\n",
    "for x in E:\n",
    "    display(x)"
   ]
  },
  {
   "cell_type": "code",
   "execution_count": 294,
   "id": "e9342b91",
   "metadata": {},
   "outputs": [
    {
     "data": {
      "text/latex": [
       "$\\displaystyle \\left[\\begin{matrix}1 & 0\\\\0 & 1\\end{matrix}\\right]$"
      ],
      "text/plain": [
       "Matrix([\n",
       "[1, 0],\n",
       "[0, 1]])"
      ]
     },
     "execution_count": 294,
     "metadata": {},
     "output_type": "execute_result"
    }
   ],
   "source": [
    "# Test they sum to identity properly with their dagger product.\n",
    "# https://stackoverflow.com/questions/49292151/sum-of-a-list-of-sympy-matrices\n",
    "sum([x.transpose()*x for x in E], zeros(2))"
   ]
  },
  {
   "cell_type": "code",
   "execution_count": 290,
   "id": "9af13eb2",
   "metadata": {},
   "outputs": [
    {
     "data": {
      "text/latex": [
       "$\\displaystyle \\left[\\begin{matrix}1.0 & 0 & 0\\\\0 & 0 & 0\\\\0 & 0 & 0\\end{matrix}\\right]$"
      ],
      "text/plain": [
       "Matrix([\n",
       "[1.0, 0, 0],\n",
       "[  0, 0, 0],\n",
       "[  0, 0, 0]])"
      ]
     },
     "metadata": {},
     "output_type": "display_data"
    },
    {
     "data": {
      "text/latex": [
       "$\\displaystyle \\left[\\begin{matrix}0\\\\0\\\\0\\end{matrix}\\right]$"
      ],
      "text/plain": [
       "Matrix([\n",
       "[0],\n",
       "[0],\n",
       "[0]])"
      ]
     },
     "metadata": {},
     "output_type": "display_data"
    }
   ],
   "source": [
    "M, c = calc_bloch_transform(E)\n",
    "\n",
    "display(M)\n",
    "display(c)"
   ]
  },
  {
   "cell_type": "markdown",
   "id": "b778efa8",
   "metadata": {},
   "source": [
    "Now get the polar decomposition."
   ]
  },
  {
   "cell_type": "code",
   "execution_count": 285,
   "id": "518e34f9",
   "metadata": {},
   "outputs": [
    {
     "data": {
      "text/plain": [
       "array([[1.+0.j, 0.+0.j, 0.+0.j],\n",
       "       [0.+0.j, 0.+0.j, 0.+0.j],\n",
       "       [0.+0.j, 0.+0.j, 0.+0.j]], dtype=complex64)"
      ]
     },
     "execution_count": 285,
     "metadata": {},
     "output_type": "execute_result"
    }
   ],
   "source": [
    "m = matrix2numpy(M).astype(np.complex64)\n",
    "m"
   ]
  },
  {
   "cell_type": "code",
   "execution_count": 286,
   "id": "384fa7f2",
   "metadata": {},
   "outputs": [],
   "source": [
    "O,S = polar(m)"
   ]
  },
  {
   "cell_type": "code",
   "execution_count": 295,
   "id": "fcea0ff5",
   "metadata": {
    "scrolled": true
   },
   "outputs": [
    {
     "data": {
      "text/latex": [
       "$\\displaystyle \\left[\\begin{matrix}1.0 & 0 & 0\\\\0 & 1.0 & 0\\\\0 & 0 & 1.0\\end{matrix}\\right]$"
      ],
      "text/plain": [
       "Matrix([\n",
       "[1.0,   0,   0],\n",
       "[  0, 1.0,   0],\n",
       "[  0,   0, 1.0]])"
      ]
     },
     "execution_count": 295,
     "metadata": {},
     "output_type": "execute_result"
    }
   ],
   "source": [
    "Matrix(O)"
   ]
  },
  {
   "cell_type": "code",
   "execution_count": 296,
   "id": "7f46c8ed",
   "metadata": {},
   "outputs": [
    {
     "data": {
      "text/latex": [
       "$\\displaystyle \\left[\\begin{matrix}1.0 & 0 & 0\\\\0 & 0 & 0\\\\0 & 0 & 0\\end{matrix}\\right]$"
      ],
      "text/plain": [
       "Matrix([\n",
       "[1.0, 0, 0],\n",
       "[  0, 0, 0],\n",
       "[  0, 0, 0]])"
      ]
     },
     "execution_count": 296,
     "metadata": {},
     "output_type": "execute_result"
    }
   ],
   "source": [
    "Matrix(S)"
   ]
  },
  {
   "cell_type": "markdown",
   "id": "93655122",
   "metadata": {},
   "source": [
    "So the orthogonal matrix, $O$, is just the identity and $S$ just projects onto the x-axis.\n",
    "\n",
    "It is clearly not a positive matrix since it's eigenvalues are 1 and twice 0."
   ]
  },
  {
   "cell_type": "markdown",
   "id": "ddc7d54b",
   "metadata": {},
   "source": [
    "### Exercise 8.15 - Wayne Dam\n",
    "The Kraus operators in this case are:\n",
    "\n",
    "$$E_0 = \\frac{1}{2} \\left[ \\begin{array}{cc}\n",
    "1 & 1 \\\\\n",
    "1 & 1\n",
    "\\end{array} \\right],\n",
    "E_0 =  \\frac{1}{2} \\left[ \\begin{array}{cc}\n",
    "1 & -1\\\\\n",
    "-1 & 1\n",
    "\\end{array} \\right]\n",
    "$$"
   ]
  },
  {
   "cell_type": "code",
   "execution_count": 297,
   "id": "7d9f0daf",
   "metadata": {
    "scrolled": true
   },
   "outputs": [
    {
     "data": {
      "text/latex": [
       "$\\displaystyle \\left[\\begin{matrix}0.5 & 0.5\\\\0.5 & 0.5\\end{matrix}\\right]$"
      ],
      "text/plain": [
       "Matrix([\n",
       "[0.5, 0.5],\n",
       "[0.5, 0.5]])"
      ]
     },
     "metadata": {},
     "output_type": "display_data"
    },
    {
     "data": {
      "text/latex": [
       "$\\displaystyle \\left[\\begin{matrix}0.5 & -0.5\\\\-0.5 & 0.5\\end{matrix}\\right]$"
      ],
      "text/plain": [
       "Matrix([\n",
       "[ 0.5, -0.5],\n",
       "[-0.5,  0.5]])"
      ]
     },
     "metadata": {},
     "output_type": "display_data"
    }
   ],
   "source": [
    "E = [1/2*Matrix([[1,1],[1,1]]), 1/2*Matrix([[1,-1],[-1,1]])]\n",
    "\n",
    "for x in E:\n",
    "    display(x)"
   ]
  },
  {
   "cell_type": "code",
   "execution_count": 304,
   "id": "ce5aa01f",
   "metadata": {},
   "outputs": [],
   "source": [
    "M, c = calc_bloch_transform(E)"
   ]
  },
  {
   "cell_type": "code",
   "execution_count": 305,
   "id": "ccfd8df6",
   "metadata": {},
   "outputs": [
    {
     "data": {
      "text/latex": [
       "$\\displaystyle \\left[\\begin{matrix}1.0 & 0 & 0\\\\0 & 0 & 0\\\\0 & 0 & 0\\end{matrix}\\right]$"
      ],
      "text/plain": [
       "Matrix([\n",
       "[1.0, 0, 0],\n",
       "[  0, 0, 0],\n",
       "[  0, 0, 0]])"
      ]
     },
     "execution_count": 305,
     "metadata": {},
     "output_type": "execute_result"
    }
   ],
   "source": [
    "M"
   ]
  },
  {
   "cell_type": "code",
   "execution_count": 306,
   "id": "ddf42851",
   "metadata": {},
   "outputs": [
    {
     "data": {
      "text/latex": [
       "$\\displaystyle \\left[\\begin{matrix}0\\\\0\\\\0\\end{matrix}\\right]$"
      ],
      "text/plain": [
       "Matrix([\n",
       "[0],\n",
       "[0],\n",
       "[0]])"
      ]
     },
     "execution_count": 306,
     "metadata": {},
     "output_type": "execute_result"
    }
   ],
   "source": [
    "c"
   ]
  },
  {
   "cell_type": "markdown",
   "id": "1d9e339f",
   "metadata": {},
   "source": [
    "The transformation of the Bloch sphere just projects onto the x-axis.\n",
    "$$\n",
    "(r_x,r_y,r_z) \\rightarrow (r_x, 0,0)$$."
   ]
  },
  {
   "cell_type": "markdown",
   "id": "a64996eb",
   "metadata": {},
   "source": [
    "### Exercise 8.16 - Wayne Dam\n",
    "A non-trace preserving transformation can be had by dropping a term from a trace preserving set of Kraus operators.\n",
    "\n",
    "For example, let $\\rho\\rightarrow\\rho' = \\ket{0}\\bra{0}\\rho \\ket{0}\\bra{0} = E_0 \\rho E_0^\\dagger.$\n",
    "\n",
    "So,\n",
    "$$E_0 = \\ket{0}\\bra{0} = \\left[\\begin{array}{cc} 1 & 0 \\\\ 0 & 0 \\end{array}\\right]$$."
   ]
  },
  {
   "cell_type": "code",
   "execution_count": 310,
   "id": "4be6a762",
   "metadata": {},
   "outputs": [
    {
     "data": {
      "text/plain": [
       "[Matrix([\n",
       " [1, 0],\n",
       " [0, 0]])]"
      ]
     },
     "execution_count": 310,
     "metadata": {},
     "output_type": "execute_result"
    }
   ],
   "source": [
    "E = [Matrix([[1,0],[0,0]])]\n",
    "E"
   ]
  },
  {
   "cell_type": "code",
   "execution_count": 311,
   "id": "d7fd70dd",
   "metadata": {},
   "outputs": [],
   "source": [
    "M, c = calc_bloch_transform(E)"
   ]
  },
  {
   "cell_type": "code",
   "execution_count": 312,
   "id": "90a72c0a",
   "metadata": {},
   "outputs": [
    {
     "data": {
      "text/latex": [
       "$\\displaystyle \\left[\\begin{matrix}0 & \\frac{i}{8} & 0\\\\- \\frac{i}{8} & 0 & 0\\\\0 & 0 & \\frac{1}{2}\\end{matrix}\\right]$"
      ],
      "text/plain": [
       "Matrix([\n",
       "[   0, I/8,   0],\n",
       "[-I/8,   0,   0],\n",
       "[   0,   0, 1/2]])"
      ]
     },
     "execution_count": 312,
     "metadata": {},
     "output_type": "execute_result"
    }
   ],
   "source": [
    "M"
   ]
  },
  {
   "cell_type": "code",
   "execution_count": 313,
   "id": "6fca1d77",
   "metadata": {},
   "outputs": [
    {
     "data": {
      "text/latex": [
       "$\\displaystyle \\left[\\begin{matrix}0\\\\0\\\\0\\end{matrix}\\right]$"
      ],
      "text/plain": [
       "Matrix([\n",
       "[0],\n",
       "[0],\n",
       "[0]])"
      ]
     },
     "execution_count": 313,
     "metadata": {},
     "output_type": "execute_result"
    }
   ],
   "source": [
    "c"
   ]
  },
  {
   "cell_type": "code",
   "execution_count": 317,
   "id": "e9624961",
   "metadata": {},
   "outputs": [
    {
     "data": {
      "text/plain": [
       "array([[0. +0.j   , 0. +0.125j, 0. +0.j   ],\n",
       "       [0. -0.125j, 0. +0.j   , 0. +0.j   ],\n",
       "       [0. +0.j   , 0. +0.j   , 0.5+0.j   ]], dtype=complex64)"
      ]
     },
     "execution_count": 317,
     "metadata": {},
     "output_type": "execute_result"
    }
   ],
   "source": [
    "m = matrix2numpy(M).astype(np.complex64)\n",
    "m"
   ]
  },
  {
   "cell_type": "code",
   "execution_count": 318,
   "id": "bfd0b537",
   "metadata": {},
   "outputs": [],
   "source": [
    "O,S = polar(m)"
   ]
  },
  {
   "cell_type": "code",
   "execution_count": 319,
   "id": "533aa791",
   "metadata": {},
   "outputs": [
    {
     "data": {
      "text/latex": [
       "$\\displaystyle \\left[\\begin{matrix}0 & 1.0 i & 0\\\\- 1.0 i & 0 & 0\\\\0 & 0 & 1.0\\end{matrix}\\right]$"
      ],
      "text/plain": [
       "Matrix([\n",
       "[     0, 1.0*I,   0],\n",
       "[-1.0*I,     0,   0],\n",
       "[     0,     0, 1.0]])"
      ]
     },
     "metadata": {},
     "output_type": "display_data"
    }
   ],
   "source": [
    "display(Matrix(O))"
   ]
  },
  {
   "cell_type": "code",
   "execution_count": 320,
   "id": "d2334020",
   "metadata": {},
   "outputs": [
    {
     "data": {
      "text/latex": [
       "$\\displaystyle \\left[\\begin{matrix}0.125 & 0 & 0\\\\0 & 0.125 & 0\\\\0 & 0 & 0.5\\end{matrix}\\right]$"
      ],
      "text/plain": [
       "Matrix([\n",
       "[0.125,     0,   0],\n",
       "[    0, 0.125,   0],\n",
       "[    0,     0, 0.5]])"
      ]
     },
     "metadata": {},
     "output_type": "display_data"
    }
   ],
   "source": [
    "display(Matrix(S))"
   ]
  },
  {
   "cell_type": "code",
   "execution_count": 179,
   "id": "9da8d01c",
   "metadata": {},
   "outputs": [
    {
     "data": {
      "text/plain": [
       "(-1+0j)"
      ]
     },
     "execution_count": 179,
     "metadata": {},
     "output_type": "execute_result"
    }
   ],
   "source": [
    "np.linalg.det(O)"
   ]
  },
  {
   "cell_type": "markdown",
   "id": "1d87479f",
   "metadata": {},
   "source": [
    "Note that $O$ is no longer real and orthogonal and has a determinant of -1."
   ]
  },
  {
   "cell_type": "markdown",
   "id": "69457cd8",
   "metadata": {},
   "source": [
    "### Exercise 8.17 - Wayne Dam\n",
    "Verify the identity (8.101)\n",
    "$$\\frac{I}{2} = \\frac{\\rho + X\\rho X + Y\\rho Y +Z\\rho Z}{4}$$"
   ]
  },
  {
   "cell_type": "markdown",
   "id": "b36c954d",
   "metadata": {},
   "source": [
    "1. Define\n",
    "$$ {\\cal E}(A) = \\frac{A + XA X + YA Y +ZA Z}{4}$$\n",
    "\n",
    "Show ${\\cal E}(I) = I,$ ${\\cal E}(X)={\\cal E}(Y) = {\\cal E}(Z) = 0$."
   ]
  },
  {
   "cell_type": "markdown",
   "id": "94bfca08",
   "metadata": {},
   "source": [
    "We have\n",
    "$$ {\\cal E}(I) = \\frac{ I + XX + YY + ZZ}{4}$$\n",
    "Using the standard identities for Paul matrices, $X^2=Y^2=Z^2=I$, we immediately get ${\\cal E}(I)=I$.\n",
    "\n",
    "For ${\\cal E}(X)$ just substitute and evalute.\n",
    "$$ {\\cal E}(X) = \\frac{X + X^3 +YXY+ZXZ}{4} = \\frac{X+X-X-X}{4} = 0$$\n",
    "Same for $Y$ and $Z$."
   ]
  },
  {
   "cell_type": "markdown",
   "id": "65e84b1c",
   "metadata": {},
   "source": [
    "2. To show the identity use the sigma notation for the Pauli spin matrices, so $X = \\sigma_1$, etc. and with $\\sigma_0=I$.\n",
    "\n",
    "Our identities above can then be written, ${\\cal E}(\\sigma_i) = I \\delta_{i0}$.\n",
    "\n",
    "Our function can now be written,\n",
    "$${\\cal E}(\\rho) = \\frac{1}{4} \\sum_{k=0}^3 \\sigma_k \\rho \\sigma_k.$$\n",
    "\n",
    "In particular, ${\\cal E}(\\sigma_i) = \\frac{1}{4} \\sum_{k=0}^3 \\sigma_k \\sigma_i \\sigma_k$.\n",
    "\n",
    "Now, an arbitrary density matrix can be expanded in the Pauli basis operators as,\n",
    "$$\\rho = \\frac{1}{2} \\sum_i r_i \\sigma_i,$$\n",
    "where $r_0\\equiv 1$ and $\\sigma_0 = I$.\n",
    "\n",
    "Substituting this expansion into the function we have,\n",
    "$${\\cal E}(\\rho) = \\frac{1}{4} \\sum_k \\sigma_k \\cdot \\frac{1}{2} \\sum_i r_i \\sigma_i \\cdot \\sigma_k.$$\n",
    "\n",
    "Swapping sums, etc., gives us,\n",
    "$${\\cal E}(\\rho) = \\frac{1}{8} \\sum_i r_i \\sum_k \\sigma_k \\sigma_i \\sigma_k \\\\\n",
    "= \\frac{1}{2} \\sum_i r_i {\\cal E}(\\sigma_i) \\\\\n",
    "= \\frac{I}{2} \\sum_i r_i \\delta_{i0} \\\\\n",
    "= \\frac{r_0 I}{2} \\\\\n",
    "= \\frac{I}{2}.\n",
    "$$"
   ]
  },
  {
   "cell_type": "markdown",
   "id": "a5ce2d33",
   "metadata": {},
   "source": [
    "### Exercise 8.18 - Wayne Dam\n",
    "For $k\\ge 1$ show that ${\\rm tr}(\\rho^k)$ is never increased by the action of the depolarizing channel."
   ]
  },
  {
   "cell_type": "markdown",
   "id": "1b2e3fa3",
   "metadata": {},
   "source": [
    "The trace of matrix is just the sum of its eigenvalues. For a density matrix we also have the constraint that they must be non-negative and sum to one.\n",
    "\n",
    "So, ${\\rm tr}(\\rho) = \\lambda_1 + \\lambda_2 = \\lambda + (1-\\lambda) = 1.$\n",
    "\n",
    "The eigenvalues of a power of a matrix are just the eigenvalues of the original matrix raised to that power.\n",
    "\n",
    "So, ${\\rm tr}(\\rho^k) = \\lambda_1^k + \\lambda_2^k = \\lambda^k + (1-\\lambda)^k$, $\\lambda \\in [0,1]$.\n",
    "\n",
    "The output density matrix of the depolarizing channel is,\n",
    "$$\\rho' = \\frac{p}{2}I + (1-p)\\rho \\\\\n",
    "\\longrightarrow {\\rm \\ eigenvalues: } \\frac{p}{2}+(1-p)\\lambda_{1,2}$$\n",
    "\n",
    "The claim is the trace of $\\rho'$ is less than or equal to the trace of $\\rho$:\n",
    "$$\\left( \\frac{p}{2}+(1-p)\\lambda\\right)^k + \\left( \\frac{p}{2}+(1-p)(1-\\lambda)\\right)^k \n",
    "\\overset{?}{\\le} \\lambda^k+(1-\\lambda)^k,\\ \\ \\lambda,p\\in[0,1],\\ k\\ge 1.$$"
   ]
  },
  {
   "cell_type": "code",
   "execution_count": 123,
   "id": "47c3065b",
   "metadata": {},
   "outputs": [],
   "source": [
    "from sympy.physics.matrices import msigma, Matrix\n",
    "from sympy import Trace, LeviCivita, zeros, KroneckerDelta, matrix2numpy, eye\n",
    "from sympy.functions import conjugate\n",
    "from sympy import I, summation, symbols"
   ]
  },
  {
   "cell_type": "code",
   "execution_count": 321,
   "id": "1bb1d220",
   "metadata": {},
   "outputs": [],
   "source": [
    "p, k, lamda = symbols('p k lamda')"
   ]
  },
  {
   "cell_type": "code",
   "execution_count": 322,
   "id": "46a31901",
   "metadata": {},
   "outputs": [],
   "source": [
    "from sympy.plotting import plot, plot3d"
   ]
  },
  {
   "cell_type": "code",
   "execution_count": 323,
   "id": "4d3beb5d",
   "metadata": {},
   "outputs": [
    {
     "data": {
      "text/latex": [
       "$\\displaystyle \\left(\\frac{p}{2} + \\left(1 - \\lambda\\right) \\left(1 - p\\right)\\right)^{k} + \\left(\\lambda \\left(1 - p\\right) + \\frac{p}{2}\\right)^{k}$"
      ],
      "text/plain": [
       "(p/2 + (1 - lamda)*(1 - p))**k + (lamda*(1 - p) + p/2)**k"
      ]
     },
     "metadata": {},
     "output_type": "display_data"
    },
    {
     "data": {
      "text/latex": [
       "$\\displaystyle \\lambda^{k} + \\left(1 - \\lambda\\right)^{k}$"
      ],
      "text/plain": [
       "lamda**k + (1 - lamda)**k"
      ]
     },
     "metadata": {},
     "output_type": "display_data"
    }
   ],
   "source": [
    "lhs = (p/2+(1-p)*lamda)**k + (p/2+(1-p)*(1-lamda))**k \n",
    "rhs = lamda**k + (1-lamda)**k\n",
    "\n",
    "display(lhs,rhs)"
   ]
  },
  {
   "cell_type": "markdown",
   "id": "64d4d932",
   "metadata": {},
   "source": [
    "Plotting both sides for different values of $k$ and over the valid ranges of $p$ and $\\lambda$ we see the inequality holding."
   ]
  },
  {
   "cell_type": "code",
   "execution_count": 324,
   "id": "54af6e29",
   "metadata": {},
   "outputs": [
    {
     "data": {
      "image/png": "[encoded data removed]",
      "text/plain": [
       "<Figure size 432x288 with 1 Axes>"
      ]
     },
     "metadata": {
      "needs_background": "light"
     },
     "output_type": "display_data"
    },
    {
     "data": {
      "text/plain": [
       "<sympy.plotting.plot.Plot at 0x7f476a8d7310>"
      ]
     },
     "execution_count": 324,
     "metadata": {},
     "output_type": "execute_result"
    }
   ],
   "source": [
    "plot3d( lhs.subs(k,2)\n",
    "       ,rhs.subs(k,2)\n",
    "       , (p,0.,1),(lamda,0,1) )"
   ]
  },
  {
   "cell_type": "markdown",
   "id": "962d621d",
   "metadata": {},
   "source": [
    "For $p=0$ the two sides are equal. For a given $\\lambda$ the difference between the two sides seems to monotonically increase as $p$ is increased from 0.\n",
    "\n",
    "If we can show this then the inequality is valid.\n",
    "\n",
    "So, take the difference of the two sides and take the derivative wrt $p$, holding $\\lambda$ as a constant."
   ]
  },
  {
   "cell_type": "code",
   "execution_count": 126,
   "id": "0a5d1968",
   "metadata": {},
   "outputs": [],
   "source": [
    "from sympy import diff, simplify, factor, cancel, collect"
   ]
  },
  {
   "cell_type": "code",
   "execution_count": 325,
   "id": "202ef9e8",
   "metadata": {},
   "outputs": [
    {
     "data": {
      "text/latex": [
       "$\\displaystyle \\lambda^{k} + \\left(1 - \\lambda\\right)^{k} - \\left(\\frac{p}{2} + \\left(1 - \\lambda\\right) \\left(1 - p\\right)\\right)^{k} - \\left(\\lambda \\left(1 - p\\right) + \\frac{p}{2}\\right)^{k}$"
      ],
      "text/plain": [
       "lamda**k + (1 - lamda)**k - (p/2 + (1 - lamda)*(1 - p))**k - (lamda*(1 - p) + p/2)**k"
      ]
     },
     "execution_count": 325,
     "metadata": {},
     "output_type": "execute_result"
    }
   ],
   "source": [
    "d = lamda**k + (1-lamda)**k - ( (p/2+(1-p)*lamda)**k + ((p/2+(1-p)*(1-lamda))**k) )\n",
    "d"
   ]
  },
  {
   "cell_type": "code",
   "execution_count": 329,
   "id": "721360a2",
   "metadata": {},
   "outputs": [
    {
     "data": {
      "text/latex": [
       "$\\displaystyle - \\frac{k \\left(\\frac{1}{2} - \\lambda\\right) \\left(\\lambda \\left(1 - p\\right) + \\frac{p}{2}\\right)^{k}}{\\lambda \\left(1 - p\\right) + \\frac{p}{2}} - \\frac{k \\left(\\lambda - \\frac{1}{2}\\right) \\left(\\frac{p}{2} + \\left(1 - \\lambda\\right) \\left(1 - p\\right)\\right)^{k}}{\\frac{p}{2} + \\left(1 - \\lambda\\right) \\left(1 - p\\right)}$"
      ],
      "text/plain": [
       "-k*(1/2 - lamda)*(lamda*(1 - p) + p/2)**k/(lamda*(1 - p) + p/2) - k*(lamda - 1/2)*(p/2 + (1 - lamda)*(1 - p))**k/(p/2 + (1 - lamda)*(1 - p))"
      ]
     },
     "execution_count": 329,
     "metadata": {},
     "output_type": "execute_result"
    }
   ],
   "source": [
    "# Take the derivative.\n",
    "dd = diff(d,p)\n",
    "dd"
   ]
  },
  {
   "cell_type": "code",
   "execution_count": 328,
   "id": "80cc46e9",
   "metadata": {},
   "outputs": [
    {
     "data": {
      "text/latex": [
       "$\\displaystyle k \\left(- \\frac{\\left(\\frac{1}{2} - \\lambda\\right) \\left(\\lambda \\left(1 - p\\right) + \\frac{p}{2}\\right)^{k}}{\\lambda \\left(1 - p\\right) + \\frac{p}{2}} - \\frac{\\left(\\lambda - \\frac{1}{2}\\right) \\left(\\frac{p}{2} + \\left(1 - \\lambda\\right) \\left(1 - p\\right)\\right)^{k}}{\\frac{p}{2} + \\left(1 - \\lambda\\right) \\left(1 - p\\right)}\\right)$"
      ],
      "text/plain": [
       "k*(-(1/2 - lamda)*(lamda*(1 - p) + p/2)**k/(lamda*(1 - p) + p/2) - (lamda - 1/2)*(p/2 + (1 - lamda)*(1 - p))**k/(p/2 + (1 - lamda)*(1 - p)))"
      ]
     },
     "execution_count": 328,
     "metadata": {},
     "output_type": "execute_result"
    }
   ],
   "source": [
    "collect(dd, k)"
   ]
  },
  {
   "cell_type": "markdown",
   "id": "2340513f",
   "metadata": {},
   "source": [
    "Simplifying gives:\n",
    "$$k\\left(\\lambda-\\frac{1}{2}\\right) \\left[ \\left( \\lambda(1-p)+\\frac{p}{2} \\right)^{k-1} - \\left( (1-\\lambda)(1-p)+\\frac{p}{2} \\right)^{k-1} \\right]$$"
   ]
  },
  {
   "cell_type": "markdown",
   "id": "ab7cc362",
   "metadata": {},
   "source": [
    "From inspection you can see this rate of change of distance between the two sides is always non-negative as follows.\n",
    "\n",
    "$k$ is always positive.\n",
    "\n",
    "If $\\lambda=1/2$ then the derivative is zero and the lhs equals the rhs always.\n",
    "\n",
    "Fix $\\lambda>1/2$. You can see that the first round bracketed term in the square brackets is always greater than the second round bracketed term, so the subtraction is positive.\n",
    "\n",
    "For $\\lambda<1/2$ the sign flips still result in an overall positive derivative.\n",
    "\n",
    "QED"
   ]
  },
  {
   "cell_type": "markdown",
   "id": "72bb5635",
   "metadata": {},
   "source": [
    "### Exercise 8.20 - Wayne Dam"
   ]
  },
  {
   "cell_type": "markdown",
   "id": "afb953f6",
   "metadata": {},
   "source": [
    "The unitary operator can be written:\n",
    "$$\n",
    "U = \\left( X\\otimes\\ketbra{1}{1} + I\\otimes\\ketbra{0}{0} \\right) \\cdot\n",
    "(\\ketbra{0}{0}\\otimes I + \\ketbra{1}{1}\\otimes R_y(\\theta))\n",
    "$$\n",
    "Expanding gives us:\n",
    "$$\n",
    "U = \\ketbra{1}{0} \\otimes \\ketbra{1}{1} + \\ketbra{0}{1}\\otimes \\ketbra{1}{1}R_y(\\theta) + \\ketbra{0}{0}\\otimes \\ketbra{0}{0} + \\ketbra{1}{1}\\otimes\\ketbra{0}{0}R_y(\\theta)\n",
    "$$\n",
    "\n",
    "The Kraus operators are given by $E_i = \\bra{i}U\\ket{0}$.\n",
    "\n",
    "Substituting and evaluating we have:\n",
    "$$\n",
    "E_0 = \\ketbra{0}{0} + \\ketbra{1}{1}\\cdot R_{00} \\\\\n",
    "= \\left[\\begin{array}{cc} 1 & 0 \\\\ 0 & \\sqrt{1-\\gamma} \\end{array}\\right]\n",
    "$$\n",
    "\n",
    "$$\n",
    "E_1 = \\ketbra{0}{1}\\cdot R_{10} \\\\\n",
    "= \\left[\\begin{array}{cc} 0 & \\sqrt{\\gamma} \\\\ 0 & 0 \\end{array}\\right]\n",
    "$$"
   ]
  },
  {
   "cell_type": "markdown",
   "id": "2806bf3b",
   "metadata": {},
   "source": [
    "### Exercise 8.21 - Wayne Dam\n",
    "\n",
    "See: https://quantumcomputing.stackexchange.com/questions/6828/amplitude-damping-of-a-harmonic-oscillator\n",
    "\n",
    "I'm not getting this one."
   ]
  },
  {
   "cell_type": "markdown",
   "id": "86b63706",
   "metadata": {},
   "source": [
    "### Exercise 8.22 - Wayne Dam\n",
    "This is just straightforward substituting and simplifying."
   ]
  },
  {
   "cell_type": "code",
   "execution_count": 330,
   "id": "b7632d57",
   "metadata": {},
   "outputs": [],
   "source": [
    "a,c = symbols('a c')\n",
    "b = symbols('b', complex=True)"
   ]
  },
  {
   "cell_type": "code",
   "execution_count": 332,
   "id": "58737f07",
   "metadata": {},
   "outputs": [
    {
     "data": {
      "text/latex": [
       "$\\displaystyle \\left[\\begin{matrix}a & b\\\\\\overline{b} & c\\end{matrix}\\right]$"
      ],
      "text/plain": [
       "Matrix([\n",
       "[           a, b],\n",
       "[conjugate(b), c]])"
      ]
     },
     "execution_count": 332,
     "metadata": {},
     "output_type": "execute_result"
    }
   ],
   "source": [
    "rho = Matrix([[a,b],[conjugate(b),c]])\n",
    "rho"
   ]
  },
  {
   "cell_type": "code",
   "execution_count": 333,
   "id": "230976a5",
   "metadata": {},
   "outputs": [
    {
     "data": {
      "text/latex": [
       "$\\displaystyle \\left[\\begin{matrix}1 & 0\\\\0 & \\sqrt{1 - \\gamma}\\end{matrix}\\right]$"
      ],
      "text/plain": [
       "Matrix([\n",
       "[1,               0],\n",
       "[0, sqrt(1 - gamma)]])"
      ]
     },
     "metadata": {},
     "output_type": "display_data"
    },
    {
     "data": {
      "text/latex": [
       "$\\displaystyle \\left[\\begin{matrix}0 & \\sqrt{\\gamma}\\\\0 & 0\\end{matrix}\\right]$"
      ],
      "text/plain": [
       "Matrix([\n",
       "[0, sqrt(gamma)],\n",
       "[0,           0]])"
      ]
     },
     "metadata": {},
     "output_type": "display_data"
    }
   ],
   "source": [
    "E0 = Matrix([[1,0],[0,sqrt(1-gamma)]])\n",
    "E1 = Matrix([[0,sqrt(gamma)],[0,0]])\n",
    "display(E0,E1)"
   ]
  },
  {
   "cell_type": "code",
   "execution_count": 334,
   "id": "4914f9fc",
   "metadata": {},
   "outputs": [
    {
     "data": {
      "text/latex": [
       "$\\displaystyle \\left[\\begin{matrix}a + c \\gamma & b \\sqrt{1 - \\gamma}\\\\\\sqrt{1 - \\gamma} \\overline{b} & c \\left(1 - \\gamma\\right)\\end{matrix}\\right]$"
      ],
      "text/plain": [
       "Matrix([\n",
       "[                 a + c*gamma, b*sqrt(1 - gamma)],\n",
       "[sqrt(1 - gamma)*conjugate(b),     c*(1 - gamma)]])"
      ]
     },
     "execution_count": 334,
     "metadata": {},
     "output_type": "execute_result"
    }
   ],
   "source": [
    "rho_2 = E0*rho*E0.transpose() + E1*rho*E1.transpose()\n",
    "rho_2"
   ]
  },
  {
   "cell_type": "markdown",
   "id": "0e099bd6",
   "metadata": {},
   "source": [
    "Use the constraint that the trace of $\\rho$ equals 1, i.e., $a+c=1$, to put $a+c\\gamma$ into the book's form."
   ]
  },
  {
   "cell_type": "markdown",
   "id": "05356332",
   "metadata": {},
   "source": [
    "### Exercise 8.23 - Wayne Dam"
   ]
  },
  {
   "cell_type": "markdown",
   "id": "a64c9313",
   "metadata": {},
   "source": [
    "This is just equation plugging and verifying the result.\n",
    "The first step is to decompose the dual rail ${\\cal E}_{AD} \\otimes {\\cal E}_{AD}$ into a composition of two operators, one for each rail.\n",
    "\n",
    "So, ${\\cal E}_{AD} \\otimes {\\cal E}_{AD} = {\\cal E}^1 \\circ {\\cal E}^2$, where:\n",
    "\n",
    "${\\cal E}^1$ Kraus operators: $E_0\\otimes I$, $E_1 \\otimes I$.\n",
    "\n",
    "${\\cal E}^2$ Kraus operators: $I\\otimes E_0$, $I\\otimes E_1$.\n",
    "\n",
    "From a previous problem we know the Kraus operators of two composite systems is just all product pairs of the operators for each system.\n",
    "\n",
    "So the operators for ${\\cal E}_{AD} \\otimes {\\cal E}_{AD}$ are:\n",
    "$$E_0\\otimes E_0, E_0\\otimes E_1, E_1\\otimes E_0, E_1\\otimes E_1.$$\n",
    "\n"
   ]
  },
  {
   "cell_type": "code",
   "execution_count": 140,
   "id": "e8760704",
   "metadata": {},
   "outputs": [],
   "source": [
    "from sympy import *\n",
    "from sympy.physics.quantum import TensorProduct"
   ]
  },
  {
   "cell_type": "code",
   "execution_count": 223,
   "id": "70847ce9",
   "metadata": {},
   "outputs": [],
   "source": [
    "gamma, E0, E1,a,b = symbols('gamma E0 E1 a b')\n",
    "a,b = symbols('a b', complex=True)"
   ]
  },
  {
   "cell_type": "code",
   "execution_count": 335,
   "id": "1fe0d268",
   "metadata": {},
   "outputs": [
    {
     "data": {
      "text/latex": [
       "$\\displaystyle \\left[\\begin{matrix}1 & 0\\\\0 & \\sqrt{1 - \\gamma}\\end{matrix}\\right]$"
      ],
      "text/plain": [
       "Matrix([\n",
       "[1,               0],\n",
       "[0, sqrt(1 - gamma)]])"
      ]
     },
     "metadata": {},
     "output_type": "display_data"
    },
    {
     "data": {
      "text/latex": [
       "$\\displaystyle \\left[\\begin{matrix}0 & \\sqrt{\\gamma}\\\\0 & 0\\end{matrix}\\right]$"
      ],
      "text/plain": [
       "Matrix([\n",
       "[0, sqrt(gamma)],\n",
       "[0,           0]])"
      ]
     },
     "metadata": {},
     "output_type": "display_data"
    }
   ],
   "source": [
    "# Set up the base Kraus operators for an AD channel.\n",
    "\n",
    "E0 = Matrix([[1,0],[0,sqrt(1-gamma)]])\n",
    "E1 = Matrix([[0,sqrt(gamma)],[0,0]])\n",
    "display(E0,E1)"
   ]
  },
  {
   "cell_type": "code",
   "execution_count": 338,
   "id": "25ddc5d5",
   "metadata": {},
   "outputs": [
    {
     "data": {
      "text/latex": [
       "$\\displaystyle \\left[\\begin{matrix}1 & 0 & 0 & 0\\\\0 & \\sqrt{1 - \\gamma} & 0 & 0\\\\0 & 0 & \\sqrt{1 - \\gamma} & 0\\\\0 & 0 & 0 & 1 - \\gamma\\end{matrix}\\right]$"
      ],
      "text/plain": [
       "Matrix([\n",
       "[1,               0,               0,         0],\n",
       "[0, sqrt(1 - gamma),               0,         0],\n",
       "[0,               0, sqrt(1 - gamma),         0],\n",
       "[0,               0,               0, 1 - gamma]])"
      ]
     },
     "metadata": {},
     "output_type": "display_data"
    },
    {
     "data": {
      "text/latex": [
       "$\\displaystyle \\left[\\begin{matrix}0 & \\sqrt{\\gamma} & 0 & 0\\\\0 & 0 & 0 & 0\\\\0 & 0 & 0 & \\sqrt{\\gamma} \\sqrt{1 - \\gamma}\\\\0 & 0 & 0 & 0\\end{matrix}\\right]$"
      ],
      "text/plain": [
       "Matrix([\n",
       "[0, sqrt(gamma), 0,                           0],\n",
       "[0,           0, 0,                           0],\n",
       "[0,           0, 0, sqrt(gamma)*sqrt(1 - gamma)],\n",
       "[0,           0, 0,                           0]])"
      ]
     },
     "metadata": {},
     "output_type": "display_data"
    },
    {
     "data": {
      "text/latex": [
       "$\\displaystyle \\left[\\begin{matrix}0 & 0 & \\sqrt{\\gamma} & 0\\\\0 & 0 & 0 & \\sqrt{\\gamma} \\sqrt{1 - \\gamma}\\\\0 & 0 & 0 & 0\\\\0 & 0 & 0 & 0\\end{matrix}\\right]$"
      ],
      "text/plain": [
       "Matrix([\n",
       "[0, 0, sqrt(gamma),                           0],\n",
       "[0, 0,           0, sqrt(gamma)*sqrt(1 - gamma)],\n",
       "[0, 0,           0,                           0],\n",
       "[0, 0,           0,                           0]])"
      ]
     },
     "metadata": {},
     "output_type": "display_data"
    },
    {
     "data": {
      "text/latex": [
       "$\\displaystyle \\left[\\begin{matrix}0 & 0 & 0 & \\gamma\\\\0 & 0 & 0 & 0\\\\0 & 0 & 0 & 0\\\\0 & 0 & 0 & 0\\end{matrix}\\right]$"
      ],
      "text/plain": [
       "Matrix([\n",
       "[0, 0, 0, gamma],\n",
       "[0, 0, 0,     0],\n",
       "[0, 0, 0,     0],\n",
       "[0, 0, 0,     0]])"
      ]
     },
     "metadata": {},
     "output_type": "display_data"
    }
   ],
   "source": [
    "# Now tensor all product pairs to get the operators for the dual system.\n",
    "\n",
    "E = [E0,E1]\n",
    "\n",
    "tp = []\n",
    "for e1 in E:\n",
    "    for e2 in E:\n",
    "        display( TensorProduct(e1,e2) )\n",
    "        tp.append(TensorProduct(e1,e2))\n",
    "        "
   ]
  },
  {
   "cell_type": "code",
   "execution_count": 341,
   "id": "33cd749d",
   "metadata": {},
   "outputs": [
    {
     "data": {
      "text/latex": [
       "$\\displaystyle \\left[\\begin{matrix}1 & 0 & 0 & 0\\\\0 & 1 & 0 & 0\\\\0 & 0 & 1 & 0\\\\0 & 0 & 0 & 1\\end{matrix}\\right]$"
      ],
      "text/plain": [
       "Matrix([\n",
       "[1, 0, 0, 0],\n",
       "[0, 1, 0, 0],\n",
       "[0, 0, 1, 0],\n",
       "[0, 0, 0, 1]])"
      ]
     },
     "execution_count": 341,
     "metadata": {},
     "output_type": "execute_result"
    }
   ],
   "source": [
    "# Check they satisfy the resolution of identity property.\n",
    "\n",
    "# https://stackoverflow.com/questions/49292151/sum-of-a-list-of-sympy-matrices\n",
    "Id_check = sum([x.transpose()*x for x in tp], zeros(4))\n",
    "simplify(Id_check)"
   ]
  },
  {
   "cell_type": "code",
   "execution_count": 186,
   "id": "110ef5c7",
   "metadata": {},
   "outputs": [],
   "source": [
    "from sympy.physics.quantum import *\n",
    "from sympy.physics.quantum.density import *"
   ]
  },
  {
   "cell_type": "code",
   "execution_count": 230,
   "id": "65cbead0",
   "metadata": {},
   "outputs": [
    {
     "data": {
      "text/latex": [
       "$\\displaystyle \\left[\\begin{matrix}0\\\\a\\\\b\\\\0\\end{matrix}\\right]$"
      ],
      "text/plain": [
       "Matrix([\n",
       "[0],\n",
       "[a],\n",
       "[b],\n",
       "[0]])"
      ]
     },
     "execution_count": 230,
     "metadata": {},
     "output_type": "execute_result"
    }
   ],
   "source": [
    "Psi = Matrix([[0,a,b,0]]).transpose()\n",
    "Psi"
   ]
  },
  {
   "cell_type": "code",
   "execution_count": 242,
   "id": "be50c860",
   "metadata": {},
   "outputs": [
    {
     "data": {
      "text/latex": [
       "$\\displaystyle \\left[\\begin{matrix}0 & 0 & 0 & 0\\\\0 & a \\overline{a} & a \\overline{b} & 0\\\\0 & b \\overline{a} & b \\overline{b} & 0\\\\0 & 0 & 0 & 0\\end{matrix}\\right]$"
      ],
      "text/plain": [
       "Matrix([\n",
       "[0,              0,              0, 0],\n",
       "[0, a*conjugate(a), a*conjugate(b), 0],\n",
       "[0, b*conjugate(a), b*conjugate(b), 0],\n",
       "[0,              0,              0, 0]])"
      ]
     },
     "execution_count": 242,
     "metadata": {},
     "output_type": "execute_result"
    }
   ],
   "source": [
    "Psi*Dagger(Psi)"
   ]
  },
  {
   "cell_type": "code",
   "execution_count": 343,
   "id": "872cfccb",
   "metadata": {},
   "outputs": [
    {
     "data": {
      "text/latex": [
       "$\\displaystyle \\left[\\begin{matrix}\\sqrt{1 - \\gamma} & 0 & 0 & 0\\\\0 & \\sqrt{1 - \\gamma} & 0 & 0\\\\0 & 0 & \\sqrt{1 - \\gamma} & 0\\\\0 & 0 & 0 & \\sqrt{1 - \\gamma}\\end{matrix}\\right]$"
      ],
      "text/plain": [
       "Matrix([\n",
       "[sqrt(1 - gamma),               0,               0,               0],\n",
       "[              0, sqrt(1 - gamma),               0,               0],\n",
       "[              0,               0, sqrt(1 - gamma),               0],\n",
       "[              0,               0,               0, sqrt(1 - gamma)]])"
      ]
     },
     "execution_count": 343,
     "metadata": {},
     "output_type": "execute_result"
    }
   ],
   "source": [
    "# The first proposed dual rail operator.\n",
    "Edr0 = sqrt(1-gamma)*eye(4)\n",
    "Edr0"
   ]
  },
  {
   "cell_type": "code",
   "execution_count": 345,
   "id": "6895043e",
   "metadata": {},
   "outputs": [
    {
     "data": {
      "text/latex": [
       "$\\displaystyle \\left[\\begin{matrix}0 & 0 & 0 & 0\\\\0 & a \\left(1 - \\gamma\\right) \\overline{a} & a \\left(1 - \\gamma\\right) \\overline{b} & 0\\\\0 & b \\left(1 - \\gamma\\right) \\overline{a} & b \\left(1 - \\gamma\\right) \\overline{b} & 0\\\\0 & 0 & 0 & 0\\end{matrix}\\right]$"
      ],
      "text/plain": [
       "Matrix([\n",
       "[0,                          0,                          0, 0],\n",
       "[0, a*(1 - gamma)*conjugate(a), a*(1 - gamma)*conjugate(b), 0],\n",
       "[0, b*(1 - gamma)*conjugate(a), b*(1 - gamma)*conjugate(b), 0],\n",
       "[0,                          0,                          0, 0]])"
      ]
     },
     "execution_count": 345,
     "metadata": {},
     "output_type": "execute_result"
    }
   ],
   "source": [
    "# Generate the product using the first DR Kraus operator.\n",
    "tp[0]*Psi*Dagger(Psi)*tp[0].transpose()"
   ]
  },
  {
   "cell_type": "code",
   "execution_count": 344,
   "id": "398ab243",
   "metadata": {},
   "outputs": [
    {
     "data": {
      "text/latex": [
       "$\\displaystyle \\left[\\begin{matrix}0 & 0 & 0 & 0\\\\0 & a \\left(1 - \\gamma\\right) \\overline{a} & a \\left(1 - \\gamma\\right) \\overline{b} & 0\\\\0 & b \\left(1 - \\gamma\\right) \\overline{a} & b \\left(1 - \\gamma\\right) \\overline{b} & 0\\\\0 & 0 & 0 & 0\\end{matrix}\\right]$"
      ],
      "text/plain": [
       "Matrix([\n",
       "[0,                          0,                          0, 0],\n",
       "[0, a*(1 - gamma)*conjugate(a), a*(1 - gamma)*conjugate(b), 0],\n",
       "[0, b*(1 - gamma)*conjugate(a), b*(1 - gamma)*conjugate(b), 0],\n",
       "[0,                          0,                          0, 0]])"
      ]
     },
     "execution_count": 344,
     "metadata": {},
     "output_type": "execute_result"
    }
   ],
   "source": [
    "# Check against the proposed Kraus operator.\n",
    "Edr0*Psi*Dagger(Psi)*Edr0.transpose()"
   ]
  },
  {
   "cell_type": "markdown",
   "id": "0963ef84",
   "metadata": {},
   "source": [
    "They are equal. All good.\n",
    "\n",
    "Now look at the products for the remaining three DR operators.\n",
    "\n",
    "Note the last one is a zero matrix."
   ]
  },
  {
   "cell_type": "code",
   "execution_count": 250,
   "id": "c07ae829",
   "metadata": {},
   "outputs": [
    {
     "data": {
      "text/latex": [
       "$\\displaystyle \\left[\\begin{matrix}a \\gamma \\overline{a} & 0 & 0 & 0\\\\0 & 0 & 0 & 0\\\\0 & 0 & 0 & 0\\\\0 & 0 & 0 & 0\\end{matrix}\\right]$"
      ],
      "text/plain": [
       "Matrix([\n",
       "[a*gamma*conjugate(a), 0, 0, 0],\n",
       "[                   0, 0, 0, 0],\n",
       "[                   0, 0, 0, 0],\n",
       "[                   0, 0, 0, 0]])"
      ]
     },
     "execution_count": 250,
     "metadata": {},
     "output_type": "execute_result"
    }
   ],
   "source": [
    "tp[1]*Psi*Dagger(Psi)*tp[1].transpose()"
   ]
  },
  {
   "cell_type": "code",
   "execution_count": 237,
   "id": "5e265b6e",
   "metadata": {},
   "outputs": [
    {
     "data": {
      "text/latex": [
       "$\\displaystyle \\left[\\begin{matrix}b \\gamma \\overline{b} & 0 & 0 & 0\\\\0 & 0 & 0 & 0\\\\0 & 0 & 0 & 0\\\\0 & 0 & 0 & 0\\end{matrix}\\right]$"
      ],
      "text/plain": [
       "Matrix([\n",
       "[b*gamma*conjugate(b), 0, 0, 0],\n",
       "[                   0, 0, 0, 0],\n",
       "[                   0, 0, 0, 0],\n",
       "[                   0, 0, 0, 0]])"
      ]
     },
     "execution_count": 237,
     "metadata": {},
     "output_type": "execute_result"
    }
   ],
   "source": [
    "tp[2]*Psi*Dagger(Psi)*tp[2].transpose()"
   ]
  },
  {
   "cell_type": "code",
   "execution_count": 238,
   "id": "753f99d0",
   "metadata": {},
   "outputs": [
    {
     "data": {
      "text/latex": [
       "$\\displaystyle \\left[\\begin{matrix}0 & 0 & 0 & 0\\\\0 & 0 & 0 & 0\\\\0 & 0 & 0 & 0\\\\0 & 0 & 0 & 0\\end{matrix}\\right]$"
      ],
      "text/plain": [
       "Matrix([\n",
       "[0, 0, 0, 0],\n",
       "[0, 0, 0, 0],\n",
       "[0, 0, 0, 0],\n",
       "[0, 0, 0, 0]])"
      ]
     },
     "execution_count": 238,
     "metadata": {},
     "output_type": "execute_result"
    }
   ],
   "source": [
    "tp[3]*Psi*Dagger(Psi)*tp[3].transpose()"
   ]
  },
  {
   "cell_type": "code",
   "execution_count": 346,
   "id": "7fbbd13d",
   "metadata": {},
   "outputs": [
    {
     "data": {
      "text/latex": [
       "$\\displaystyle \\left[\\begin{matrix}0 & \\sqrt{\\gamma} & \\sqrt{\\gamma} & 0\\\\0 & 0 & 0 & 0\\\\0 & 0 & 0 & 0\\\\0 & 0 & 0 & 0\\end{matrix}\\right]$"
      ],
      "text/plain": [
       "Matrix([\n",
       "[0, sqrt(gamma), sqrt(gamma), 0],\n",
       "[0,           0,           0, 0],\n",
       "[0,           0,           0, 0],\n",
       "[0,           0,           0, 0]])"
      ]
     },
     "execution_count": 346,
     "metadata": {},
     "output_type": "execute_result"
    }
   ],
   "source": [
    "# Define the second propose DR Kraus operator.\n",
    "Edr1 = zeros(4)\n",
    "Edr1[0,1] = sqrt(gamma); Edr1[0,2] = sqrt(gamma)\n",
    "Edr1"
   ]
  },
  {
   "cell_type": "code",
   "execution_count": 347,
   "id": "53ce0926",
   "metadata": {},
   "outputs": [
    {
     "data": {
      "text/latex": [
       "$\\displaystyle \\left[\\begin{matrix}a \\gamma \\overline{a} + b \\gamma \\overline{b} & 0 & 0 & 0\\\\0 & 0 & 0 & 0\\\\0 & 0 & 0 & 0\\\\0 & 0 & 0 & 0\\end{matrix}\\right]$"
      ],
      "text/plain": [
       "Matrix([\n",
       "[a*gamma*conjugate(a) + b*gamma*conjugate(b), 0, 0, 0],\n",
       "[                                          0, 0, 0, 0],\n",
       "[                                          0, 0, 0, 0],\n",
       "[                                          0, 0, 0, 0]])"
      ]
     },
     "execution_count": 347,
     "metadata": {},
     "output_type": "execute_result"
    }
   ],
   "source": [
    "# Calculate the product using the Kraus operators from the pair wise tensor products.\n",
    "tp[1]*Psi*Dagger(Psi)*tp[1].transpose() + tp[2]*Psi*Dagger(Psi)*tp[2].transpose()"
   ]
  },
  {
   "cell_type": "code",
   "execution_count": 348,
   "id": "56004f62",
   "metadata": {},
   "outputs": [
    {
     "data": {
      "text/latex": [
       "$\\displaystyle \\left[\\begin{matrix}\\gamma \\left(a \\overline{a} + b \\overline{b}\\right) & 0 & 0 & 0\\\\0 & 0 & 0 & 0\\\\0 & 0 & 0 & 0\\\\0 & 0 & 0 & 0\\end{matrix}\\right]$"
      ],
      "text/plain": [
       "Matrix([\n",
       "[gamma*(a*conjugate(a) + b*conjugate(b)), 0, 0, 0],\n",
       "[                                      0, 0, 0, 0],\n",
       "[                                      0, 0, 0, 0],\n",
       "[                                      0, 0, 0, 0]])"
      ]
     },
     "execution_count": 348,
     "metadata": {},
     "output_type": "execute_result"
    }
   ],
   "source": [
    "# Check against the proposed operator.\n",
    "Edr1*Psi*Dagger(Psi)*Edr1.transpose()\n",
    "simplify(_)"
   ]
  },
  {
   "cell_type": "markdown",
   "id": "1007cdb2",
   "metadata": {},
   "source": [
    "They are equal. \n",
    "\n",
    "Done."
   ]
  },
  {
   "cell_type": "code",
   "execution_count": null,
   "id": "de097418",
   "metadata": {},
   "outputs": [],
   "source": []
  }
 ],
 "metadata": {
  "kernelspec": {
   "display_name": "Python 3",
   "language": "python",
   "name": "python3"
  },
  "language_info": {
   "codemirror_mode": {
    "name": "ipython",
    "version": 3
   },
   "file_extension": ".py",
   "mimetype": "text/x-python",
   "name": "python",
   "nbconvert_exporter": "python",
   "pygments_lexer": "ipython3",
   "version": "3.8.10"
  },
  "widgets": {
   "application/vnd.jupyter.widget-state+json": {
    "state": {},
    "version_major": 2,
    "version_minor": 0
   }
  }
 },
 "nbformat": 4,
 "nbformat_minor": 5
}
