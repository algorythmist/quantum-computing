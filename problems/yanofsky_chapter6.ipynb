{
 "cells": [
  {
   "cell_type": "markdown",
   "id": "96cdcf5f",
   "metadata": {},
   "source": [
    "#### This cell is  used to define bras, kets, brackets for latex\n",
    "$\n",
    "\\newcommand{\\ket}[1]{\\left|{#1}\\right\\rangle}\n",
    "\\newcommand{\\bra}[1]{\\left\\langle{#1}\\right|}\n",
    "\\newcommand{\\braket}[2]{\\left\\langle{#1}\\middle|{#2}\\right\\rangle}\n",
    "$"
   ]
  },
  {
   "cell_type": "markdown",
   "id": "a1bdbdad",
   "metadata": {},
   "source": [
    "### Exercise 6.1.1\n",
    "\n",
    "$$\n",
    "f(x) = x \\rightarrow \\begin{bmatrix}1 & 0\\\\0 & 1 \\end{bmatrix}\\\\\n",
    "f(x) = 1 \\rightarrow \\begin{bmatrix}1 & 1\\\\0 & 0 \\end{bmatrix}\\\\\n",
    "f(x) = 0 \\rightarrow \\begin{bmatrix}0 & 0\\\\1 & 1 \\end{bmatrix}\n",
    "$$\n"
   ]
  },
  {
   "cell_type": "markdown",
   "id": "f517d6c6",
   "metadata": {},
   "source": [
    "### Exercise 6.1.3"
   ]
  },
  {
   "cell_type": "code",
   "execution_count": 14,
   "id": "f6133274",
   "metadata": {},
   "outputs": [
    {
     "data": {
      "text/plain": [
       "array([[1, 0, 0, 0],\n",
       "       [0, 1, 0, 0],\n",
       "       [0, 0, 1, 0],\n",
       "       [0, 0, 0, 1]])"
      ]
     },
     "execution_count": 14,
     "metadata": {},
     "output_type": "execute_result"
    }
   ],
   "source": [
    "from qc.algos import build_deutsch_oracle\n",
    "\n",
    "build_deutsch_oracle(lambda x: 0)"
   ]
  },
  {
   "cell_type": "code",
   "execution_count": 15,
   "id": "b2b13227",
   "metadata": {},
   "outputs": [],
   "source": [
    "Uc1 = build_deutsch_oracle(lambda x: 1)"
   ]
  },
  {
   "cell_type": "code",
   "execution_count": 16,
   "id": "8ca7f893",
   "metadata": {},
   "outputs": [
    {
     "data": {
      "text/plain": [
       "array([[0, 1, 0, 0],\n",
       "       [1, 0, 0, 0],\n",
       "       [0, 0, 0, 1],\n",
       "       [0, 0, 1, 0]])"
      ]
     },
     "execution_count": 16,
     "metadata": {},
     "output_type": "execute_result"
    }
   ],
   "source": [
    "Uc1"
   ]
  },
  {
   "cell_type": "code",
   "execution_count": 17,
   "id": "24a33667",
   "metadata": {},
   "outputs": [
    {
     "data": {
      "text/plain": [
       "array([[1, 0, 0, 0],\n",
       "       [0, 1, 0, 0],\n",
       "       [0, 0, 1, 0],\n",
       "       [0, 0, 0, 1]])"
      ]
     },
     "execution_count": 17,
     "metadata": {},
     "output_type": "execute_result"
    }
   ],
   "source": [
    "Uc1@Uc1"
   ]
  },
  {
   "cell_type": "code",
   "execution_count": 18,
   "id": "3e8bc946",
   "metadata": {},
   "outputs": [
    {
     "data": {
      "text/plain": [
       "array([[1, 0, 0, 0],\n",
       "       [0, 1, 0, 0],\n",
       "       [0, 0, 0, 1],\n",
       "       [0, 0, 1, 0]])"
      ]
     },
     "execution_count": 18,
     "metadata": {},
     "output_type": "execute_result"
    }
   ],
   "source": [
    "build_deutsch_oracle(lambda x : x)"
   ]
  },
  {
   "cell_type": "code",
   "execution_count": null,
   "id": "90274496",
   "metadata": {},
   "outputs": [],
   "source": []
  }
 ],
 "metadata": {
  "kernelspec": {
   "display_name": "quantum-computing",
   "language": "python",
   "name": "quantum-computing"
  },
  "language_info": {
   "codemirror_mode": {
    "name": "ipython",
    "version": 3
   },
   "file_extension": ".py",
   "mimetype": "text/x-python",
   "name": "python",
   "nbconvert_exporter": "python",
   "pygments_lexer": "ipython3",
   "version": "3.10.9"
  }
 },
 "nbformat": 4,
 "nbformat_minor": 5
}
