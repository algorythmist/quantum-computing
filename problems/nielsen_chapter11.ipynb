{
 "cells": [
  {
   "cell_type": "markdown",
   "id": "ab729c9a",
   "metadata": {},
   "source": [
    "# Quantum Computation and Quantum Information\n",
    "\n",
    "## Chapter 11 Problems"
   ]
  },
  {
   "cell_type": "markdown",
   "id": "80c0a7f8",
   "metadata": {},
   "source": [
    "#### Latex: Define bras, kets, brackets\n",
    "$\n",
    "\\newcommand{\\ket}[1]{\\left|{#1}\\right\\rangle}\n",
    "\\newcommand{\\bra}[1]{\\left\\langle{#1}\\right|}\n",
    "\\newcommand{\\braket}[2]{\\left\\langle{#1}\\middle|{#2}\\right\\rangle}\n",
    "$"
   ]
  },
  {
   "cell_type": "markdown",
   "id": "42144c5b",
   "metadata": {},
   "source": [
    "### Exercise 11.1\n"
   ]
  },
  {
   "cell_type": "code",
   "execution_count": 4,
   "id": "74da5fea-6860-4d73-8843-e7301df9eb99",
   "metadata": {},
   "outputs": [],
   "source": [
    "from qc.information import *\n",
    "import pytest\n",
    "\n",
    "fair_coin = [1. / 2, 1. / 2]\n",
    "assert shannon_entropy(fair_coin) == 1.\n",
    "fair_die = np.ones(6) / 6\n",
    "assert shannon_entropy(fair_die) == pytest.approx(2.584962500721156)\n",
    "biased_coin = [0.6, 0.4]\n",
    "assert shannon_entropy(biased_coin) == pytest.approx(0.9709505944546686)\n",
    "biased_die = [0.1, 0.1, 0.1, 0.1, 0.1, 0.5]\n",
    "assert shannon_entropy(biased_die) == pytest.approx(2.1609640474436813)"
   ]
  },
  {
   "cell_type": "markdown",
   "id": "d9711f1c",
   "metadata": {},
   "source": [
    "### Exercise 11.2\n",
    "\n",
    "$$\n",
    "I(p(1+\\epsilon) = I(p)+I(1+\\epsilon)\n",
    "$$\n",
    "\n",
    "Assuming $\\epsilon$ is small the left-hand side can be approximated by a Taylor expansion.\n",
    "$I(p(1+\\epsilon) = I(p) + I'(p)p(1+\\epsilon) $\n",
    "\n",
    "so\n",
    "\n",
    "$$\n",
    "I'(p)p(1+\\epsilon) = I(1+\\epsilon) \\implies I'(p) = \\frac{I(1+\\epsilon)}{p(1+\\epsilon)} \\rightarrow \\frac{I(1)}{p}\n",
    "$$\n",
    "\n",
    "which means\n",
    "$$\n",
    "I(p) = I(1)\\log p\n",
    "$$"
   ]
  },
  {
   "cell_type": "code",
   "execution_count": null,
   "id": "877c0588-f275-4b8b-acc9-64bb6ce06321",
   "metadata": {},
   "outputs": [],
   "source": []
  }
 ],
 "metadata": {
  "kernelspec": {
   "display_name": "quantum-computing",
   "language": "python",
   "name": "quantum-computing"
  },
  "language_info": {
   "codemirror_mode": {
    "name": "ipython",
    "version": 3
   },
   "file_extension": ".py",
   "mimetype": "text/x-python",
   "name": "python",
   "nbconvert_exporter": "python",
   "pygments_lexer": "ipython3",
   "version": "3.10.11"
  }
 },
 "nbformat": 4,
 "nbformat_minor": 5
}
