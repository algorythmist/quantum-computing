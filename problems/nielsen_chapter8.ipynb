{
 "cells": [
  {
   "cell_type": "markdown",
   "id": "ab729c9a",
   "metadata": {},
   "source": [
    "# Quantum Computation and Quantum Information\n",
    "\n",
    "## Chapter 8 Problems"
   ]
  },
  {
   "cell_type": "markdown",
   "id": "80c0a7f8",
   "metadata": {},
   "source": [
    "#### Latex: Define bras, kets, brackets\n",
    "$\n",
    "\\newcommand{\\ket}[1]{\\left|{#1}\\right\\rangle}\n",
    "\\newcommand{\\bra}[1]{\\left\\langle{#1}\\right|}\n",
    "\\newcommand{\\braket}[2]{\\left\\langle{#1}\\middle|{#2}\\right\\rangle}\n",
    "$"
   ]
  },
  {
   "cell_type": "markdown",
   "id": "82acb411-abba-4edb-a011-1835e7891fba",
   "metadata": {},
   "source": [
    "$$\n",
    "\\mathcal{E}(\\rho) = \\sum_k E_k\\rho E_k^\\dagger\n",
    "$$\n",
    "\n",
    "where $E_k \\equiv \\bra{e_k}U\\ket{e_0}$"
   ]
  },
  {
   "cell_type": "markdown",
   "id": "42144c5b",
   "metadata": {},
   "source": [
    "### Exercise 8.1\n",
    "\n",
    "$\\ket{\\psi} \\rightarrow U\\ket{\\psi}$ means $\\bra{\\psi} \\rightarrow \\bra{\\psi}U^\\dagger$,\n",
    "so $\\rho = \\ket{\\psi}\\bra{\\psi} \\rightarrow U\\ket{\\psi}\\bra{\\psi}U^\\dagger$"
   ]
  },
  {
   "cell_type": "markdown",
   "id": "d9711f1c",
   "metadata": {},
   "source": [
    "### Exercise 8.2\n",
    "\n",
    "This is solved in section 2.4.1"
   ]
  },
  {
   "cell_type": "markdown",
   "id": "e7687dbb-cce7-46f6-a5af-6ccf1e7e326f",
   "metadata": {},
   "source": [
    "### Exercise 8.4\n",
    "\n",
    "To calculate the $E_k$, I sandwich them between two orthonormal states $\\ket{i}, \\ket{j}$ of the principal system.\n",
    "\n",
    "\\begin{eqnarray}\n",
    "\\bra{i}E_0\\ket{j} = \\bra{0}\\bra{i}U\\ket{j}\\ket{0} =\\\\\n",
    "\\bra{0}\\bra{i}(P_0\\otimes I + P_1\\otimes X)\\ket{j}\\ket{0} =\\\\\n",
    "\\bra{0}\\bra{i}(P_0\\ket{j}\\ket{0} + P_1\\ket{j}\\ket{1}) = \\braket{0}{0}\\bra{i}P_0\\ket{j}+\\braket{0}{1} \\bra{i}P_1\\ket{j}=\\\\\n",
    "\\bra{i}P_0\\ket{j}\n",
    "\\end{eqnarray}\n",
    "\n",
    "Therefore $E_0 = P_0$\n",
    "\n",
    "Similarly,\n",
    "\n",
    "\\begin{equation}\n",
    "\\bra{i}E_1\\ket{j} = \\bra{1}\\bra{i}U\\ket{j}\\ket{0} = \\bra{1}\\bra{i}(P_0\\otimes I + P_1\\otimes X)\\ket{j}\\ket{0} = \\bra{i}P_1\\ket{j}\n",
    "\\end{equation}\n",
    "\n",
    "Therefore $E_1 = P_1$\n",
    "\n",
    "$$\n",
    "\\mathcal{E}(\\rho) = P_0\\rho P_0+P_1\\rho P_1\n",
    "$$"
   ]
  },
  {
   "cell_type": "markdown",
   "id": "51405fb4-ffb8-43c8-a66e-5c615c2a67eb",
   "metadata": {},
   "source": [
    "### Exercise 8.5\n",
    "\n",
    "The steps in exercise 8.4 demonstrate that in general, for $U = A\\otimes I+ B\\otimes X$, then $E_0 = A$ and $E_1 = B$.\n",
    "\n",
    "So in this case, $E_0 = X/\\sqrt{2}$ and $E_1 = Y/\\sqrt{2}$"
   ]
  },
  {
   "cell_type": "markdown",
   "id": "bbb3bd6f-fa83-47f8-9e97-2d83de909148",
   "metadata": {},
   "source": [
    "### Exercise 8.6\n",
    "\n",
    "$$\n",
    "\\mathscr{E}(\\rho_A) = \\sum_k E_k\\rho_A E^\\dagger_k\n",
    "$$\n",
    "\n",
    "Let $\\rho_B = \\mathscr{E}(\\rho_A)$\n",
    "\n",
    "$$\n",
    "\\mathscr{F}(\\rho_B) = \\sum_j F_j\\rho_B F^\\dagger_j = \\sum_{jk}F_jE_k \\rho_A E^\\dagger_k F^\\dagger_j \n",
    "$$"
   ]
  },
  {
   "cell_type": "code",
   "execution_count": null,
   "id": "a7d18a42-878a-4228-96a5-8b245575b25f",
   "metadata": {},
   "outputs": [],
   "source": []
  }
 ],
 "metadata": {
  "kernelspec": {
   "display_name": "quantum-formalism",
   "language": "python",
   "name": "quantum-formalism"
  },
  "language_info": {
   "codemirror_mode": {
    "name": "ipython",
    "version": 3
   },
   "file_extension": ".py",
   "mimetype": "text/x-python",
   "name": "python",
   "nbconvert_exporter": "python",
   "pygments_lexer": "ipython3",
   "version": "3.10.13"
  },
  "widgets": {
   "application/vnd.jupyter.widget-state+json": {
    "state": {},
    "version_major": 2,
    "version_minor": 0
   }
  }
 },
 "nbformat": 4,
 "nbformat_minor": 5
}
