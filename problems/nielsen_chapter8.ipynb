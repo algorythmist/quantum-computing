{
 "cells": [
  {
   "cell_type": "markdown",
   "id": "ab729c9a",
   "metadata": {},
   "source": [
    "# Quantum Computation and Quantum Information\n",
    "\n",
    "## Chapter 8 Problems\n",
    "\n",
    "### Solutions by Wayne Dam and Dimitri Papaioannou"
   ]
  },
  {
   "cell_type": "markdown",
   "id": "80c0a7f8",
   "metadata": {},
   "source": [
    "#### Latex: Define bras, kets, brackets\n",
    "$\n",
    "\\newcommand{\\ket}[1]{\\left|{#1}\\right\\rangle}\n",
    "\\newcommand{\\bra}[1]{\\left\\langle{#1}\\right|}\n",
    "\\newcommand{\\braket}[2]{\\left\\langle{#1}\\middle|{#2}\\right\\rangle}\n",
    "\\newcommand{\\ketbra}[2]{\\left|{#1}\\rangle \\langle{#2}\\right|}\n",
    "$"
   ]
  },
  {
   "cell_type": "markdown",
   "id": "82acb411-abba-4edb-a011-1835e7891fba",
   "metadata": {},
   "source": [
    "$$\n",
    "\\mathcal{E}(\\rho) = \\sum_k E_k\\rho E_k^\\dagger\n",
    "$$\n",
    "\n",
    "where $E_k \\equiv \\bra{e_k}U\\ket{e_0}$"
   ]
  },
  {
   "cell_type": "markdown",
   "id": "42144c5b",
   "metadata": {},
   "source": [
    "### Exercise 8.1\n",
    "\n",
    "$\\ket{\\psi} \\rightarrow U\\ket{\\psi}$ means $\\bra{\\psi} \\rightarrow \\bra{\\psi}U^\\dagger$,\n",
    "so $\\rho = \\ket{\\psi}\\bra{\\psi} \\rightarrow U\\ket{\\psi}\\bra{\\psi}U^\\dagger$"
   ]
  },
  {
   "cell_type": "markdown",
   "id": "d9711f1c",
   "metadata": {},
   "source": [
    "### Exercise 8.2\n",
    "\n",
    "This is solved in section 2.4.1"
   ]
  },
  {
   "cell_type": "markdown",
   "id": "86f6b0b4-1def-459b-9c52-efa55dee6444",
   "metadata": {},
   "source": [
    "### Exercise 8.4 (Dimitri)\n",
    "\n",
    "To calculate the $E_k$, I sandwich them between two orthonormal states $\\ket{i}, \\ket{j}$ of the principal system.\n",
    "\n",
    "\\begin{eqnarray}\n",
    "\\bra{i}E_0\\ket{j} = \\bra{0}\\bra{i}U\\ket{j}\\ket{0} =\\\\\n",
    "\\bra{0}\\bra{i}(P_0\\otimes I + P_1\\otimes X)\\ket{j}\\ket{0} =\\\\\n",
    "\\bra{0}\\bra{i}(P_0\\ket{j}\\ket{0} + P_1\\ket{j}\\ket{1}) = \\braket{0}{0}\\bra{i}P_0\\ket{j}+\\braket{0}{1} \\bra{i}P_1\\ket{j}=\\\\\n",
    "\\bra{i}P_0\\ket{j}\n",
    "\\end{eqnarray}\n",
    "\n",
    "Therefore $E_0 = P_0$\n",
    "\n",
    "Similarly,\n",
    "\n",
    "\\begin{equation}\n",
    "\\bra{i}E_1\\ket{j} = \\bra{1}\\bra{i}U\\ket{j}\\ket{0} = \\bra{1}\\bra{i}(P_0\\otimes I + P_1\\otimes X)\\ket{j}\\ket{0} = \\bra{i}P_1\\ket{j}\n",
    "\\end{equation}\n",
    "\n",
    "Therefore $E_1 = P_1$\n",
    "\n",
    "$$\n",
    "\\mathcal{E}(\\rho) = P_0\\rho P_0+P_1\\rho P_1\n",
    "$$"
   ]
  },
  {
   "cell_type": "markdown",
   "id": "c5d00ddc-2c85-44fc-838b-3493a152bf4a",
   "metadata": {},
   "source": [
    "### Exercise 8.4, alternate - Wayne Dam\n",
    "\n",
    "This is essentially the same calculation from the definition of the $E_k$'s, but explicit about the tensor product implied. The text defines $E_k = \\bra{e_k}U\\ket{e_0}$. This can be confusing since the $\\ket{e_k}$'s are basis for the environment while $U$ acts on the entire system. I.e., both the principal system and the environment.\n",
    "\n",
    "Writing out in full this properly is,\n",
    "$$ E_k = (I \\otimes \\bra{e_k}) U (I \\otimes \\ket{e_0}.$$\n",
    "\n",
    "Substituting in the given $U$,\n",
    "$$ E_k = (I \\otimes \\bra{e_k}) (P_0\\otimes I + P_1\\otimes X) (I \\otimes \\ket{e_0}).$$\n",
    "\n",
    "Using the standard tensor identity, \n",
    "$$(A\\otimes B)(C\\otimes D) = AC \\otimes BD,$$\n",
    "we have:\n",
    "$$ E_k = IP_0 I \\otimes \\bra{e_k}I\\ket{e_0} + IP_1 I \\otimes \\bra{e_k}X\\ket{e_0} \\\\\n",
    "= P_0 \\otimes \\braket{e_k}{e_0} + P_1 \\otimes \\braket{e_k}{e_1} \\\\\n",
    "= P_0 \\delta_{k0} + P_1 \\delta_{k1}.\n",
    "$$\n",
    "\n",
    "Note that tensoring by a scalar, like the two inner products, is just normal scalar multiplication.\n",
    "\n",
    "This gives the result $E_0 = P_0$ and $E_1 = P_1$, so $$\n",
    "\\mathcal{E}(\\rho) = P_0\\rho P_0+P_1\\rho P_1.\n",
    "$$"
   ]
  },
  {
   "cell_type": "markdown",
   "id": "51405fb4-ffb8-43c8-a66e-5c615c2a67eb",
   "metadata": {},
   "source": [
    "### Exercise 8.5\n",
    "\n",
    "The steps in exercise 8.4 demonstrate that in general, for $U = A\\otimes I+ B\\otimes X$, then $E_0 = A$ and $E_1 = B$.\n",
    "\n",
    "So in this case, $E_0 = X/\\sqrt{2}$ and $E_1 = Y/\\sqrt{2}$"
   ]
  },
  {
   "cell_type": "markdown",
   "id": "bbb3bd6f-fa83-47f8-9e97-2d83de909148",
   "metadata": {},
   "source": [
    "### Exercise 8.6\n",
    "\n",
    "$$\n",
    "\\mathscr{E}(\\rho_A) = \\sum_k E_k\\rho_A E^\\dagger_k\n",
    "$$\n",
    "\n",
    "Let $\\rho_B = \\mathscr{E}(\\rho_A)$\n",
    "\n",
    "$$\n",
    "\\mathscr{F}(\\rho_B) = \\sum_j F_j\\rho_B F^\\dagger_j = \\sum_{jk}F_jE_k \\rho_A E^\\dagger_k F^\\dagger_j \n",
    "$$"
   ]
  },
  {
   "cell_type": "markdown",
   "id": "0be736cc-07e9-42ab-a63a-e4a7b3d0a03f",
   "metadata": {},
   "source": [
    "### Exercise 8.8\n",
    "\n",
    "We need an operator such that $E_\\infty^\\dagger E_\\infty = I - \\sum_k E_k^\\dagger E_k$.\n",
    "Since $\\sum_k E_k^\\dagger E < I$, the operator on the rhs is positive, therefore it has a square root.\n",
    "\n",
    "Let $E_\\infty = \\sqrt{I - \\sum_k E_k^\\dagger E_k}$"
   ]
  },
  {
   "cell_type": "markdown",
   "id": "7e2aba6a-ffd5-4300-9cb7-fbe74858e577",
   "metadata": {},
   "source": [
    "### Exercise 8.9 (Measurement Model) - Wayne Dam\n",
    "\n",
    "This is similar to the discussion on page 365 of the 2000 edition, *System-environment models for any operator-sum representation*, except here we are looking at distinct outcomes. I'm not entirely clear on this but the derivation is straightforward.\n",
    "\n",
    "**GIVEN:**\n",
    "* for each $m$ let $E_{mk}$ be a sot of operation elements for $\\mathcal{E}_m$.\n",
    "* environment $E$ has basis $\\ket{mk}$.\n",
    "* define the operator $U$ via, $U\\ket{\\psi}\\ket{e_0} = \\sum_{mk} E_{mk}\\ket{\\psi}\\ket{mk}$.\n",
    "* projectors $P_m = \\sum_k \\ket{mk}\\bra{mk}$ on the environment $E$.\n",
    "\n",
    "**SHOW:**\n",
    "Performing $U$ on $\\rho \\otimes\\ket{e_0}\\bra{e_0}$ then measuring $P_m$ gives $m$ with probability $\\textrm{tr} \\left(\\mathcal{E}_m(\\rho)\\right)$ and post-measurment state $\\rho'_m = \\mathcal{E}_m(\\rho) / \\textrm{tr} \\mathcal{E}_m(\\rho)$.\n",
    "\n",
    "**DERIVATION:**\n",
    "\n",
    "From the problem statement we want to show that:\n",
    "$$ \\mathcal{E}_m(\\rho) \\equiv \\textrm{tr}_E \\left( P_m U (\\rho\\otimes\\ket{e_o}\\bra{e_0})U^\\dagger P_m \\right) $$\n",
    "can be written in the form,\n",
    "$$ \\mathcal{E}_m(\\rho) = \\sum_k E_{mk} \\rho E_{mk}^\\dagger$$\n",
    "using the $U$ and $P_m$ defined above.\n",
    "\n",
    "First, drop the second $P_m$ in the bracket by the circular trace property and that $P_m$ is a projector.\n",
    "Then substitute the first $P_m$ with its given definition and expand the partial trace over the basis of the environment.\n",
    "So we have,\n",
    "$$ \\mathcal{E}_m(\\rho) = \\sum_{m'k'} \\bra{m'k'} \\sum_k \\ket{mk}\\bra{mk} \n",
    " U (\\rho\\otimes\\ket{e_o}\\bra{e_0})U^\\dagger \\ket{m'k'} \\\\\n",
    " =  \\sum_{km'k'} \n",
    " \\braket{m'k'}{mk} \\bra{mk} U (\\rho\\otimes\\ket{e_o}\\bra{e_0})U^\\dagger \\ket{m'k'} \\\\\n",
    " = \\sum_k \n",
    "\\bra{mk} U (\\rho\\otimes\\ket{e_o}\\bra{e_0})U^\\dagger \\ket{mk},\\ \\ \\ \\  \\textrm{by orthogonality of the environment basis.}\\ \\ \\  (*)$$\n",
    "\n",
    "To get the operator elements, $E_{mk}$, into the formulation we need to substitute $U$ from it's definition in the problem statement. It's given in terms of an action on a joint system state vector so we must expand $\\rho$ in terms of system state vectors by its eigen-expansion, \n",
    "$$\\rho = \\sum_i \\lambda_i \\ket{f_i}\\bra{f_i}.$$\n",
    "So we have,\n",
    "$$\n",
    " \\mathcal{E}_m(\\rho) = \n",
    " \\sum_k \\bra{mk} U (\\sum_i \\lambda_i \\ket{f_i}\\bra{f_i} \\otimes\\ket{e_o}\\bra{e_0})U^\\dagger \\ket{mk} \\\\\n",
    " = \\sum_{ki} \\lambda_i \\bra{mk} U \\ket{f_i}\\ket{e_0} \\bra{f_i}\\bra{e_0} U^\\dagger \\ket{mk}\n",
    "$$\n",
    "But from the defining expression for $U$, we have,\n",
    "$$ U \\ket{f_i}\\ket{e_0} = \\sum_{ab} E_{ab}\\ket{f_i}\\ket{ab}$$.\n",
    "So,\n",
    "$$\n",
    "\\mathcal{E}_m(\\rho) = \n",
    "\\sum_{ki} \\lambda_i \\bra{mk} \\sum_{ab} E_{ab} \\ket{f_i}\\ket{ab} \\sum_{a'b'} \\bra{f_i}\\bra{ab} E_{ab}^\\dagger \\ket{mk} \\\\\n",
    "= \\sum_{kiaba'b'} \\lambda_i E_{ab}\\ket{f_i} \\braket{mk}{ab} \\bra{f_i}E_{a'b'}^\\dagger \\braket{a'b'}{mk} \\ \\ \\ \\Leftarrow\\ \\textrm{Use orthogonality.}\\\\\n",
    "= \\sum_{ki} \\lambda_i E_{mk}\\ket{f_i}\\bra{f_i}E_{mk}^\\dagger \\\\\n",
    "= \\sum_k E_{mk} \\left(\\sum_i \\lambda_i \\ket{f_i}\\bra{f_i} \\right) E_{mk}^\\dagger \\\\\n",
    "\\Rightarrow \\mathcal{E}_m(\\rho) = \\sum_k E_{mk} \\rho E_{mk}^\\dagger.\n",
    "$$\n",
    "\n",
    "So using the $U$ as defined lets us write the operator sum form as required.\n",
    "\n",
    "To get the probability that state $m$ is the outcome it turns out we will need the explicit form of the $E_{mk}$'s. We do this starting from (*) above.\n",
    "$$ \\mathcal{E}_m(\\rho)  = \\sum_k \n",
    "\\bra{mk} U (\\rho\\otimes\\ket{e_o}\\bra{e_0})U^\\dagger \\ket{mk} \\\\\n",
    "= \\sum_k \\bra{mk} U \\ket{e_0} \\rho \\bra{e_0} U^\\dagger \\ket{mk} \\\\\n",
    "\\equiv \\sum_k E_{mk}\\rho E_{mk}^\\dagger,\n",
    "$$\n",
    "where we've defined $$ E_{mk} = \\bra{mk}U\\ket{e_0}.$$\n",
    "\n",
    "The probability of state $m$ is given by,\n",
    "$$ p_m = \\textrm{tr} \\left( P_m U (\\rho\\otimes \\ket{e_0}\\bra{e_0} ) U^\\dagger \\right) \\\\\n",
    "= \\textrm{tr} \\sum_k \\ket{mk}\\bra{mk} U  \\left(\\rho\\otimes \\ket{e_0}\\bra{e_0} \\right) U^\\dagger \\\\\n",
    "= \\textrm{tr} \\sum_k \\bra{mk} U \\ket{e_0} \\rho \\bra{e_0} U^\\dagger \\ket{mk} \\\\\n",
    "= \\textrm{tr} \\sum_k E_{mk}\\rho E_{mk}^\\dagger \\\\\n",
    "= \\textrm{tr} \\sum_k E_{mk}\\rho E_{mk}^\\dagger \\\\\n",
    "= \\textrm{tr} \\mathcal{E}_m(\\rho).\n",
    "$$\n",
    "\n",
    "And so the probability of a post-measurement state $m$ is $\\textrm{tr} \\mathcal{E}_m(\\rho)$ with the post-measurement state being, $\\mathcal{E}_m(\\rho) / \\textrm{tr} \\mathcal{E}_m(\\rho)$.\n",
    "\n",
    "**NOTE:**\n",
    "\n",
    "Why can we write, $\\rho \\otimes \\ket{e_0}\\bra{e_0}$, as, $\\ket{e_0}\\rho \\bra{e_0}$, in the above, where $\\rho$ is in the system space and $\\ket{e_0}$ in the environment space?\n",
    "\n",
    "It's a little confusing because of the compressed notation used. Properly this would be written,\n",
    "$$ (\\rho\\otimes I)(I\\otimes \\ket{e_0})(I\\otimes\\bra{e_0}).$$\n",
    "\n",
    "Using the tensor identity $(A\\otimes B)(C\\otimes D) = AC\\otimes BD$ we see the rhs expands to,\n",
    "$$ \\rho II \\otimes I\\ket{e_0}\\bra{e_0} = \\rho \\otimes \\ket{e_0}\\bra{e_0},$$\n",
    "as required.\n",
    "\n",
    "Notice the first two brackets, though, can be expanded as,\n",
    "$$(\\rho \\otimes I)(I\\otimes\\ket{e_0}) = \\rho I \\otimes I\\ket{e_0} \\ \\ \\ \\ \\textrm{via the identity.}\\\\\n",
    "= I\\rho \\otimes \\ket{e_0} \\cdot 1 \\\\\n",
    "= (I\\otimes \\ket{e_0})(\\rho \\otimes 1) \\\\\n",
    "= \\ket{e_0}\\rho \\ \\ \\ \\ \\textrm{Using the compressed notation.}\n",
    "$$\n",
    "\n",
    "So $\\rho \\otimes \\ket{e_0}\\bra{e_0} = \\ket{e_0}\\rho \\bra{e_0}$ as claimed.\n",
    "\n",
    "The switching from an identity operator to the scalar 1 needs to be explained better but this is the essential argument."
   ]
  },
  {
   "cell_type": "markdown",
   "id": "6a158cef-c779-4dfb-96c0-5b6be2a1fc6d",
   "metadata": {},
   "source": [
    "### Derivation of Book's Eq'ns 8.71, 8.72, 8.73 (Wayne)\n",
    "\n",
    "These are used to justify the freedom in choosing the operation elements to describe the same system. Again, though, they are using a compressed tensor notation and the derivation is incomplete. They also suggest using resolution of the identity but only over the environment Hilbert space whereas I had to do it over the entire system plus environment space.\n",
    "\n",
    "From their description of the augmented system we have,\n",
    "$$ F_k = \\bra{e_k} (I\\otimes U')U\\ket{e_0} $$\n",
    "\n",
    "We can expand into tensor products by being explicit about the two Hilbert spaces, i.e., $\\ket{e_0} = I\\otimes \\ket{e_0}$, etc. Then introduce a resolution of the identity and simplify. The identity $(A\\otimes B)(C\\otimes D) = AC \\otimes BD$ is used throughout.\n",
    "\n",
    "$$ F_k = (I\\otimes \\bra{e_k})\\ (I\\otimes U')U\\ket{e_0} \\\\\n",
    "= (I\\otimes \\bra{e_k} U')\\ U\\ (I\\otimes \\ket{e_0})\n",
    "$$\n",
    "\n",
    "From the supplied solution we see we want to pick off the $(j0)$ components of $U$. There's already a $\\ket{e_0}$ to the right of $U$, so introduce a resolution of the identity on its left.\n",
    "\n",
    "$$ F_k = (I\\otimes \\bra{e_k} U') \\underbrace{\\ \\ \\sum_{ij} \\ket{ij} (\\bra{i}\\otimes\\bra{j})}_{I}\\ \\ U\\ (I\\otimes \\ket{e_0}) \\\\\n",
    "= (I\\otimes \\bra{e_k} U')\\ \n",
    "\\sum_{ij} \\ket{ij} (\\bra{i}\\otimes I)\\ \\ \\underbrace{(I\\otimes\\bra{j})\\ U\\ (I\\otimes \\ket{e_0})}_{\\bra{e_j}U\\ket{e_0}} \\\\\n",
    "= (I\\otimes \\bra{e_k} U')\\ \n",
    "\\underbrace{\\sum_{ij} (\\ket{i}\\otimes I)(I\\otimes\\ket{j}) (\\bra{i}\\otimes I)}_{\\text{Slide j ket left outside the sum.}}\n",
    "\\ \\  \\bra{e_j}U\\ket{e_0} \\\\\n",
    "= \\sum_j \\underbrace{(I\\otimes \\bra{e_k} U')\\ \\ (I\\otimes\\ket{j})}_{I\\otimes \\bra{e_k}U'\\ket{e_j}} \\ \\ \n",
    "\\underbrace{\\sum_{i} (\\ket{i}\\otimes I)(\\bra{i}\\otimes I)}_{I} \\ \\  \\bra{e_j}U\\ket{e_0} \\\\\n",
    "= \\sum_j \\left(I\\otimes \\bra{e_k}U'\\ket{e_j} \\right) \\ \\bra{e_j}U\\ket{e_0}\n",
    "$$\n",
    "\n",
    "We can then write this in the final form from the text,\n",
    "$$ F_k = \\sum_j U'_{kj} E_j $$."
   ]
  },
  {
   "cell_type": "markdown",
   "id": "d1d14671-1e82-4aa6-89f3-b56e086fa157",
   "metadata": {},
   "source": [
    "### Exercise 8.10 (Wayne Dam)\n",
    "\n",
    "*Theorem 8.3* All quantum operators on a Hilbert space of dimension $d$ can be generated by an operator sum representation containing at most $d^2$ elements.\n",
    "\n",
    "\n",
    "We are given a matrix $W_{jk} = \\textrm{tr}E_j^\\dagger E_k$.\n",
    "\n",
    "1. **Show $W$ is Hermitian.**\n",
    "\n",
    "Hermitian means $W=W^\\dagger \\longrightarrow W_{jk} = W_{kj}^*$.\n",
    "\n",
    "So starting with the definition of W,\n",
    "$$\n",
    "W_{jk} = \\textrm{tr} E_j^\\dagger E_k \\\\\n",
    "=  \\textrm{tr} \\left[ (E_j^\\dagger E_k)^{\\dagger^\\dagger} \\right] \\\\\n",
    "=  \\textrm{tr} \\left[ (E_k^\\dagger E_j)^{\\dagger} \\right] \\\\\n",
    "=  \\left[ \\textrm{tr} (E_k^\\dagger E_j) \\right]^{*} \\\\\n",
    "= W_{kj}^*,\n",
    "$$\n",
    "as required.\n",
    "\n",
    "2. **Show W has rank at most $d^2$.**\n",
    "* We are given the $\\{E_k\\}_{k=1}^M$\n",
    "* There are $M$ of them.\n",
    "* Let $e_k = \\textrm{vec} E_k \\in \\mathbb{C}^{d^2}$\n",
    "* So there are at most $d^2$ linearly independent $e_k$'s, even though there are perhaps $M>d^2$ of them.\n",
    "\n",
    "The matrix $W$ then has the form,\n",
    "\n",
    "$$W = \\left[ \\begin{array}{cccc}\n",
    "e_1^\\dagger e_1 & e_1^\\dagger e_2 & e_1^\\dagger e_3 & \\cdots \\\\\n",
    "e_2^\\dagger e_1 & e_2^\\dagger e_2 & e_2^\\dagger e_3 & \\\\\n",
    "e_3^\\dagger e_1 & e_3^\\dagger e_2 & e_3^\\dagger e_3 & \\\\\n",
    "&\\vdots && \\ddots\n",
    "\\end{array} \\right]\n",
    "$$\n",
    "\n",
    "We want to make a claim about the rank of $W$, which involves the linear independence of its columns.\n",
    "\n",
    "Assume the first $d^2$ $e_j$'s are linearly independent. So,\n",
    "$$ e_{d^2+1} = \\sum_i^{d^2} a_i e_i$$\n",
    "\n",
    "Look at the $d^2+1$'st column of $W$. We want to show it's linearly dependent on columns 1 to $d^2$. Taking the column components we have,\n",
    "$$\n",
    "W_{i,d^2+1} = e_i^\\dagger e_{d^2+1} \\\\\n",
    "= e_i^\\dagger \\sum_j^{d^2} a_j e_j \\\\\n",
    "= \\sum_j^{d^2} a_j e_i^\\dagger  e_j \\\\\n",
    "= \\sum_j^{d^2} a_j W_{ij}.\n",
    "$$\n",
    "So calling the $j$'th column vector of $W$, $w_j$, we have,\n",
    "$$w_{d^2+1} =  \\sum_j^{d^2} a_j w_{j}.$$\n",
    "\n",
    "We can see then that all columns after the $d^2$'th one are linearly dependent on the first $d^2$ linearly independent ones. Therefore, $W$ has rank at most $d^2$.\n",
    "\n",
    "3. **Using the diagonalization of $W$ define a new set of at most $d^2$ operation elements for $\\cal{E}$.**\n",
    "\n",
    "Let $W = U\\Lambda U^\\dagger$ be its eigen-decomposition. Then $\\Lambda = U^\\dagger W U$, and\n",
    "$$ \\lambda_i = \\sum_{ab} (U^\\dagger)_{ia} W_{ab} U_{bi}\\\\\n",
    "= \\sum_{ab} u_{ai}^* w_{ab} u_{bi}.$$\n",
    "\n",
    "Also define the new operation elements using the unitary $U$ by,\n",
    "$$F_i = \\sum_j u_{ij}^* E_j \\longrightarrow F_i^\\dagger = \\sum_j u_{ij}E_j^\\dagger$$.\n",
    "\n",
    "Using the definition of the elements of $W$ as traces and expanding the trace into the diagonal components we hhave,\n",
    "\n",
    "$$\\lambda_i = \\sum_{ab} u_{ai}^* \\sum_k \\bra{k}E_a^\\dagger E_b \\ket{k} u_{bi}\\\\\n",
    "= \\sum_{ab} \\sum_k \\bra{k} u_{ai}^* E_a^\\dagger \\cdot u_{bi} E_b \\ket{k} \\\\\n",
    "= \\sum_k \\bra{k} \\underbrace{\\sum_a u_{ai}^* E_a^\\dagger}_{F_i^\\dagger} \\cdot \n",
    "\\underbrace{\\sum_b u_{bi} E_b}_{F_i} \\ket{k} \\\\\n",
    "= \\sum_k \\bra{k}F_i^\\dagger F_i \\ket{k} \\\\\n",
    "$$\n",
    "And so,\n",
    "$$\\lambda_i = \\textrm{tr}F_i^\\dagger F_i$$.\n",
    "\n",
    "Note this means  $\\textrm{tr}F_i^\\dagger F_i > 0$ for $i\\leq d^2$ and equals 0 for $i>d^2$.\n",
    "\n",
    "And also,\n",
    "$$ \\textrm{tr}F_i^\\dagger F_i = \\textrm{vec}(F_i)^\\dagger \\textrm{vec}(F_i) \\\\\n",
    "= \\sum_{ab} (F_i)_{ab}^* (F_i)_{ab} \\\\\n",
    "= \\sum_{ab} \\left| (F_i)_{ab} \\right|^2.\n",
    "$$\n",
    "However, this can only equal 0 if all the $(F_i)_{ab}$ omponents equal 0.\n",
    "\n",
    "Therefore, $F_i=0$  for $i>d^2$, as required."
   ]
  },
  {
   "cell_type": "markdown",
   "id": "cc78470a-ee29-41e7-86a1-0ad3029b1151",
   "metadata": {},
   "source": [
    "### Exercise 8.12\n",
    "\n",
    "If the determinant is -1, we can absorb the reflection into the matrix S, which remains diagonal."
   ]
  },
  {
   "cell_type": "markdown",
   "id": "009dc42f-12b4-4b95-8031-65ffd2c550c4",
   "metadata": {},
   "source": [
    "### Exercise 8.13 - Wayne Dam\n",
    "Show that unitary transformations correspond to rotation of the Bloch spare.\n",
    "\n",
    "From page 174 any unitary qubit operator can be written as a phase modified rotation matrix,\n",
    "$$ U = e^{i\\alpha} R_{\\hat{n}}(\\beta)$$.\n",
    "\n",
    "A state with polar coordinates $(\\theta,\\phi)$ on the sphere in the computational basis is,\n",
    "$$ \\ket{\\psi} = \\cos(\\theta/2) \\ket{0} + e^{i\\phi}\\sin(\\theta/2) \\ket{1}$$.\n",
    "\n",
    "The unitary operation, $U\\ket{\\psi}$, is simply a rotation of the state ket as a vector in the computational basis and so a rotation on the Bloch sphere in $(\\theta,\\phi)$ as well."
   ]
  },
  {
   "cell_type": "markdown",
   "id": "129de9e5-4146-4ec5-98e3-694c90b52776",
   "metadata": {},
   "source": [
    "### Function to calculate the affine map of the Block sphere from equations 8.90, 8.91, 8.92."
   ]
  },
  {
   "cell_type": "code",
   "execution_count": 30,
   "id": "72c82b3b-3385-4924-b357-b9a31050ab9f",
   "metadata": {},
   "outputs": [],
   "source": [
    "from sympy.physics.matrices import msigma, Matrix\n",
    "from sympy import Trace, LeviCivita, zeros, KroneckerDelta, matrix2numpy, eye, sqrt\n",
    "from sympy.functions import conjugate\n",
    "from sympy import I, summation, symbols"
   ]
  },
  {
   "cell_type": "code",
   "execution_count": 7,
   "id": "9b13df09-4b6f-48e5-9764-67b99e3ba6a3",
   "metadata": {},
   "outputs": [],
   "source": [
    "def calc_bloch_transform(E):\n",
    "    # Input:\n",
    "    # E: list of the E_i Kraus operators for the operator sum representation.\n",
    "    #\n",
    "    # Output:\n",
    "    # M,c: Matrix and vector of the affine map r -> r' = Mr + c (equation 8.89)\n",
    "    \n",
    "    P = len(E)\n",
    "    M = zeros(3)\n",
    "    \n",
    "    a = [[Trace(E[i].H * msigma(k) / 2).simplify() for k in [1,2,3]] for i in range(P)]\n",
    "    alpha = [Trace(E[i].H).simplify()/2 for i in range(P)]\n",
    "    # Addressing a ~ [number of E_i's, 3]\n",
    "    # Addressing alpha ~ [number of E_i's]\n",
    "    \n",
    "    for j in range(3):\n",
    "        for k in range(3):\n",
    "            M[j,k] = sum([\n",
    "                a[l][j]*conjugate(a[l][k]) + conjugate(a[l][j])*a[l][k] + \n",
    "                ( \n",
    "                    abs(alpha[l])**2.0 - \n",
    "                    sum([a[l][p]*conjugate(a[l][p]) for p in range(3)]) \n",
    "                ) * KroneckerDelta(j,k) + \n",
    "                I * sum([ \n",
    "                    LeviCivita(j,k,p) * (alpha[l]*conjugate(a[l][p] - conjugate(alpha[l]*a[l][p]))) for p in range(3)\n",
    "                ])\n",
    "                for l in range(P)\n",
    "            ])\n",
    "            \n",
    "    c = zeros(3,1)\n",
    "    for k in range(2):\n",
    "        c[k] = 2*I * sum( [LeviCivita(j,p,k)*a[l][j]*conjugate(a[l][p])\n",
    "                           for l in range(P) for j in range(3) for p in range(3)])\n",
    "\n",
    "    return M, c       "
   ]
  },
  {
   "cell_type": "markdown",
   "id": "5ba38807-dec0-415f-94f9-d5c19074e9ad",
   "metadata": {},
   "source": [
    "### Exercise 8.14 - Wayne Dam\n",
    "Show that $\\det(S)$ need not be positive.\n",
    "\n",
    "Use the bit flip channel with $p=1/2$ as a degenerate case.\n",
    "We have\n",
    "$$E_0 = \\frac{1}{\\sqrt{2}} \\left[ \\begin{array}{cc}\n",
    "1 & 0 \\\\\n",
    "0 & 1\n",
    "\\end{array} \\right],\n",
    "E_0 =  \\frac{1}{\\sqrt{2}} \\left[ \\begin{array}{cc}\n",
    "0 & 1\\\\\n",
    "1 & 0\n",
    "\\end{array} \\right]\n",
    "$$"
   ]
  },
  {
   "cell_type": "code",
   "execution_count": 8,
   "id": "0663ca8b-7563-4ab7-b66f-08e50abb62e2",
   "metadata": {},
   "outputs": [
    {
     "data": {
      "text/latex": [
       "$\\displaystyle \\left[\\begin{matrix}\\frac{\\sqrt{2}}{2} & 0\\\\0 & \\frac{\\sqrt{2}}{2}\\end{matrix}\\right]$"
      ],
      "text/plain": [
       "Matrix([\n",
       "[sqrt(2)/2,         0],\n",
       "[        0, sqrt(2)/2]])"
      ]
     },
     "metadata": {},
     "output_type": "display_data"
    },
    {
     "data": {
      "text/latex": [
       "$\\displaystyle \\left[\\begin{matrix}0 & \\frac{\\sqrt{2}}{2}\\\\\\frac{\\sqrt{2}}{2} & 0\\end{matrix}\\right]$"
      ],
      "text/plain": [
       "Matrix([\n",
       "[        0, sqrt(2)/2],\n",
       "[sqrt(2)/2,         0]])"
      ]
     },
     "metadata": {},
     "output_type": "display_data"
    }
   ],
   "source": [
    "E = [1/sqrt(2)*eye(2), 1/sqrt(2)*Matrix([[0,1],[1,0]])]\n",
    "for x in E:\n",
    "    display(x)"
   ]
  },
  {
   "cell_type": "code",
   "execution_count": 9,
   "id": "121952c9-5ec9-4238-b644-2444802a6fcb",
   "metadata": {},
   "outputs": [
    {
     "data": {
      "text/latex": [
       "$\\displaystyle \\left[\\begin{matrix}1 & 0\\\\0 & 1\\end{matrix}\\right]$"
      ],
      "text/plain": [
       "Matrix([\n",
       "[1, 0],\n",
       "[0, 1]])"
      ]
     },
     "execution_count": 9,
     "metadata": {},
     "output_type": "execute_result"
    }
   ],
   "source": [
    "# Test they sum to identity properly with their dagger product.\n",
    "# https://stackoverflow.com/questions/49292151/sum-of-a-list-of-sympy-matrices\n",
    "sum([x.transpose()*x for x in E], zeros(2))"
   ]
  },
  {
   "cell_type": "code",
   "execution_count": 10,
   "id": "33e80eb1-85ae-4f30-b3dc-14ddebb174ab",
   "metadata": {},
   "outputs": [
    {
     "data": {
      "text/latex": [
       "$\\displaystyle \\left[\\begin{matrix}1.0 & 0 & 0\\\\0 & 0 & 0\\\\0 & 0 & 0\\end{matrix}\\right]$"
      ],
      "text/plain": [
       "Matrix([\n",
       "[1.0, 0, 0],\n",
       "[  0, 0, 0],\n",
       "[  0, 0, 0]])"
      ]
     },
     "metadata": {},
     "output_type": "display_data"
    },
    {
     "data": {
      "text/latex": [
       "$\\displaystyle \\left[\\begin{matrix}0\\\\0\\\\0\\end{matrix}\\right]$"
      ],
      "text/plain": [
       "Matrix([\n",
       "[0],\n",
       "[0],\n",
       "[0]])"
      ]
     },
     "metadata": {},
     "output_type": "display_data"
    }
   ],
   "source": [
    "M, c = calc_bloch_transform(E)\n",
    "\n",
    "display(M)\n",
    "display(c)"
   ]
  },
  {
   "cell_type": "code",
   "execution_count": 12,
   "id": "98f8e15a-b776-40db-bb96-0fcebc0ab88a",
   "metadata": {},
   "outputs": [
    {
     "data": {
      "text/plain": [
       "array([[1.+0.j, 0.+0.j, 0.+0.j],\n",
       "       [0.+0.j, 0.+0.j, 0.+0.j],\n",
       "       [0.+0.j, 0.+0.j, 0.+0.j]], dtype=complex64)"
      ]
     },
     "execution_count": 12,
     "metadata": {},
     "output_type": "execute_result"
    }
   ],
   "source": [
    "# Now get the polar decomposition\n",
    "import numpy as np\n",
    "\n",
    "m = matrix2numpy(M).astype(np.complex64)\n",
    "m"
   ]
  },
  {
   "cell_type": "code",
   "execution_count": 17,
   "id": "712a870d-2e32-44b0-9aca-58a81bc106fd",
   "metadata": {},
   "outputs": [],
   "source": [
    "from scipy.linalg import polar\n",
    "\n",
    "O,S = polar(m)"
   ]
  },
  {
   "cell_type": "code",
   "execution_count": 18,
   "id": "0124a234-6a73-4546-9d42-db36af7dc408",
   "metadata": {},
   "outputs": [
    {
     "data": {
      "text/latex": [
       "$\\displaystyle \\left[\\begin{matrix}1.0 & 0 & 0\\\\0 & 1.0 & 0\\\\0 & 0 & 1.0\\end{matrix}\\right]$"
      ],
      "text/plain": [
       "Matrix([\n",
       "[1.0,   0,   0],\n",
       "[  0, 1.0,   0],\n",
       "[  0,   0, 1.0]])"
      ]
     },
     "execution_count": 18,
     "metadata": {},
     "output_type": "execute_result"
    }
   ],
   "source": [
    "Matrix(O)"
   ]
  },
  {
   "cell_type": "code",
   "execution_count": 20,
   "id": "96db25cd-14fd-492c-8d12-ba8d4aeb46bb",
   "metadata": {},
   "outputs": [
    {
     "data": {
      "text/latex": [
       "$\\displaystyle \\left[\\begin{matrix}1.0 & 0 & 0\\\\0 & 0 & 0\\\\0 & 0 & 0\\end{matrix}\\right]$"
      ],
      "text/plain": [
       "Matrix([\n",
       "[1.0, 0, 0],\n",
       "[  0, 0, 0],\n",
       "[  0, 0, 0]])"
      ]
     },
     "execution_count": 20,
     "metadata": {},
     "output_type": "execute_result"
    }
   ],
   "source": [
    "Matrix(S)"
   ]
  },
  {
   "cell_type": "markdown",
   "id": "6600c4b6-c2ca-4e53-919b-1a71da4fee48",
   "metadata": {},
   "source": [
    "So the orthogonal matrix, $O$, is just the identity and $S$ just projects onto the x-axis.\n",
    "\n",
    "It is clearly not a positive matrix since it's eigenvalues are 1 and twice 0."
   ]
  },
  {
   "cell_type": "markdown",
   "id": "477c65c8-38ff-42c0-aee5-8b4ffee5c8f8",
   "metadata": {},
   "source": [
    "### Exercise 8.15 - Wayne Dam\n",
    "The Kraus operators in this case are:\n",
    "\n",
    "$$E_0 = \\frac{1}{2} \\left[ \\begin{array}{cc}\n",
    "1 & 1 \\\\\n",
    "1 & 1\n",
    "\\end{array} \\right],\n",
    "E_0 =  \\frac{1}{2} \\left[ \\begin{array}{cc}\n",
    "1 & -1\\\\\n",
    "-1 & 1\n",
    "\\end{array} \\right]\n",
    "$$"
   ]
  },
  {
   "cell_type": "code",
   "execution_count": 21,
   "id": "49d81684-3bb7-4d8e-8b95-8713e63385ea",
   "metadata": {},
   "outputs": [
    {
     "data": {
      "text/latex": [
       "$\\displaystyle \\left[\\begin{matrix}0.5 & 0.5\\\\0.5 & 0.5\\end{matrix}\\right]$"
      ],
      "text/plain": [
       "Matrix([\n",
       "[0.5, 0.5],\n",
       "[0.5, 0.5]])"
      ]
     },
     "metadata": {},
     "output_type": "display_data"
    },
    {
     "data": {
      "text/latex": [
       "$\\displaystyle \\left[\\begin{matrix}0.5 & -0.5\\\\-0.5 & 0.5\\end{matrix}\\right]$"
      ],
      "text/plain": [
       "Matrix([\n",
       "[ 0.5, -0.5],\n",
       "[-0.5,  0.5]])"
      ]
     },
     "metadata": {},
     "output_type": "display_data"
    }
   ],
   "source": [
    "E = [1/2*Matrix([[1,1],[1,1]]), 1/2*Matrix([[1,-1],[-1,1]])]\n",
    "\n",
    "for x in E:\n",
    "    display(x)"
   ]
  },
  {
   "cell_type": "code",
   "execution_count": 22,
   "id": "ed262f8f-bed5-476d-8302-ce5ff0af85c8",
   "metadata": {},
   "outputs": [
    {
     "data": {
      "text/latex": [
       "$\\displaystyle \\left[\\begin{matrix}1.0 & 0 & 0\\\\0 & 0 & 0\\\\0 & 0 & 0\\end{matrix}\\right]$"
      ],
      "text/plain": [
       "Matrix([\n",
       "[1.0, 0, 0],\n",
       "[  0, 0, 0],\n",
       "[  0, 0, 0]])"
      ]
     },
     "metadata": {},
     "output_type": "display_data"
    }
   ],
   "source": [
    "M, c = calc_bloch_transform(E)\n",
    "display(M)"
   ]
  },
  {
   "cell_type": "markdown",
   "id": "6784e154-f607-42a4-ab6d-ba340e60f38f",
   "metadata": {},
   "source": [
    "The transformation of the Bloch sphere just projects onto the x-axis.\n",
    "$$\n",
    "(r_x,r_y,r_z) \\rightarrow (r_x, 0,0)$$."
   ]
  },
  {
   "cell_type": "markdown",
   "id": "64ee57ca-b243-4725-adab-12baa7e59b59",
   "metadata": {},
   "source": [
    "### Exercise 8.17 - Wayne Dam\n",
    "Verify the identity (8.101)\n",
    "$$\\frac{I}{2} = \\frac{\\rho + X\\rho X + Y\\rho Y +Z\\rho Z}{4}$$"
   ]
  },
  {
   "cell_type": "markdown",
   "id": "3964a22a-dadb-47e0-ac8a-16ee7ca36530",
   "metadata": {},
   "source": [
    "1. Define\n",
    "$$ {\\cal E}(A) = \\frac{A + XA X + YA Y +ZA Z}{4}$$\n",
    "\n",
    "Show ${\\cal E}(I) = I,$ ${\\cal E}(X)={\\cal E}(Y) = {\\cal E}(Z) = 0$.\n",
    "\n",
    "We have\n",
    "$$ {\\cal E}(I) = \\frac{ I + XX + YY + ZZ}{4}$$\n",
    "Using the standard identities for Paul matrices, $X^2=Y^2=Z^2=I$, we immediately get ${\\cal E}(I)=I$.\n",
    "\n",
    "For ${\\cal E}(X)$ just substitute and evalute.\n",
    "$$ {\\cal E}(X) = \\frac{X + X^3 +YXY+ZXZ}{4} = \\frac{X+X-X-X}{4} = 0$$\n",
    "Same for $Y$ and $Z$."
   ]
  },
  {
   "cell_type": "markdown",
   "id": "1b35a4c2-430f-4b03-84c2-35639dab51b7",
   "metadata": {},
   "source": [
    "2. To show the identity use the sigma notation for the Pauli spin matrices, so $X = \\sigma_1$, etc. and with $\\sigma_0=I$.\n",
    "\n",
    "Our identities above can then be written, ${\\cal E}(\\sigma_i) = I \\delta_{i0}$.\n",
    "\n",
    "Our function can now be written,\n",
    "$${\\cal E}(\\rho) = \\frac{1}{4} \\sum_{k=0}^3 \\sigma_k \\rho \\sigma_k.$$\n",
    "\n",
    "In particular, ${\\cal E}(\\sigma_i) = \\frac{1}{4} \\sum_{k=0}^3 \\sigma_k \\sigma_i \\sigma_k$.\n",
    "\n",
    "Now, an arbitrary density matrix can be expanded in the Pauli basis operators as,\n",
    "$$\\rho = \\frac{1}{2} \\sum_i r_i \\sigma_i,$$\n",
    "where $r_0\\equiv 1$ and $\\sigma_0 = I$.\n",
    "\n",
    "Substituting this expansion into the function we have,\n",
    "$${\\cal E}(\\rho) = \\frac{1}{4} \\sum_k \\sigma_k \\cdot \\frac{1}{2} \\sum_i r_i \\sigma_i \\cdot \\sigma_k.$$\n",
    "\n",
    "Swapping sums, etc., gives us,\n",
    "$${\\cal E}(\\rho) = \\frac{1}{8} \\sum_i r_i \\sum_k \\sigma_k \\sigma_i \\sigma_k \\\\\n",
    "= \\frac{1}{2} \\sum_i r_i {\\cal E}(\\sigma_i) \\\\\n",
    "= \\frac{I}{2} \\sum_i r_i \\delta_{i0} \\\\\n",
    "= \\frac{r_0 I}{2} \\\\\n",
    "= \\frac{I}{2}.\n",
    "$$"
   ]
  },
  {
   "cell_type": "markdown",
   "id": "adcb91d6-fdde-4557-a380-61ac47602f59",
   "metadata": {},
   "source": [
    "### Exercise 8.18 - Wayne Dam\n",
    "For $k\\ge 1$ show that ${\\rm tr}(\\rho^k)$ is never increased by the action of the depolarizing channel."
   ]
  },
  {
   "cell_type": "markdown",
   "id": "15599d43-931f-4162-8531-a29efec7cc74",
   "metadata": {},
   "source": [
    "The trace of matrix is just the sum of its eigenvalues. For a density matrix we also have the constraint that they must be non-negative and sum to one.\n",
    "\n",
    "So, ${\\rm tr}(\\rho) = \\lambda_1 + \\lambda_2 = \\lambda + (1-\\lambda) = 1.$\n",
    "\n",
    "The eigenvalues of a power of a matrix are just the eigenvalues of the original matrix raised to that power.\n",
    "\n",
    "So, ${\\rm tr}(\\rho^k) = \\lambda_1^k + \\lambda_2^k = \\lambda^k + (1-\\lambda)^k$, $\\lambda \\in [0,1]$.\n",
    "\n",
    "The output density matrix of the depolarizing channel is,\n",
    "$$\\rho' = \\frac{p}{2}I + (1-p)\\rho \\\\\n",
    "\\longrightarrow {\\rm \\ eigenvalues: } \\frac{p}{2}+(1-p)\\lambda_{1,2}$$\n",
    "\n",
    "The claim is the trace of $\\rho'$ is less than or equal to the trace of $\\rho$:\n",
    "$$\\left( \\frac{p}{2}+(1-p)\\lambda\\right)^k + \\left( \\frac{p}{2}+(1-p)(1-\\lambda)\\right)^k \n",
    "\\overset{?}{\\le} \\lambda^k+(1-\\lambda)^k,\\ \\ \\lambda,p\\in[0,1],\\ k\\ge 1.$$"
   ]
  },
  {
   "cell_type": "code",
   "execution_count": 25,
   "id": "dd6da275-0821-44cb-be8c-277cc5f9c735",
   "metadata": {},
   "outputs": [
    {
     "data": {
      "text/latex": [
       "$\\displaystyle \\left(\\frac{p}{2} + \\left(1 - \\lambda\\right) \\left(1 - p\\right)\\right)^{k} + \\left(\\lambda \\left(1 - p\\right) + \\frac{p}{2}\\right)^{k}$"
      ],
      "text/plain": [
       "(p/2 + (1 - lamda)*(1 - p))**k + (lamda*(1 - p) + p/2)**k"
      ]
     },
     "metadata": {},
     "output_type": "display_data"
    },
    {
     "data": {
      "text/latex": [
       "$\\displaystyle \\lambda^{k} + \\left(1 - \\lambda\\right)^{k}$"
      ],
      "text/plain": [
       "lamda**k + (1 - lamda)**k"
      ]
     },
     "metadata": {},
     "output_type": "display_data"
    }
   ],
   "source": [
    "from sympy.plotting import plot, plot3d\n",
    "\n",
    "p, k, lamda = symbols('p k lamda')\n",
    "lhs = (p/2+(1-p)*lamda)**k + (p/2+(1-p)*(1-lamda))**k \n",
    "rhs = lamda**k + (1-lamda)**k\n",
    "\n",
    "display(lhs,rhs)"
   ]
  },
  {
   "cell_type": "markdown",
   "id": "87484034-de02-4782-8e34-f0b0afa27ca6",
   "metadata": {},
   "source": [
    "Plotting both sides for different values of $k$ and over the valid ranges of $p$ and $\\lambda$ we see the inequality holding."
   ]
  },
  {
   "cell_type": "code",
   "execution_count": 26,
   "id": "bb37b00c-86c7-4ee7-bb91-a819e7e57e97",
   "metadata": {},
   "outputs": [
    {
     "data": {
      "image/png": "[encoded data removed]",
      "text/plain": [
       "<Figure size 640x480 with 1 Axes>"
      ]
     },
     "metadata": {},
     "output_type": "display_data"
    },
    {
     "data": {
      "text/plain": [
       "<sympy.plotting.plot.Plot at 0x1f87f2cfd60>"
      ]
     },
     "execution_count": 26,
     "metadata": {},
     "output_type": "execute_result"
    }
   ],
   "source": [
    "plot3d( lhs.subs(k,2)\n",
    "       ,rhs.subs(k,2)\n",
    "       , (p,0.,1),(lamda,0,1) )"
   ]
  },
  {
   "cell_type": "markdown",
   "id": "ed2eae22-5306-4c86-99ed-24b95ff614c0",
   "metadata": {},
   "source": [
    "For $p=0$ the two sides are equal. For a given $\\lambda$ the difference between the two sides seems to monotonically increase as $p$ is increased from 0.\n",
    "\n",
    "If we can show this then the inequality is valid.\n",
    "\n",
    "So, take the difference of the two sides and take the derivative wrt $p$, holding $\\lambda$ as a constant."
   ]
  },
  {
   "cell_type": "code",
   "execution_count": 27,
   "id": "ade0c774-904e-4699-a1d5-13bb29efa172",
   "metadata": {},
   "outputs": [
    {
     "data": {
      "text/latex": [
       "$\\displaystyle \\lambda^{k} + \\left(1 - \\lambda\\right)^{k} - \\left(\\frac{p}{2} + \\left(1 - \\lambda\\right) \\left(1 - p\\right)\\right)^{k} - \\left(\\lambda \\left(1 - p\\right) + \\frac{p}{2}\\right)^{k}$"
      ],
      "text/plain": [
       "lamda**k + (1 - lamda)**k - (p/2 + (1 - lamda)*(1 - p))**k - (lamda*(1 - p) + p/2)**k"
      ]
     },
     "execution_count": 27,
     "metadata": {},
     "output_type": "execute_result"
    }
   ],
   "source": [
    "from sympy import diff, simplify, factor, cancel, collect\n",
    "\n",
    "d = lamda**k + (1-lamda)**k - ( (p/2+(1-p)*lamda)**k + ((p/2+(1-p)*(1-lamda))**k) )\n",
    "d"
   ]
  },
  {
   "cell_type": "code",
   "execution_count": 28,
   "id": "aa649e03-a89d-4d83-8ab4-b4f6ccdf434e",
   "metadata": {},
   "outputs": [
    {
     "data": {
      "text/latex": [
       "$\\displaystyle - \\frac{k \\left(\\frac{1}{2} - \\lambda\\right) \\left(\\lambda \\left(1 - p\\right) + \\frac{p}{2}\\right)^{k}}{\\lambda \\left(1 - p\\right) + \\frac{p}{2}} - \\frac{k \\left(\\lambda - \\frac{1}{2}\\right) \\left(\\frac{p}{2} + \\left(1 - \\lambda\\right) \\left(1 - p\\right)\\right)^{k}}{\\frac{p}{2} + \\left(1 - \\lambda\\right) \\left(1 - p\\right)}$"
      ],
      "text/plain": [
       "-k*(1/2 - lamda)*(lamda*(1 - p) + p/2)**k/(lamda*(1 - p) + p/2) - k*(lamda - 1/2)*(p/2 + (1 - lamda)*(1 - p))**k/(p/2 + (1 - lamda)*(1 - p))"
      ]
     },
     "execution_count": 28,
     "metadata": {},
     "output_type": "execute_result"
    }
   ],
   "source": [
    "# Take the derivative.\n",
    "dd = diff(d,p)\n",
    "dd"
   ]
  },
  {
   "cell_type": "code",
   "execution_count": 29,
   "id": "ccffdbaf-66f4-4766-b893-1977a8f96220",
   "metadata": {},
   "outputs": [
    {
     "data": {
      "text/latex": [
       "$\\displaystyle k \\left(- \\frac{\\left(\\frac{1}{2} - \\lambda\\right) \\left(\\lambda \\left(1 - p\\right) + \\frac{p}{2}\\right)^{k}}{\\lambda \\left(1 - p\\right) + \\frac{p}{2}} - \\frac{\\left(\\lambda - \\frac{1}{2}\\right) \\left(\\frac{p}{2} + \\left(1 - \\lambda\\right) \\left(1 - p\\right)\\right)^{k}}{\\frac{p}{2} + \\left(1 - \\lambda\\right) \\left(1 - p\\right)}\\right)$"
      ],
      "text/plain": [
       "k*(-(1/2 - lamda)*(lamda*(1 - p) + p/2)**k/(lamda*(1 - p) + p/2) - (lamda - 1/2)*(p/2 + (1 - lamda)*(1 - p))**k/(p/2 + (1 - lamda)*(1 - p)))"
      ]
     },
     "execution_count": 29,
     "metadata": {},
     "output_type": "execute_result"
    }
   ],
   "source": [
    "collect(dd, k)"
   ]
  },
  {
   "cell_type": "markdown",
   "id": "33d1dabd-fd4c-4a00-b720-0f66a978bce5",
   "metadata": {},
   "source": [
    "Simplifying gives:\n",
    "$$k\\left(\\lambda-\\frac{1}{2}\\right) \\left[ \\left( \\lambda(1-p)+\\frac{p}{2} \\right)^{k-1} - \\left( (1-\\lambda)(1-p)+\\frac{p}{2} \\right)^{k-1} \\right]$$\n",
    "\n",
    "From inspection you can see this rate of change of distance between the two sides is always non-negative as follows.\n",
    "\n",
    "$k$ is always positive.\n",
    "\n",
    "If $\\lambda=1/2$ then the derivative is zero and the lhs equals the rhs always.\n",
    "\n",
    "Fix $\\lambda>1/2$. You can see that the first round bracketed term in the square brackets is always greater than the second round bracketed term, so the subtraction is positive.\n",
    "\n",
    "For $\\lambda<1/2$ the sign flips still result in an overall positive derivative.\n",
    "\n",
    "QED"
   ]
  },
  {
   "cell_type": "markdown",
   "id": "d41a4bbf-939b-4ab4-a614-8af50a568197",
   "metadata": {},
   "source": [
    "## Exercise 8.19\n",
    "\n",
    "Let $\\ket{i}$ be an orthonormal basis in the d-dimensional space.\n",
    "\n",
    "$$\n",
    "\\frac{p}{d}I = \\frac{p}{d} I tr(\\rho) = \\frac{p}{d} \\sum_i \\ketbra{i}{i} \\sum_j \\bra{j}\\rho\\ket{j} = \n",
    "\\frac{p}{d} \\sum_{ij}\\ketbra{i}{j}\\rho \\ketbra{j}{i}\n",
    "$$\n",
    "\n",
    "So we can set the operation elements as $\\sqrt{\\frac{p}{d}}\\ketbra{i}{j}$."
   ]
  },
  {
   "cell_type": "markdown",
   "id": "4c0bffe7-df31-4ab0-8d90-79556635b4ef",
   "metadata": {},
   "source": [
    "### Exercise 8.20 - Wayne Dam\n",
    "\n",
    "The unitary operator can be written:\n",
    "$$\n",
    "U = \\left( X\\otimes\\ketbra{1}{1} + I\\otimes\\ketbra{0}{0} \\right) \\cdot\n",
    "(\\ketbra{0}{0}\\otimes I + \\ketbra{1}{1}\\otimes R_y(\\theta))\n",
    "$$\n",
    "Expanding gives us:\n",
    "$$\n",
    "U = \\ketbra{1}{0} \\otimes \\ketbra{1}{1} + \\ketbra{0}{1}\\otimes \\ketbra{1}{1}R_y(\\theta) + \\ketbra{0}{0}\\otimes \\ketbra{0}{0} + \\ketbra{1}{1}\\otimes\\ketbra{0}{0}R_y(\\theta)\n",
    "$$\n",
    "\n",
    "The Kraus operators are given by $E_i = \\bra{i}U\\ket{0}$.\n",
    "\n",
    "Substituting and evaluating we have:\n",
    "$$\n",
    "E_0 = \\ketbra{0}{0} + \\ketbra{1}{1}\\cdot R_{00} \\\\\n",
    "= \\left[\\begin{array}{cc} 1 & 0 \\\\ 0 & \\sqrt{1-\\gamma} \\end{array}\\right]\n",
    "$$\n",
    "\n",
    "$$\n",
    "E_1 = \\ketbra{0}{1}\\cdot R_{10} \\\\\n",
    "= \\left[\\begin{array}{cc} 0 & \\sqrt{\\gamma} \\\\ 0 & 0 \\end{array}\\right]\n",
    "$$"
   ]
  },
  {
   "cell_type": "markdown",
   "id": "9d7a0da5-3de9-4c86-8e23-2c1121b48066",
   "metadata": {},
   "source": [
    "### Exercise 8.20 - Dimitri\n",
    "\n",
    "$$\n",
    "R_y(\\theta)\\ket{0} = \\cos(\\theta/2)\\ket{0} + \\sin(\\theta/2)\\ket{1} := y\n",
    "$$\n",
    "\n",
    "$$\n",
    "\\ket{y}\\oplus\\ket{x}  \\cos(\\theta/2)\\ket{x} + \\sin(\\theta/2)\\ket{\\bar{x}} = y\\oplus(\\sqrt{1-\\gamma}\\ket{x} + \\sqrt{\\gamma}\\ket{\\bar{x}})\n",
    "$$"
   ]
  },
  {
   "cell_type": "markdown",
   "id": "b1d226ed-ed91-4911-912e-dc1e6361e652",
   "metadata": {},
   "source": [
    "### Exercise 8.21 - Wayne Dam\n",
    "\n",
    "See: https://quantumcomputing.stackexchange.com/questions/6828/amplitude-damping-of-a-harmonic-oscillator\n",
    "\n",
    "I'm not getting this one."
   ]
  },
  {
   "cell_type": "markdown",
   "id": "eaf3c1aa-0d4c-4c2c-9551-5d9e05173593",
   "metadata": {},
   "source": [
    "### Exercise 8.22 - Wayne Dam\n",
    "This is just straightforward substituting and simplifying."
   ]
  },
  {
   "cell_type": "code",
   "execution_count": 33,
   "id": "9b47298f-65f7-4ff1-893e-665299101002",
   "metadata": {},
   "outputs": [
    {
     "data": {
      "text/latex": [
       "$\\displaystyle \\left[\\begin{matrix}a & b\\\\\\overline{b} & c\\end{matrix}\\right]$"
      ],
      "text/plain": [
       "Matrix([\n",
       "[           a, b],\n",
       "[conjugate(b), c]])"
      ]
     },
     "execution_count": 33,
     "metadata": {},
     "output_type": "execute_result"
    }
   ],
   "source": [
    "a,c, gamma = symbols('a c gamma')\n",
    "b = symbols('b', complex=True)\n",
    "rho = Matrix([[a,b],[conjugate(b),c]])\n",
    "rho"
   ]
  },
  {
   "cell_type": "code",
   "execution_count": 34,
   "id": "14aed758-2623-4c82-8591-b061e7179481",
   "metadata": {},
   "outputs": [
    {
     "data": {
      "text/latex": [
       "$\\displaystyle \\left[\\begin{matrix}1 & 0\\\\0 & \\sqrt{1 - \\gamma}\\end{matrix}\\right]$"
      ],
      "text/plain": [
       "Matrix([\n",
       "[1,               0],\n",
       "[0, sqrt(1 - gamma)]])"
      ]
     },
     "metadata": {},
     "output_type": "display_data"
    },
    {
     "data": {
      "text/latex": [
       "$\\displaystyle \\left[\\begin{matrix}0 & \\sqrt{\\gamma}\\\\0 & 0\\end{matrix}\\right]$"
      ],
      "text/plain": [
       "Matrix([\n",
       "[0, sqrt(gamma)],\n",
       "[0,           0]])"
      ]
     },
     "metadata": {},
     "output_type": "display_data"
    }
   ],
   "source": [
    "E0 = Matrix([[1,0],[0,sqrt(1-gamma)]])\n",
    "E1 = Matrix([[0,sqrt(gamma)],[0,0]])\n",
    "display(E0,E1)"
   ]
  },
  {
   "cell_type": "code",
   "execution_count": 35,
   "id": "4d0f431e-4f4e-40b6-8baa-4ab786d756c3",
   "metadata": {},
   "outputs": [
    {
     "data": {
      "text/latex": [
       "$\\displaystyle \\left[\\begin{matrix}a + c \\gamma & b \\sqrt{1 - \\gamma}\\\\\\sqrt{1 - \\gamma} \\overline{b} & c \\left(1 - \\gamma\\right)\\end{matrix}\\right]$"
      ],
      "text/plain": [
       "Matrix([\n",
       "[                 a + c*gamma, b*sqrt(1 - gamma)],\n",
       "[sqrt(1 - gamma)*conjugate(b),     c*(1 - gamma)]])"
      ]
     },
     "execution_count": 35,
     "metadata": {},
     "output_type": "execute_result"
    }
   ],
   "source": [
    "rho_2 = E0*rho*E0.transpose() + E1*rho*E1.transpose()\n",
    "rho_2"
   ]
  },
  {
   "cell_type": "markdown",
   "id": "d5ae3a78-dfd0-417b-8fd7-6f0a157235ff",
   "metadata": {},
   "source": [
    "### Exercise 8.23 - Wayne Dam\n",
    "\n",
    "This is just equation plugging and verifying the result.\n",
    "The first step is to decompose the dual rail ${\\cal E}_{AD} \\otimes {\\cal E}_{AD}$ into a composition of two operators, one for each rail.\n",
    "\n",
    "So, ${\\cal E}_{AD} \\otimes {\\cal E}_{AD} = {\\cal E}^1 \\circ {\\cal E}^2$, where:\n",
    "\n",
    "${\\cal E}^1$ Kraus operators: $E_0\\otimes I$, $E_1 \\otimes I$.\n",
    "\n",
    "${\\cal E}^2$ Kraus operators: $I\\otimes E_0$, $I\\otimes E_1$.\n",
    "\n",
    "From a previous problem we know the Kraus operators of two composite systems is just all product pairs of the operators for each system.\n",
    "\n",
    "So the operators for ${\\cal E}_{AD} \\otimes {\\cal E}_{AD}$ are:\n",
    "$$E_0\\otimes E_0, E_0\\otimes E_1, E_1\\otimes E_0, E_1\\otimes E_1.$$\n",
    "\n"
   ]
  },
  {
   "cell_type": "code",
   "execution_count": 36,
   "id": "29ae56b8-c0ec-4ea9-aa01-98519896582b",
   "metadata": {},
   "outputs": [],
   "source": [
    "from sympy import *\n",
    "from sympy.physics.quantum import TensorProduct"
   ]
  },
  {
   "cell_type": "code",
   "execution_count": 37,
   "id": "3856f298-7558-45c1-b93a-cdd094fc2d6c",
   "metadata": {},
   "outputs": [],
   "source": [
    "gamma, E0, E1,a,b = symbols('gamma E0 E1 a b')\n",
    "a,b = symbols('a b', complex=True)"
   ]
  },
  {
   "cell_type": "code",
   "execution_count": 38,
   "id": "141e224b-2b07-494b-9131-1459428668b5",
   "metadata": {},
   "outputs": [
    {
     "data": {
      "text/latex": [
       "$\\displaystyle \\left[\\begin{matrix}1 & 0\\\\0 & \\sqrt{1 - \\gamma}\\end{matrix}\\right]$"
      ],
      "text/plain": [
       "Matrix([\n",
       "[1,               0],\n",
       "[0, sqrt(1 - gamma)]])"
      ]
     },
     "metadata": {},
     "output_type": "display_data"
    },
    {
     "data": {
      "text/latex": [
       "$\\displaystyle \\left[\\begin{matrix}0 & \\sqrt{\\gamma}\\\\0 & 0\\end{matrix}\\right]$"
      ],
      "text/plain": [
       "Matrix([\n",
       "[0, sqrt(gamma)],\n",
       "[0,           0]])"
      ]
     },
     "metadata": {},
     "output_type": "display_data"
    }
   ],
   "source": [
    "# Set up the base Kraus operators for an AD channel.\n",
    "\n",
    "E0 = Matrix([[1,0],[0,sqrt(1-gamma)]])\n",
    "E1 = Matrix([[0,sqrt(gamma)],[0,0]])\n",
    "display(E0,E1)"
   ]
  },
  {
   "cell_type": "code",
   "execution_count": 39,
   "id": "cfd8ee45-c10c-43a3-aa13-c2df7116c13c",
   "metadata": {},
   "outputs": [
    {
     "data": {
      "text/latex": [
       "$\\displaystyle \\left[\\begin{matrix}1 & 0 & 0 & 0\\\\0 & \\sqrt{1 - \\gamma} & 0 & 0\\\\0 & 0 & \\sqrt{1 - \\gamma} & 0\\\\0 & 0 & 0 & 1 - \\gamma\\end{matrix}\\right]$"
      ],
      "text/plain": [
       "Matrix([\n",
       "[1,               0,               0,         0],\n",
       "[0, sqrt(1 - gamma),               0,         0],\n",
       "[0,               0, sqrt(1 - gamma),         0],\n",
       "[0,               0,               0, 1 - gamma]])"
      ]
     },
     "metadata": {},
     "output_type": "display_data"
    },
    {
     "data": {
      "text/latex": [
       "$\\displaystyle \\left[\\begin{matrix}0 & \\sqrt{\\gamma} & 0 & 0\\\\0 & 0 & 0 & 0\\\\0 & 0 & 0 & \\sqrt{\\gamma} \\sqrt{1 - \\gamma}\\\\0 & 0 & 0 & 0\\end{matrix}\\right]$"
      ],
      "text/plain": [
       "Matrix([\n",
       "[0, sqrt(gamma), 0,                           0],\n",
       "[0,           0, 0,                           0],\n",
       "[0,           0, 0, sqrt(gamma)*sqrt(1 - gamma)],\n",
       "[0,           0, 0,                           0]])"
      ]
     },
     "metadata": {},
     "output_type": "display_data"
    },
    {
     "data": {
      "text/latex": [
       "$\\displaystyle \\left[\\begin{matrix}0 & 0 & \\sqrt{\\gamma} & 0\\\\0 & 0 & 0 & \\sqrt{\\gamma} \\sqrt{1 - \\gamma}\\\\0 & 0 & 0 & 0\\\\0 & 0 & 0 & 0\\end{matrix}\\right]$"
      ],
      "text/plain": [
       "Matrix([\n",
       "[0, 0, sqrt(gamma),                           0],\n",
       "[0, 0,           0, sqrt(gamma)*sqrt(1 - gamma)],\n",
       "[0, 0,           0,                           0],\n",
       "[0, 0,           0,                           0]])"
      ]
     },
     "metadata": {},
     "output_type": "display_data"
    },
    {
     "data": {
      "text/latex": [
       "$\\displaystyle \\left[\\begin{matrix}0 & 0 & 0 & \\gamma\\\\0 & 0 & 0 & 0\\\\0 & 0 & 0 & 0\\\\0 & 0 & 0 & 0\\end{matrix}\\right]$"
      ],
      "text/plain": [
       "Matrix([\n",
       "[0, 0, 0, gamma],\n",
       "[0, 0, 0,     0],\n",
       "[0, 0, 0,     0],\n",
       "[0, 0, 0,     0]])"
      ]
     },
     "metadata": {},
     "output_type": "display_data"
    }
   ],
   "source": [
    "# Now tensor all product pairs to get the operators for the dual system.\n",
    "\n",
    "E = [E0,E1]\n",
    "\n",
    "tp = []\n",
    "for e1 in E:\n",
    "    for e2 in E:\n",
    "        display( TensorProduct(e1,e2) )\n",
    "        tp.append(TensorProduct(e1,e2))\n",
    "        "
   ]
  },
  {
   "cell_type": "code",
   "execution_count": 40,
   "id": "7c8e6731-5b08-415f-9e80-ac80574ff0fb",
   "metadata": {},
   "outputs": [
    {
     "data": {
      "text/latex": [
       "$\\displaystyle \\left[\\begin{matrix}1 & 0 & 0 & 0\\\\0 & 1 & 0 & 0\\\\0 & 0 & 1 & 0\\\\0 & 0 & 0 & 1\\end{matrix}\\right]$"
      ],
      "text/plain": [
       "Matrix([\n",
       "[1, 0, 0, 0],\n",
       "[0, 1, 0, 0],\n",
       "[0, 0, 1, 0],\n",
       "[0, 0, 0, 1]])"
      ]
     },
     "execution_count": 40,
     "metadata": {},
     "output_type": "execute_result"
    }
   ],
   "source": [
    "# Check they satisfy the resolution of identity property.\n",
    "\n",
    "# https://stackoverflow.com/questions/49292151/sum-of-a-list-of-sympy-matrices\n",
    "Id_check = sum([x.transpose()*x for x in tp], zeros(4))\n",
    "simplify(Id_check)"
   ]
  },
  {
   "cell_type": "code",
   "execution_count": 41,
   "id": "96343919-ea2c-44cb-b825-5e930d81a31f",
   "metadata": {},
   "outputs": [],
   "source": [
    "from sympy.physics.quantum import *\n",
    "from sympy.physics.quantum.density import *\n"
   ]
  },
  {
   "cell_type": "code",
   "execution_count": 42,
   "id": "ee70ecf4-fcc8-4a9d-a965-f1aa161c4bfc",
   "metadata": {},
   "outputs": [
    {
     "data": {
      "text/latex": [
       "$\\displaystyle \\left[\\begin{matrix}0\\\\a\\\\b\\\\0\\end{matrix}\\right]$"
      ],
      "text/plain": [
       "Matrix([\n",
       "[0],\n",
       "[a],\n",
       "[b],\n",
       "[0]])"
      ]
     },
     "execution_count": 42,
     "metadata": {},
     "output_type": "execute_result"
    }
   ],
   "source": [
    "Psi = Matrix([[0,a,b,0]]).transpose()\n",
    "Psi"
   ]
  },
  {
   "cell_type": "code",
   "execution_count": 43,
   "id": "736cbf04-a956-47ee-8c5d-31a283834d86",
   "metadata": {},
   "outputs": [
    {
     "data": {
      "text/latex": [
       "$\\displaystyle \\left[\\begin{matrix}0 & 0 & 0 & 0\\\\0 & a \\overline{a} & a \\overline{b} & 0\\\\0 & b \\overline{a} & b \\overline{b} & 0\\\\0 & 0 & 0 & 0\\end{matrix}\\right]$"
      ],
      "text/plain": [
       "Matrix([\n",
       "[0,              0,              0, 0],\n",
       "[0, a*conjugate(a), a*conjugate(b), 0],\n",
       "[0, b*conjugate(a), b*conjugate(b), 0],\n",
       "[0,              0,              0, 0]])"
      ]
     },
     "execution_count": 43,
     "metadata": {},
     "output_type": "execute_result"
    }
   ],
   "source": [
    "Psi*Dagger(Psi)"
   ]
  },
  {
   "cell_type": "code",
   "execution_count": 44,
   "id": "aa72b8ca-9933-401a-846f-a69ff2f1dd57",
   "metadata": {},
   "outputs": [
    {
     "data": {
      "text/latex": [
       "$\\displaystyle \\left[\\begin{matrix}\\sqrt{1 - \\gamma} & 0 & 0 & 0\\\\0 & \\sqrt{1 - \\gamma} & 0 & 0\\\\0 & 0 & \\sqrt{1 - \\gamma} & 0\\\\0 & 0 & 0 & \\sqrt{1 - \\gamma}\\end{matrix}\\right]$"
      ],
      "text/plain": [
       "Matrix([\n",
       "[sqrt(1 - gamma),               0,               0,               0],\n",
       "[              0, sqrt(1 - gamma),               0,               0],\n",
       "[              0,               0, sqrt(1 - gamma),               0],\n",
       "[              0,               0,               0, sqrt(1 - gamma)]])"
      ]
     },
     "execution_count": 44,
     "metadata": {},
     "output_type": "execute_result"
    }
   ],
   "source": [
    "# The first proposed dual rail operator.\n",
    "Edr0 = sqrt(1-gamma)*eye(4)\n",
    "Edr0"
   ]
  },
  {
   "cell_type": "code",
   "execution_count": 45,
   "id": "5d9e2372-2108-42b1-8819-a26129df3ecb",
   "metadata": {},
   "outputs": [
    {
     "data": {
      "text/latex": [
       "$\\displaystyle \\left[\\begin{matrix}0 & 0 & 0 & 0\\\\0 & a \\left(1 - \\gamma\\right) \\overline{a} & a \\left(1 - \\gamma\\right) \\overline{b} & 0\\\\0 & b \\left(1 - \\gamma\\right) \\overline{a} & b \\left(1 - \\gamma\\right) \\overline{b} & 0\\\\0 & 0 & 0 & 0\\end{matrix}\\right]$"
      ],
      "text/plain": [
       "Matrix([\n",
       "[0,                          0,                          0, 0],\n",
       "[0, a*(1 - gamma)*conjugate(a), a*(1 - gamma)*conjugate(b), 0],\n",
       "[0, b*(1 - gamma)*conjugate(a), b*(1 - gamma)*conjugate(b), 0],\n",
       "[0,                          0,                          0, 0]])"
      ]
     },
     "execution_count": 45,
     "metadata": {},
     "output_type": "execute_result"
    }
   ],
   "source": [
    "# Generate the product using the first DR Kraus operator.\n",
    "tp[0]*Psi*Dagger(Psi)*tp[0].transpose()"
   ]
  },
  {
   "cell_type": "code",
   "execution_count": 46,
   "id": "ae8cbb14-9bf6-45f3-9784-94947f0a933d",
   "metadata": {},
   "outputs": [
    {
     "data": {
      "text/latex": [
       "$\\displaystyle \\left[\\begin{matrix}0 & 0 & 0 & 0\\\\0 & a \\left(1 - \\gamma\\right) \\overline{a} & a \\left(1 - \\gamma\\right) \\overline{b} & 0\\\\0 & b \\left(1 - \\gamma\\right) \\overline{a} & b \\left(1 - \\gamma\\right) \\overline{b} & 0\\\\0 & 0 & 0 & 0\\end{matrix}\\right]$"
      ],
      "text/plain": [
       "Matrix([\n",
       "[0,                          0,                          0, 0],\n",
       "[0, a*(1 - gamma)*conjugate(a), a*(1 - gamma)*conjugate(b), 0],\n",
       "[0, b*(1 - gamma)*conjugate(a), b*(1 - gamma)*conjugate(b), 0],\n",
       "[0,                          0,                          0, 0]])"
      ]
     },
     "execution_count": 46,
     "metadata": {},
     "output_type": "execute_result"
    }
   ],
   "source": [
    "# Check against the proposed Kraus operator.\n",
    "Edr0*Psi*Dagger(Psi)*Edr0.transpose()"
   ]
  },
  {
   "cell_type": "markdown",
   "id": "8ce126c6-4832-492d-bbaa-4cac16af49aa",
   "metadata": {},
   "source": [
    "They are equal. All good.\n",
    "\n",
    "Now look at the products for the remaining three DR operators.\n",
    "\n",
    "Note the last one is a zero matrix."
   ]
  },
  {
   "cell_type": "code",
   "execution_count": 47,
   "id": "f76f25a7-24c8-4c88-b24b-8fe00318883a",
   "metadata": {},
   "outputs": [
    {
     "data": {
      "text/latex": [
       "$\\displaystyle \\left[\\begin{matrix}a \\gamma \\overline{a} & 0 & 0 & 0\\\\0 & 0 & 0 & 0\\\\0 & 0 & 0 & 0\\\\0 & 0 & 0 & 0\\end{matrix}\\right]$"
      ],
      "text/plain": [
       "Matrix([\n",
       "[a*gamma*conjugate(a), 0, 0, 0],\n",
       "[                   0, 0, 0, 0],\n",
       "[                   0, 0, 0, 0],\n",
       "[                   0, 0, 0, 0]])"
      ]
     },
     "execution_count": 47,
     "metadata": {},
     "output_type": "execute_result"
    }
   ],
   "source": [
    "tp[1]*Psi*Dagger(Psi)*tp[1].transpose()"
   ]
  },
  {
   "cell_type": "code",
   "execution_count": 48,
   "id": "2f2c5d2e-1e8d-4bd2-bd3e-e5b812193086",
   "metadata": {},
   "outputs": [
    {
     "data": {
      "text/latex": [
       "$\\displaystyle \\left[\\begin{matrix}b \\gamma \\overline{b} & 0 & 0 & 0\\\\0 & 0 & 0 & 0\\\\0 & 0 & 0 & 0\\\\0 & 0 & 0 & 0\\end{matrix}\\right]$"
      ],
      "text/plain": [
       "Matrix([\n",
       "[b*gamma*conjugate(b), 0, 0, 0],\n",
       "[                   0, 0, 0, 0],\n",
       "[                   0, 0, 0, 0],\n",
       "[                   0, 0, 0, 0]])"
      ]
     },
     "execution_count": 48,
     "metadata": {},
     "output_type": "execute_result"
    }
   ],
   "source": [
    "tp[2]*Psi*Dagger(Psi)*tp[2].transpose()"
   ]
  },
  {
   "cell_type": "code",
   "execution_count": 49,
   "id": "eda93c21-d0de-470f-9154-de7cf7560116",
   "metadata": {},
   "outputs": [
    {
     "data": {
      "text/latex": [
       "$\\displaystyle \\left[\\begin{matrix}0 & 0 & 0 & 0\\\\0 & 0 & 0 & 0\\\\0 & 0 & 0 & 0\\\\0 & 0 & 0 & 0\\end{matrix}\\right]$"
      ],
      "text/plain": [
       "Matrix([\n",
       "[0, 0, 0, 0],\n",
       "[0, 0, 0, 0],\n",
       "[0, 0, 0, 0],\n",
       "[0, 0, 0, 0]])"
      ]
     },
     "execution_count": 49,
     "metadata": {},
     "output_type": "execute_result"
    }
   ],
   "source": [
    "tp[3]*Psi*Dagger(Psi)*tp[3].transpose()"
   ]
  },
  {
   "cell_type": "code",
   "execution_count": 50,
   "id": "b44bc3c3-7ead-46df-aeaf-87e6be2019c1",
   "metadata": {},
   "outputs": [
    {
     "data": {
      "text/latex": [
       "$\\displaystyle \\left[\\begin{matrix}0 & \\sqrt{\\gamma} & \\sqrt{\\gamma} & 0\\\\0 & 0 & 0 & 0\\\\0 & 0 & 0 & 0\\\\0 & 0 & 0 & 0\\end{matrix}\\right]$"
      ],
      "text/plain": [
       "Matrix([\n",
       "[0, sqrt(gamma), sqrt(gamma), 0],\n",
       "[0,           0,           0, 0],\n",
       "[0,           0,           0, 0],\n",
       "[0,           0,           0, 0]])"
      ]
     },
     "execution_count": 50,
     "metadata": {},
     "output_type": "execute_result"
    }
   ],
   "source": [
    "# Define the second propose DR Kraus operator.\n",
    "Edr1 = zeros(4)\n",
    "Edr1[0,1] = sqrt(gamma); Edr1[0,2] = sqrt(gamma)\n",
    "Edr1"
   ]
  },
  {
   "cell_type": "code",
   "execution_count": 51,
   "id": "550c449f-7d3c-4e7d-94c5-ec47b458121f",
   "metadata": {},
   "outputs": [
    {
     "data": {
      "text/latex": [
       "$\\displaystyle \\left[\\begin{matrix}a \\gamma \\overline{a} + b \\gamma \\overline{b} & 0 & 0 & 0\\\\0 & 0 & 0 & 0\\\\0 & 0 & 0 & 0\\\\0 & 0 & 0 & 0\\end{matrix}\\right]$"
      ],
      "text/plain": [
       "Matrix([\n",
       "[a*gamma*conjugate(a) + b*gamma*conjugate(b), 0, 0, 0],\n",
       "[                                          0, 0, 0, 0],\n",
       "[                                          0, 0, 0, 0],\n",
       "[                                          0, 0, 0, 0]])"
      ]
     },
     "execution_count": 51,
     "metadata": {},
     "output_type": "execute_result"
    }
   ],
   "source": [
    "# Calculate the product using the Kraus operators from the pair wise tensor products.\n",
    "tp[1]*Psi*Dagger(Psi)*tp[1].transpose() + tp[2]*Psi*Dagger(Psi)*tp[2].transpose()"
   ]
  },
  {
   "cell_type": "code",
   "execution_count": 52,
   "id": "a15b88ef-5a07-45d5-9015-4486af5788b0",
   "metadata": {},
   "outputs": [
    {
     "data": {
      "text/latex": [
       "$\\displaystyle \\left[\\begin{matrix}\\gamma \\left(a \\overline{a} + b \\overline{b}\\right) & 0 & 0 & 0\\\\0 & 0 & 0 & 0\\\\0 & 0 & 0 & 0\\\\0 & 0 & 0 & 0\\end{matrix}\\right]$"
      ],
      "text/plain": [
       "Matrix([\n",
       "[gamma*(a*conjugate(a) + b*conjugate(b)), 0, 0, 0],\n",
       "[                                      0, 0, 0, 0],\n",
       "[                                      0, 0, 0, 0],\n",
       "[                                      0, 0, 0, 0]])"
      ]
     },
     "execution_count": 52,
     "metadata": {},
     "output_type": "execute_result"
    }
   ],
   "source": [
    "# Check against the proposed operator.\n",
    "Edr1*Psi*Dagger(Psi)*Edr1.transpose()\n",
    "simplify(_)"
   ]
  },
  {
   "cell_type": "markdown",
   "id": "73032f3a-01c9-4511-9a07-81ba332e361e",
   "metadata": {},
   "source": [
    "They are equal. \n",
    "\n",
    "Done."
   ]
  },
  {
   "cell_type": "code",
   "execution_count": null,
   "id": "c814532f-44f7-4ac3-8bbd-3c10453243e4",
   "metadata": {},
   "outputs": [],
   "source": []
  }
 ],
 "metadata": {
  "kernelspec": {
   "display_name": "quantum-computing",
   "language": "python",
   "name": "quantum-computing"
  },
  "language_info": {
   "codemirror_mode": {
    "name": "ipython",
    "version": 3
   },
   "file_extension": ".py",
   "mimetype": "text/x-python",
   "name": "python",
   "nbconvert_exporter": "python",
   "pygments_lexer": "ipython3",
   "version": "3.10.13"
  },
  "widgets": {
   "application/vnd.jupyter.widget-state+json": {
    "state": {},
    "version_major": 2,
    "version_minor": 0
   }
  }
 },
 "nbformat": 4,
 "nbformat_minor": 5
}
