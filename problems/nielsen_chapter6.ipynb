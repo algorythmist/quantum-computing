{
 "cells": [
  {
   "cell_type": "markdown",
   "id": "9c5edee9",
   "metadata": {},
   "source": [
    "# Quantum Computation and Quantum Information\n",
    "## Chapter 6 Problems"
   ]
  },
  {
   "cell_type": "markdown",
   "id": "e9afe1b1",
   "metadata": {},
   "source": [
    "#### Latex: Define bras, kets, brackets\n",
    "$\n",
    "\\newcommand{\\ket}[1]{\\left|{#1}\\right\\rangle}\n",
    "\\newcommand{\\bra}[1]{\\left\\langle{#1}\\right|}\n",
    "\\newcommand{\\braket}[2]{\\left\\langle{#1}\\middle|{#2}\\right\\rangle}\n",
    "$"
   ]
  },
  {
   "cell_type": "markdown",
   "id": "0d33dd73",
   "metadata": {},
   "source": [
    "### Exercise 6.1\n",
    "\n",
    "$$\n",
    "(2\\ket{0}\\bra{0}-I)\\ket{0} = 2\\ket{0}-\\ket{0} = \\ket{0}\n",
    "$$\n",
    "\n",
    "$$\n",
    "(2\\ket{0}\\bra{0}-I)\\ket{1} = -\\ket{1}\n",
    "$$"
   ]
  },
  {
   "cell_type": "markdown",
   "id": "9c750ce6",
   "metadata": {},
   "source": [
    "### Exercise 6.2\n",
    "\n",
    "$$\n",
    "(2\\ket{\\psi}\\bra{\\psi}-I)\\sum_k a_k \\ket{k} = \\sum_k 2 a_k\\ket{\\psi}\\braket{\\psi}{k} -a_k\\ket{k}\n",
    "$$\n",
    "\n",
    "In this case, $\\ket{\\psi} = N^{-1/2}\\sum_l \\ket{l}$, so $\\ket{\\psi}\\bra{\\psi} = \\frac{1}{N}\\sum_{ml}\\ket{m}\\bra{l}$.\n",
    "So, \n",
    "\n",
    "$$\n",
    "\\sum_k a_k\\ket{\\psi}\\braket{\\psi}{k} = \\frac{1}{N}\\sum_{kml}a_k\\ket{m}\\braket{l}{k} = \\\\\n",
    "\\frac{1}{N}\\sum_{kml}a_k\\ket{m}\\delta_{lk} = \\frac{1}{N}\\sum_{ml}a_l\\ket{m} = <a>\\sum_{m}\\ket{m}\n",
    "$$\n",
    "\n",
    "so \n",
    "\n",
    "$$\n",
    "(2\\ket{\\psi}\\bra{\\psi}-I)\\sum_k a_k \\ket{k} = \\sum_{k}\\left[2<a>-a_k\\right]\\ket{k}\n",
    "$$"
   ]
  },
  {
   "cell_type": "markdown",
   "id": "bc569fd2",
   "metadata": {},
   "source": [
    "### Exercise 6.3\n",
    "\n",
    "The initial state after Hadamard is $\\ket{\\psi} = \\cos\\frac{\\theta}{2}\\ket{\\alpha} + \\sin\\frac{\\theta}{2}\\ket{\\beta}$\n",
    "\n",
    "\n",
    "$$\n",
    "G\\ket{\\psi} = \\begin{bmatrix} \\cos\\theta&-\\sin\\theta \\\\ \\sin\\theta & \\cos\\theta\\end{bmatrix}\n",
    "\\begin{bmatrix} \\cos\\theta/2 \\\\ \\sin\\theta/2 \\end{bmatrix} = \\\\\n",
    "\\begin{bmatrix}\n",
    "\\cos\\frac{3\\theta}{2} \\\\ \\sin\\frac{3\\theta}{2}\n",
    "\\end{bmatrix}\n",
    "$$\n",
    "\n",
    "and proceeding by induction\n",
    "\n",
    "$$\n",
    "G^k \\ket{\\psi} = \n",
    "\\begin{bmatrix}\n",
    "\\cos\\frac{2k+1}{2}\\theta \\\\ \\sin\\frac{2k+1}{2}\\theta\n",
    "\\end{bmatrix}\n",
    "$$\n"
   ]
  },
  {
   "cell_type": "markdown",
   "id": "a2ae163a",
   "metadata": {},
   "source": [
    "### Exercise 6.13\n",
    "\n",
    "Let $X$ denote one of the trials. Since there are M solutions in N items, $E[X] = M/N$ and $E[X^2] = M/N$.\n",
    "Whereas $E[X_iX_j] = E[X_i]E[X_j] = \\frac{M^2}{N^2}$, when $i \\neq j$.\n",
    "\n",
    "To compute the variance, we need to compute $E[S]$ and $E[S^2]$.\n",
    "\n",
    "$$\n",
    "\\bar{S}= E[S] = \\frac{N}{k}\\sum_j E[X_j] = \\frac{N}{k}k\\frac{M}{N} = M\n",
    "$$\n",
    "\n",
    "$$\n",
    "E[S^2] = \\frac{N^2}{k^2}\\sum_{ij}E[X_iX_j] = \\frac{N^2}{k^2}\\left(\\sum_i E[X_i^2] + \\sum_{i \\neq j}E[X_iX_j]\\right) = \\\\\n",
    "\\frac{N^2}{k^2}\\left(k\\frac{M}{N} + \\frac{M^2}{N^2}k(k-1)\\right) = \n",
    "\\frac{NM}{k} + \\frac{M^2}{k}(k-1) = \\frac{NM}{k} + M^2 - \\frac{M^2}{k}\n",
    "$$"
   ]
  },
  {
   "cell_type": "markdown",
   "id": "1331c5ce",
   "metadata": {},
   "source": [
    "Consequently, \n",
    "\n",
    "$$\n",
    "Var[S] = E[S^2]-\\bar{S}^2 = \\frac{NM}{k} - \\frac{M^2}{k} = \\frac{M}{k}(N-M)\\implies\\\\\n",
    "\\Delta S = \\sqrt{\\frac{M(N-M)}{k}}\n",
    "$$"
   ]
  },
  {
   "cell_type": "markdown",
   "id": "8aac8055",
   "metadata": {},
   "source": [
    "Using Chebychev inequality\n",
    "\n",
    "$$\n",
    "E[|S-\\bar{S}| > a] \\leq \\frac{Var{S}}{a^2}\n",
    "$$\n",
    "\n",
    "where $a = \\sqrt{M}$,\n",
    "\n",
    "$$\n",
    "E[|S-M|> \\sqrt{M}] \\leq \\frac{N-M}{k} < \\frac{N}{k} \n",
    "$$\n",
    "\n",
    "To make this less than $1/4$, we need $k \\geq 4N$."
   ]
  },
  {
   "cell_type": "code",
   "execution_count": null,
   "id": "6fb567b7",
   "metadata": {},
   "outputs": [],
   "source": []
  }
 ],
 "metadata": {
  "kernelspec": {
   "display_name": "quantum-computing",
   "language": "python",
   "name": "quantum-computing"
  },
  "language_info": {
   "codemirror_mode": {
    "name": "ipython",
    "version": 3
   },
   "file_extension": ".py",
   "mimetype": "text/x-python",
   "name": "python",
   "nbconvert_exporter": "python",
   "pygments_lexer": "ipython3",
   "version": "3.10.9"
  }
 },
 "nbformat": 4,
 "nbformat_minor": 5
}
