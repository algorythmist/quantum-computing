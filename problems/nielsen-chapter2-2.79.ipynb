{
 "cells": [
  {
   "cell_type": "markdown",
   "id": "a4064caf",
   "metadata": {},
   "source": [
    "#### Import sympy for calculations. \n",
    "\n",
    "Just Google it. \n",
    "\n",
    "`conda update sympy` worked for me."
   ]
  },
  {
   "cell_type": "code",
   "execution_count": 1,
   "id": "c800260c",
   "metadata": {},
   "outputs": [],
   "source": [
    "from sympy import *\n",
    "from sympy.physics.quantum import Ket"
   ]
  },
  {
   "cell_type": "markdown",
   "id": "9f9067cf",
   "metadata": {},
   "source": [
    "#### Define bras, kets, brackets\n",
    "$\n",
    "\\newcommand{\\ket}[1]{\\left|{#1}\\right\\rangle}\n",
    "\\newcommand{\\bra}[1]{\\left\\langle{#1}\\right|}\n",
    "\\newcommand{\\braket}[2]{\\left\\langle{#1}\\middle|{#2}\\right\\rangle}\n",
    "$"
   ]
  },
  {
   "cell_type": "markdown",
   "id": "a356823f-d92e-416b-a331-6d66a28e1cd4",
   "metadata": {},
   "source": [
    "# Quantum Computation and Quantum Information"
   ]
  },
  {
   "cell_type": "markdown",
   "id": "62014b65",
   "metadata": {},
   "source": [
    "### Exercise 2.79 (Wayne Dam)\n",
    "\n",
    "Consider a composite of two qubits. Find the Schmidt decompostion of the following states.\n",
    "\n",
    "1. $\\frac{1}{\\sqrt{2}}(\\ket{00} + \\ket{11})$ \n",
    "\n",
    "2. $\\frac{1}{2} (\\ket{00}+\\ket{01}+\\ket{10}+\\ket{11})$\n",
    "\n",
    "3. $\\frac{1}{\\sqrt{3}}(\\ket{00} + \\ket{01} + \\ket{10})$\n",
    "\n",
    "#### Solution\n",
    "From the proof of Theorem 2.7 for the Schmidt decomposition we write the original pure state of the composite system in the form:\n",
    "\n",
    "$\\ket{\\psi} = \\sum_{jk} a_{jk} \\ket{j}\\ket{k}.$\n",
    "\n",
    "Considering the coefficients $a_{jk}$ as elements of a matrix, $a$, we can take its singular value decomposition (SVD), $a=udv \\rightarrow a_{jk} = u_{ji}d_{ii}v_{ik}$.\n",
    "\n",
    "NOTE: The SVD is usually written with the $v$ as its conjugate transpose: $a = udv^\\dagger.$ Numercial and symbolic SVD solvers like sympy, which we'll use below, usually assume the conjugate transpose version. This must be taken into account.\n",
    "\n",
    "Following the proof and its notation regarding $v$, we can write the new state vectors for the Schmidt decomposition as:\n",
    "$\\ket{i_A} = \\sum_j u_{ji} \\ket{j}$\n",
    "\n",
    "$\\ket{i_B} = \\sum_k v_{ik} \\ket{k}.$\n",
    "\n",
    "Staring at these equations and picturing the $u$ and $v$ matrices, you see that for $\\ket{i_A}$ we are just picking coefficients from $i$'th column of $u$ to generate the $\\ket{i_A}$. Similarly for $v$ and $\\ket{i_B}$ but for the $i$'th row. But for the typical solver returning the daggered form we will also just be running down the returned $i$'th column.\n",
    "\n",
    "So using Sympy this allows us an easy automated calculation."
   ]
  },
  {
   "cell_type": "code",
   "execution_count": 18,
   "id": "563edc46",
   "metadata": {},
   "outputs": [
    {
     "data": {
      "text/latex": [
       "$\\displaystyle \\left[\\begin{matrix}\\frac{\\sqrt{2}}{2} & 0\\\\0 & \\frac{\\sqrt{2}}{2}\\end{matrix}\\right]$"
      ],
      "text/plain": [
       "Matrix([\n",
       "[sqrt(2)/2,         0],\n",
       "[        0, sqrt(2)/2]])"
      ]
     },
     "metadata": {},
     "output_type": "display_data"
    }
   ],
   "source": [
    "# For the first problem it is already in Schmidt form, so this is a good check on the method.\n",
    "\n",
    "# Put the coefficients of the pure state in matrix form.\n",
    "A = 1/sqrt(2) * Matrix([[1, 0],[0, 1]])\n",
    "display(A)"
   ]
  },
  {
   "cell_type": "code",
   "execution_count": 19,
   "id": "efde871d",
   "metadata": {},
   "outputs": [],
   "source": [
    "# Now do the SVD.\n",
    "U, S, V = A.singular_value_decomposition()"
   ]
  },
  {
   "cell_type": "code",
   "execution_count": 20,
   "id": "e9b3210c",
   "metadata": {},
   "outputs": [
    {
     "data": {
      "text/latex": [
       "$\\displaystyle \\left[\\begin{matrix}1 & 0\\\\0 & 1\\end{matrix}\\right]$"
      ],
      "text/plain": [
       "Matrix([\n",
       "[1, 0],\n",
       "[0, 1]])"
      ]
     },
     "metadata": {},
     "output_type": "display_data"
    },
    {
     "data": {
      "text/latex": [
       "$\\displaystyle \\left[\\begin{matrix}\\frac{\\sqrt{2}}{2} & 0\\\\0 & \\frac{\\sqrt{2}}{2}\\end{matrix}\\right]$"
      ],
      "text/plain": [
       "Matrix([\n",
       "[sqrt(2)/2,         0],\n",
       "[        0, sqrt(2)/2]])"
      ]
     },
     "metadata": {},
     "output_type": "display_data"
    },
    {
     "data": {
      "text/latex": [
       "$\\displaystyle \\left[\\begin{matrix}1 & 0\\\\0 & 1\\end{matrix}\\right]$"
      ],
      "text/plain": [
       "Matrix([\n",
       "[1, 0],\n",
       "[0, 1]])"
      ]
     },
     "metadata": {},
     "output_type": "display_data"
    }
   ],
   "source": [
    "display(U)\n",
    "display(S)\n",
    "display(V)"
   ]
  },
  {
   "cell_type": "code",
   "execution_count": 5,
   "id": "76cf2f20",
   "metadata": {},
   "outputs": [
    {
     "data": {
      "text/latex": [
       "$\\displaystyle \\left[\\begin{matrix}1.0 & 0\\\\0 & 1.0\\end{matrix}\\right]$"
      ],
      "text/plain": [
       "Matrix([\n",
       "[1.0,   0],\n",
       "[  0, 1.0]])"
      ]
     },
     "metadata": {},
     "output_type": "display_data"
    },
    {
     "data": {
      "text/latex": [
       "$\\displaystyle \\left[\\begin{matrix}0.707106781186548 & 0\\\\0 & 0.707106781186548\\end{matrix}\\right]$"
      ],
      "text/plain": [
       "Matrix([\n",
       "[0.707106781186548,                 0],\n",
       "[                0, 0.707106781186548]])"
      ]
     },
     "metadata": {},
     "output_type": "display_data"
    },
    {
     "data": {
      "text/latex": [
       "$\\displaystyle \\left[\\begin{matrix}1.0 & 0\\\\0 & 1.0\\end{matrix}\\right]$"
      ],
      "text/plain": [
       "Matrix([\n",
       "[1.0,   0],\n",
       "[  0, 1.0]])"
      ]
     },
     "metadata": {},
     "output_type": "display_data"
    }
   ],
   "source": [
    "display(U.evalf())\n",
    "display(S.evalf())\n",
    "display(V.evalf())"
   ]
  },
  {
   "cell_type": "code",
   "execution_count": 6,
   "id": "720e2e8b",
   "metadata": {},
   "outputs": [
    {
     "data": {
      "text/plain": [
       "2"
      ]
     },
     "execution_count": 6,
     "metadata": {},
     "output_type": "execute_result"
    }
   ],
   "source": [
    "# Get the Schmidt number.\n",
    "sn = S.shape[0]\n",
    "sn"
   ]
  },
  {
   "cell_type": "code",
   "execution_count": 7,
   "id": "446f9f58",
   "metadata": {},
   "outputs": [
    {
     "data": {
      "text/plain": [
       "2"
      ]
     },
     "execution_count": 7,
     "metadata": {},
     "output_type": "execute_result"
    }
   ],
   "source": [
    "# Get the dimension of the Hilbert space.\n",
    "d = A.shape[0]\n",
    "d"
   ]
  },
  {
   "cell_type": "code",
   "execution_count": 8,
   "id": "c92702c1",
   "metadata": {},
   "outputs": [],
   "source": [
    "# This is optional. The third part of this question is complicated in closed form.\n",
    "# No reason here not to just go to numerical values in that case.\n",
    "# Skip this step if you want to continue in exact values.\n",
    "\n",
    "# U = U.evalf()\n",
    "# V = V.evalf()\n",
    "# S = S.evalf()"
   ]
  },
  {
   "cell_type": "code",
   "execution_count": 9,
   "id": "6c796732",
   "metadata": {},
   "outputs": [
    {
     "data": {
      "text/plain": [
       "[|0>, |1>]"
      ]
     },
     "execution_count": 9,
     "metadata": {},
     "output_type": "execute_result"
    }
   ],
   "source": [
    "# Based on the discusion above, just grab the coeffients down the columns of $u$ \n",
    "# to get the new Schmidt basis vectors for system A.\n",
    "ketsA = [sum([U[j,i]*Ket(j) for j in range(d)]) for i in range(sn)]\n",
    "ketsA"
   ]
  },
  {
   "cell_type": "code",
   "execution_count": 10,
   "id": "c5f7f503",
   "metadata": {},
   "outputs": [
    {
     "data": {
      "text/plain": [
       "[|0>, |1>]"
      ]
     },
     "execution_count": 10,
     "metadata": {},
     "output_type": "execute_result"
    }
   ],
   "source": [
    "# Now do the same for system B using the v matrix. \n",
    "# We do the column because Sympy returned the conjugate transposed V.\n",
    "ketsB = [sum([V[k,i]*Ket(k) for k in range(d)]) for i in range(sn)]\n",
    "ketsB"
   ]
  },
  {
   "cell_type": "markdown",
   "id": "43976fd1",
   "metadata": {},
   "source": [
    "By multiplying corresponding elements of the two lists and summing along with the Schmidt coefficients (diagonal elemens of $s$) we get the expected answer:\n",
    "\n",
    "$\\ket{\\psi} = \\frac{1}{\\sqrt{2}}(\\ket{00} + \\ket{11})$ \n",
    "\n",
    "The Schmidt number is 2 and the Schmidt coefficients are $1/\\sqrt{2}$ each."
   ]
  },
  {
   "cell_type": "code",
   "execution_count": 11,
   "id": "aafffdcf",
   "metadata": {},
   "outputs": [
    {
     "data": {
      "text/latex": [
       "$\\displaystyle \\frac{\\sqrt{2} {\\left|0\\right\\rangle }^{2}}{2} + \\frac{\\sqrt{2} {\\left|1\\right\\rangle }^{2}}{2}$"
      ],
      "text/plain": [
       "sqrt(2)*|0>**2/2 + sqrt(2)*|1>**2/2"
      ]
     },
     "execution_count": 11,
     "metadata": {},
     "output_type": "execute_result"
    }
   ],
   "source": [
    "# Check to see that we get the original expression after substituion and expanding.\n",
    "# Note that kets exponentiated by 2 just mean the index is duplicated. It's a Sympy thing.\n",
    "# So \\ket{0}**2 means \\ket{00}.\n",
    "sum( [expand(S[i,i] * ketsA[i]*ketsB[i]) for i in range(sn)] )"
   ]
  },
  {
   "cell_type": "markdown",
   "id": "b1a74e2a",
   "metadata": {},
   "source": [
    "**We can wrap this up now in a convenient function.**\n",
    "\n",
    "You can see how this can be easily turned into a function. There's no issue with using higher dimensional Hilbert space as it is. The manual step right now is writing the original pure state into the  𝑎 matrix."
   ]
  },
  {
   "cell_type": "code",
   "execution_count": 12,
   "id": "b9fa7996",
   "metadata": {},
   "outputs": [],
   "source": [
    "def schmidt_decomposition(A, do_float):\n",
    "    # A: Matrix holding the coefficients of the pure state to put into Schmidt form.\n",
    "    # do_float: The third problem introduces complicated analytical terms. \n",
    "    #           This just forces the results into floating point for clarity.\n",
    "    \n",
    "    # Do the SVD.\n",
    "    U, S, V = A.singular_value_decomposition()\n",
    "    \n",
    "    display('U = ', U)\n",
    "    display('S = ', S)\n",
    "    display('V = ', V)\n",
    "    display('===================================')\n",
    "    display('U = ', U.evalf())\n",
    "    display('S = ', S.evalf())\n",
    "    display('V = ', V.evalf())\n",
    "    display('===================================')    \n",
    "    \n",
    "    # Get the Schmidt number and dimension we are working in.\n",
    "    sn = S.shape[0]\n",
    "    print('Schmidt number: ', sn)\n",
    "    d = A.shape[0]\n",
    "    print('Dimension d:    ', d)\n",
    "    display('===================================')\n",
    "\n",
    "    # This is optional. The third part of this question is complicated in closed form.\n",
    "    # No reason here not to just go to numerical values in that case.\n",
    "    # Skip this step if you want to continue in exact values.\n",
    "    if do_float:\n",
    "        U = U.evalf()\n",
    "        V = V.evalf()\n",
    "        S = S.evalf()\n",
    "    \n",
    "    # Based on the discusion in the solution, just grab the coeffients down the columns of $u$ \n",
    "    # to get the new Schmidt basis vectors for system A.\n",
    "    ketsA = [sum([U[j,i]*Ket(j) for j in range(d)]) for i in range(sn)]\n",
    "    display('ketsA = ', ketsA)\n",
    "    \n",
    "    # Now do the same for system B using the v matrix. \n",
    "    # We do the column because Sympy returned the conjugate transposed V.\n",
    "    ketsB = [sum([V[k,i]*Ket(k) for k in range(d)]) for i in range(sn)]\n",
    "    display('ketsB = ', ketsB)\n",
    "    display('===================================')\n",
    "    \n",
    "    # Check to see that we get the original expression after substituion and expanding.\n",
    "    # Note that kets exponentiated by 2 just mean the index is duplicated. It's a Sympy thing.\n",
    "    # So \\ket{0}**2 means \\ket{00}.\n",
    "    expansion_check = sum( [expand( S[i,i] * ketsA[i]*ketsB[i] ) for i in range(sn)] )\n",
    "    display('Expansion check: ', expansion_check)"
   ]
  },
  {
   "cell_type": "code",
   "execution_count": 13,
   "id": "66d7b3dc",
   "metadata": {},
   "outputs": [
    {
     "data": {
      "text/latex": [
       "$\\displaystyle \\left[\\begin{matrix}\\frac{\\sqrt{2}}{2} & 0\\\\0 & \\frac{\\sqrt{2}}{2}\\end{matrix}\\right]$"
      ],
      "text/plain": [
       "Matrix([\n",
       "[sqrt(2)/2,         0],\n",
       "[        0, sqrt(2)/2]])"
      ]
     },
     "metadata": {},
     "output_type": "display_data"
    },
    {
     "data": {
      "text/plain": [
       "'U = '"
      ]
     },
     "metadata": {},
     "output_type": "display_data"
    },
    {
     "data": {
      "text/latex": [
       "$\\displaystyle \\left[\\begin{matrix}1 & 0\\\\0 & 1\\end{matrix}\\right]$"
      ],
      "text/plain": [
       "Matrix([\n",
       "[1, 0],\n",
       "[0, 1]])"
      ]
     },
     "metadata": {},
     "output_type": "display_data"
    },
    {
     "data": {
      "text/plain": [
       "'S = '"
      ]
     },
     "metadata": {},
     "output_type": "display_data"
    },
    {
     "data": {
      "text/latex": [
       "$\\displaystyle \\left[\\begin{matrix}\\frac{\\sqrt{2}}{2} & 0\\\\0 & \\frac{\\sqrt{2}}{2}\\end{matrix}\\right]$"
      ],
      "text/plain": [
       "Matrix([\n",
       "[sqrt(2)/2,         0],\n",
       "[        0, sqrt(2)/2]])"
      ]
     },
     "metadata": {},
     "output_type": "display_data"
    },
    {
     "data": {
      "text/plain": [
       "'V = '"
      ]
     },
     "metadata": {},
     "output_type": "display_data"
    },
    {
     "data": {
      "text/latex": [
       "$\\displaystyle \\left[\\begin{matrix}1 & 0\\\\0 & 1\\end{matrix}\\right]$"
      ],
      "text/plain": [
       "Matrix([\n",
       "[1, 0],\n",
       "[0, 1]])"
      ]
     },
     "metadata": {},
     "output_type": "display_data"
    },
    {
     "data": {
      "text/plain": [
       "'==================================='"
      ]
     },
     "metadata": {},
     "output_type": "display_data"
    },
    {
     "data": {
      "text/plain": [
       "'U = '"
      ]
     },
     "metadata": {},
     "output_type": "display_data"
    },
    {
     "data": {
      "text/latex": [
       "$\\displaystyle \\left[\\begin{matrix}1.0 & 0\\\\0 & 1.0\\end{matrix}\\right]$"
      ],
      "text/plain": [
       "Matrix([\n",
       "[1.0,   0],\n",
       "[  0, 1.0]])"
      ]
     },
     "metadata": {},
     "output_type": "display_data"
    },
    {
     "data": {
      "text/plain": [
       "'S = '"
      ]
     },
     "metadata": {},
     "output_type": "display_data"
    },
    {
     "data": {
      "text/latex": [
       "$\\displaystyle \\left[\\begin{matrix}0.707106781186548 & 0\\\\0 & 0.707106781186548\\end{matrix}\\right]$"
      ],
      "text/plain": [
       "Matrix([\n",
       "[0.707106781186548,                 0],\n",
       "[                0, 0.707106781186548]])"
      ]
     },
     "metadata": {},
     "output_type": "display_data"
    },
    {
     "data": {
      "text/plain": [
       "'V = '"
      ]
     },
     "metadata": {},
     "output_type": "display_data"
    },
    {
     "data": {
      "text/latex": [
       "$\\displaystyle \\left[\\begin{matrix}1.0 & 0\\\\0 & 1.0\\end{matrix}\\right]$"
      ],
      "text/plain": [
       "Matrix([\n",
       "[1.0,   0],\n",
       "[  0, 1.0]])"
      ]
     },
     "metadata": {},
     "output_type": "display_data"
    },
    {
     "data": {
      "text/plain": [
       "'==================================='"
      ]
     },
     "metadata": {},
     "output_type": "display_data"
    },
    {
     "name": "stdout",
     "output_type": "stream",
     "text": [
      "Schmidt number:  2\n",
      "Dimension d:     2\n"
     ]
    },
    {
     "data": {
      "text/plain": [
       "'==================================='"
      ]
     },
     "metadata": {},
     "output_type": "display_data"
    },
    {
     "data": {
      "text/plain": [
       "'ketsA = '"
      ]
     },
     "metadata": {},
     "output_type": "display_data"
    },
    {
     "data": {
      "text/plain": [
       "[|0>, |1>]"
      ]
     },
     "metadata": {},
     "output_type": "display_data"
    },
    {
     "data": {
      "text/plain": [
       "'ketsB = '"
      ]
     },
     "metadata": {},
     "output_type": "display_data"
    },
    {
     "data": {
      "text/plain": [
       "[|0>, |1>]"
      ]
     },
     "metadata": {},
     "output_type": "display_data"
    },
    {
     "data": {
      "text/plain": [
       "'==================================='"
      ]
     },
     "metadata": {},
     "output_type": "display_data"
    },
    {
     "data": {
      "text/plain": [
       "'Expansion check: '"
      ]
     },
     "metadata": {},
     "output_type": "display_data"
    },
    {
     "data": {
      "text/latex": [
       "$\\displaystyle \\frac{\\sqrt{2} {\\left|0\\right\\rangle }^{2}}{2} + \\frac{\\sqrt{2} {\\left|1\\right\\rangle }^{2}}{2}$"
      ],
      "text/plain": [
       "sqrt(2)*|0>**2/2 + sqrt(2)*|1>**2/2"
      ]
     },
     "metadata": {},
     "output_type": "display_data"
    }
   ],
   "source": [
    "A = 1/sqrt(2) * Matrix([[1, 0],[0, 1]])\n",
    "display(A)\n",
    "\n",
    "schmidt_decomposition(A, do_float=false)"
   ]
  },
  {
   "cell_type": "code",
   "execution_count": 14,
   "id": "e72f46e3",
   "metadata": {},
   "outputs": [
    {
     "data": {
      "text/latex": [
       "$\\displaystyle \\left[\\begin{matrix}0.5 & 0.5\\\\0.5 & 0.5\\end{matrix}\\right]$"
      ],
      "text/plain": [
       "Matrix([\n",
       "[0.5, 0.5],\n",
       "[0.5, 0.5]])"
      ]
     },
     "metadata": {},
     "output_type": "display_data"
    },
    {
     "data": {
      "text/plain": [
       "'U = '"
      ]
     },
     "metadata": {},
     "output_type": "display_data"
    },
    {
     "data": {
      "text/latex": [
       "$\\displaystyle \\left[\\begin{matrix}-0.707106781186548\\\\-0.707106781186548\\end{matrix}\\right]$"
      ],
      "text/plain": [
       "Matrix([\n",
       "[-0.707106781186548],\n",
       "[-0.707106781186548]])"
      ]
     },
     "metadata": {},
     "output_type": "display_data"
    },
    {
     "data": {
      "text/plain": [
       "'S = '"
      ]
     },
     "metadata": {},
     "output_type": "display_data"
    },
    {
     "data": {
      "text/latex": [
       "$\\displaystyle \\left[\\begin{matrix}1.0\\end{matrix}\\right]$"
      ],
      "text/plain": [
       "Matrix([[1.0]])"
      ]
     },
     "metadata": {},
     "output_type": "display_data"
    },
    {
     "data": {
      "text/plain": [
       "'V = '"
      ]
     },
     "metadata": {},
     "output_type": "display_data"
    },
    {
     "data": {
      "text/latex": [
       "$\\displaystyle \\left[\\begin{matrix}-0.707106781186548\\\\-0.707106781186548\\end{matrix}\\right]$"
      ],
      "text/plain": [
       "Matrix([\n",
       "[-0.707106781186548],\n",
       "[-0.707106781186548]])"
      ]
     },
     "metadata": {},
     "output_type": "display_data"
    },
    {
     "data": {
      "text/plain": [
       "'==================================='"
      ]
     },
     "metadata": {},
     "output_type": "display_data"
    },
    {
     "data": {
      "text/plain": [
       "'U = '"
      ]
     },
     "metadata": {},
     "output_type": "display_data"
    },
    {
     "data": {
      "text/latex": [
       "$\\displaystyle \\left[\\begin{matrix}-0.707106781186548\\\\-0.707106781186548\\end{matrix}\\right]$"
      ],
      "text/plain": [
       "Matrix([\n",
       "[-0.707106781186548],\n",
       "[-0.707106781186548]])"
      ]
     },
     "metadata": {},
     "output_type": "display_data"
    },
    {
     "data": {
      "text/plain": [
       "'S = '"
      ]
     },
     "metadata": {},
     "output_type": "display_data"
    },
    {
     "data": {
      "text/latex": [
       "$\\displaystyle \\left[\\begin{matrix}1.0\\end{matrix}\\right]$"
      ],
      "text/plain": [
       "Matrix([[1.0]])"
      ]
     },
     "metadata": {},
     "output_type": "display_data"
    },
    {
     "data": {
      "text/plain": [
       "'V = '"
      ]
     },
     "metadata": {},
     "output_type": "display_data"
    },
    {
     "data": {
      "text/latex": [
       "$\\displaystyle \\left[\\begin{matrix}-0.707106781186548\\\\-0.707106781186548\\end{matrix}\\right]$"
      ],
      "text/plain": [
       "Matrix([\n",
       "[-0.707106781186548],\n",
       "[-0.707106781186548]])"
      ]
     },
     "metadata": {},
     "output_type": "display_data"
    },
    {
     "data": {
      "text/plain": [
       "'==================================='"
      ]
     },
     "metadata": {},
     "output_type": "display_data"
    },
    {
     "name": "stdout",
     "output_type": "stream",
     "text": [
      "Schmidt number:  1\n",
      "Dimension d:     2\n"
     ]
    },
    {
     "data": {
      "text/plain": [
       "'==================================='"
      ]
     },
     "metadata": {},
     "output_type": "display_data"
    },
    {
     "data": {
      "text/plain": [
       "'ketsA = '"
      ]
     },
     "metadata": {},
     "output_type": "display_data"
    },
    {
     "data": {
      "text/plain": [
       "[-0.707106781186548*|0> - 0.707106781186548*|1>]"
      ]
     },
     "metadata": {},
     "output_type": "display_data"
    },
    {
     "data": {
      "text/plain": [
       "'ketsB = '"
      ]
     },
     "metadata": {},
     "output_type": "display_data"
    },
    {
     "data": {
      "text/plain": [
       "[-0.707106781186548*|0> - 0.707106781186548*|1>]"
      ]
     },
     "metadata": {},
     "output_type": "display_data"
    },
    {
     "data": {
      "text/plain": [
       "'==================================='"
      ]
     },
     "metadata": {},
     "output_type": "display_data"
    },
    {
     "data": {
      "text/plain": [
       "'Expansion check: '"
      ]
     },
     "metadata": {},
     "output_type": "display_data"
    },
    {
     "data": {
      "text/latex": [
       "$\\displaystyle 0.5 {\\left|0\\right\\rangle } {\\left|1\\right\\rangle } + 0.5 {\\left|0\\right\\rangle }^{2} + 0.5 {\\left|1\\right\\rangle } {\\left|0\\right\\rangle } + 0.5 {\\left|1\\right\\rangle }^{2}$"
      ],
      "text/plain": [
       "0.5*|0>*|1> + 0.5*|0>**2 + 0.5*|1>*|0> + 0.5*|1>**2"
      ]
     },
     "metadata": {},
     "output_type": "display_data"
    }
   ],
   "source": [
    "A = 1/2 * Matrix([[1, 1],[1, 1]])\n",
    "display(A)\n",
    "\n",
    "schmidt_decomposition(A, do_float=false)"
   ]
  },
  {
   "cell_type": "code",
   "execution_count": 15,
   "id": "ebaf5070",
   "metadata": {},
   "outputs": [
    {
     "data": {
      "text/latex": [
       "$\\displaystyle \\left[\\begin{matrix}\\frac{\\sqrt{3}}{3} & \\frac{\\sqrt{3}}{3}\\\\\\frac{\\sqrt{3}}{3} & 0\\end{matrix}\\right]$"
      ],
      "text/plain": [
       "Matrix([\n",
       "[sqrt(3)/3, sqrt(3)/3],\n",
       "[sqrt(3)/3,         0]])"
      ]
     },
     "metadata": {},
     "output_type": "display_data"
    },
    {
     "data": {
      "text/plain": [
       "'U = '"
      ]
     },
     "metadata": {},
     "output_type": "display_data"
    },
    {
     "data": {
      "text/latex": [
       "$\\displaystyle \\left[\\begin{matrix}\\frac{\\frac{\\sqrt{3} \\cdot \\left(\\frac{1}{2} - \\frac{\\sqrt{5}}{2}\\right)}{3 \\sqrt{\\left(- \\frac{1}{2} + \\frac{\\sqrt{5}}{2}\\right)^{2} + 1}} + \\frac{\\sqrt{3}}{3 \\sqrt{\\left(- \\frac{1}{2} + \\frac{\\sqrt{5}}{2}\\right)^{2} + 1}}}{\\sqrt{\\frac{1}{2} - \\frac{\\sqrt{5}}{6}}} & \\frac{\\frac{\\sqrt{3}}{3 \\sqrt{1 + \\left(\\frac{1}{2} + \\frac{\\sqrt{5}}{2}\\right)^{2}}} + \\frac{\\sqrt{3} \\cdot \\left(\\frac{1}{2} + \\frac{\\sqrt{5}}{2}\\right)}{3 \\sqrt{1 + \\left(\\frac{1}{2} + \\frac{\\sqrt{5}}{2}\\right)^{2}}}}{\\sqrt{\\frac{\\sqrt{5}}{6} + \\frac{1}{2}}}\\\\\\frac{\\sqrt{3} \\cdot \\left(\\frac{1}{2} - \\frac{\\sqrt{5}}{2}\\right)}{3 \\sqrt{\\frac{1}{2} - \\frac{\\sqrt{5}}{6}} \\sqrt{\\left(- \\frac{1}{2} + \\frac{\\sqrt{5}}{2}\\right)^{2} + 1}} & \\frac{\\sqrt{3} \\cdot \\left(\\frac{1}{2} + \\frac{\\sqrt{5}}{2}\\right)}{3 \\sqrt{1 + \\left(\\frac{1}{2} + \\frac{\\sqrt{5}}{2}\\right)^{2}} \\sqrt{\\frac{\\sqrt{5}}{6} + \\frac{1}{2}}}\\end{matrix}\\right]$"
      ],
      "text/plain": [
       "Matrix([\n",
       "[(sqrt(3)*(1/2 - sqrt(5)/2)/(3*sqrt((-1/2 + sqrt(5)/2)**2 + 1)) + sqrt(3)/(3*sqrt((-1/2 + sqrt(5)/2)**2 + 1)))/sqrt(1/2 - sqrt(5)/6), (sqrt(3)/(3*sqrt(1 + (1/2 + sqrt(5)/2)**2)) + sqrt(3)*(1/2 + sqrt(5)/2)/(3*sqrt(1 + (1/2 + sqrt(5)/2)**2)))/sqrt(sqrt(5)/6 + 1/2)],\n",
       "[                                                sqrt(3)*(1/2 - sqrt(5)/2)/(3*sqrt(1/2 - sqrt(5)/6)*sqrt((-1/2 + sqrt(5)/2)**2 + 1)),                                                sqrt(3)*(1/2 + sqrt(5)/2)/(3*sqrt(1 + (1/2 + sqrt(5)/2)**2)*sqrt(sqrt(5)/6 + 1/2))]])"
      ]
     },
     "metadata": {},
     "output_type": "display_data"
    },
    {
     "data": {
      "text/plain": [
       "'S = '"
      ]
     },
     "metadata": {},
     "output_type": "display_data"
    },
    {
     "data": {
      "text/latex": [
       "$\\displaystyle \\left[\\begin{matrix}\\sqrt{\\frac{1}{2} - \\frac{\\sqrt{5}}{6}} & 0\\\\0 & \\sqrt{\\frac{\\sqrt{5}}{6} + \\frac{1}{2}}\\end{matrix}\\right]$"
      ],
      "text/plain": [
       "Matrix([\n",
       "[sqrt(1/2 - sqrt(5)/6),                     0],\n",
       "[                    0, sqrt(sqrt(5)/6 + 1/2)]])"
      ]
     },
     "metadata": {},
     "output_type": "display_data"
    },
    {
     "data": {
      "text/plain": [
       "'V = '"
      ]
     },
     "metadata": {},
     "output_type": "display_data"
    },
    {
     "data": {
      "text/latex": [
       "$\\displaystyle \\left[\\begin{matrix}\\frac{\\frac{1}{2} - \\frac{\\sqrt{5}}{2}}{\\sqrt{\\left(- \\frac{1}{2} + \\frac{\\sqrt{5}}{2}\\right)^{2} + 1}} & \\frac{\\frac{1}{2} + \\frac{\\sqrt{5}}{2}}{\\sqrt{1 + \\left(\\frac{1}{2} + \\frac{\\sqrt{5}}{2}\\right)^{2}}}\\\\\\frac{1}{\\sqrt{\\left(- \\frac{1}{2} + \\frac{\\sqrt{5}}{2}\\right)^{2} + 1}} & \\frac{1}{\\sqrt{1 + \\left(\\frac{1}{2} + \\frac{\\sqrt{5}}{2}\\right)^{2}}}\\end{matrix}\\right]$"
      ],
      "text/plain": [
       "Matrix([\n",
       "[(1/2 - sqrt(5)/2)/sqrt((-1/2 + sqrt(5)/2)**2 + 1), (1/2 + sqrt(5)/2)/sqrt(1 + (1/2 + sqrt(5)/2)**2)],\n",
       "[                1/sqrt((-1/2 + sqrt(5)/2)**2 + 1),                 1/sqrt(1 + (1/2 + sqrt(5)/2)**2)]])"
      ]
     },
     "metadata": {},
     "output_type": "display_data"
    },
    {
     "data": {
      "text/plain": [
       "'==================================='"
      ]
     },
     "metadata": {},
     "output_type": "display_data"
    },
    {
     "data": {
      "text/plain": [
       "'U = '"
      ]
     },
     "metadata": {},
     "output_type": "display_data"
    },
    {
     "data": {
      "text/latex": [
       "$\\displaystyle \\left[\\begin{matrix}0.525731112119134 & 0.85065080835204\\\\-0.85065080835204 & 0.525731112119134\\end{matrix}\\right]$"
      ],
      "text/plain": [
       "Matrix([\n",
       "[0.525731112119134,  0.85065080835204],\n",
       "[-0.85065080835204, 0.525731112119134]])"
      ]
     },
     "metadata": {},
     "output_type": "display_data"
    },
    {
     "data": {
      "text/plain": [
       "'S = '"
      ]
     },
     "metadata": {},
     "output_type": "display_data"
    },
    {
     "data": {
      "text/latex": [
       "$\\displaystyle \\left[\\begin{matrix}0.35682208977309 & 0\\\\0 & 0.934172358962716\\end{matrix}\\right]$"
      ],
      "text/plain": [
       "Matrix([\n",
       "[0.35682208977309,                 0],\n",
       "[               0, 0.934172358962716]])"
      ]
     },
     "metadata": {},
     "output_type": "display_data"
    },
    {
     "data": {
      "text/plain": [
       "'V = '"
      ]
     },
     "metadata": {},
     "output_type": "display_data"
    },
    {
     "data": {
      "text/latex": [
       "$\\displaystyle \\left[\\begin{matrix}-0.525731112119134 & 0.85065080835204\\\\0.85065080835204 & 0.525731112119134\\end{matrix}\\right]$"
      ],
      "text/plain": [
       "Matrix([\n",
       "[-0.525731112119134,  0.85065080835204],\n",
       "[  0.85065080835204, 0.525731112119134]])"
      ]
     },
     "metadata": {},
     "output_type": "display_data"
    },
    {
     "data": {
      "text/plain": [
       "'==================================='"
      ]
     },
     "metadata": {},
     "output_type": "display_data"
    },
    {
     "name": "stdout",
     "output_type": "stream",
     "text": [
      "Schmidt number:  2\n",
      "Dimension d:     2\n"
     ]
    },
    {
     "data": {
      "text/plain": [
       "'==================================='"
      ]
     },
     "metadata": {},
     "output_type": "display_data"
    },
    {
     "data": {
      "text/plain": [
       "'ketsA = '"
      ]
     },
     "metadata": {},
     "output_type": "display_data"
    },
    {
     "data": {
      "text/plain": [
       "[0.525731112119134*|0> - 0.85065080835204*|1>,\n",
       " 0.85065080835204*|0> + 0.525731112119134*|1>]"
      ]
     },
     "metadata": {},
     "output_type": "display_data"
    },
    {
     "data": {
      "text/plain": [
       "'ketsB = '"
      ]
     },
     "metadata": {},
     "output_type": "display_data"
    },
    {
     "data": {
      "text/plain": [
       "[-0.525731112119134*|0> + 0.85065080835204*|1>,\n",
       " 0.85065080835204*|0> + 0.525731112119134*|1>]"
      ]
     },
     "metadata": {},
     "output_type": "display_data"
    },
    {
     "data": {
      "text/plain": [
       "'==================================='"
      ]
     },
     "metadata": {},
     "output_type": "display_data"
    },
    {
     "data": {
      "text/plain": [
       "'Expansion check: '"
      ]
     },
     "metadata": {},
     "output_type": "display_data"
    },
    {
     "data": {
      "text/latex": [
       "$\\displaystyle 0.577350269189626 {\\left|0\\right\\rangle } {\\left|1\\right\\rangle } + 0.577350269189626 {\\left|0\\right\\rangle }^{2} + 0.577350269189626 {\\left|1\\right\\rangle } {\\left|0\\right\\rangle }$"
      ],
      "text/plain": [
       "0.577350269189626*|0>*|1> + 0.577350269189626*|0>**2 + 0.577350269189626*|1>*|0>"
      ]
     },
     "metadata": {},
     "output_type": "display_data"
    }
   ],
   "source": [
    "A = 1/sqrt(3) * Matrix([[1, 1],[1, 0]])\n",
    "display(A)\n",
    "\n",
    "schmidt_decomposition(A, do_float=true)"
   ]
  },
  {
   "cell_type": "markdown",
   "id": "20313bd0",
   "metadata": {},
   "source": [
    "**Summary**"
   ]
  },
  {
   "cell_type": "markdown",
   "id": "d208b469",
   "metadata": {},
   "source": [
    "For part 2 our $a$ matrix is now: "
   ]
  },
  {
   "cell_type": "code",
   "execution_count": 16,
   "id": "8da889f7",
   "metadata": {},
   "outputs": [
    {
     "data": {
      "text/latex": [
       "$\\displaystyle \\left[\\begin{matrix}0.5 & 0.5\\\\0.5 & 0.5\\end{matrix}\\right]$"
      ],
      "text/plain": [
       "Matrix([\n",
       "[0.5, 0.5],\n",
       "[0.5, 0.5]])"
      ]
     },
     "metadata": {},
     "output_type": "display_data"
    }
   ],
   "source": [
    "A = 1/2 * Matrix([[1, 1],[1, 1]])\n",
    "display(A)"
   ]
  },
  {
   "cell_type": "markdown",
   "id": "cee99e48",
   "metadata": {},
   "source": [
    "Replacing the $a$ matrix in the code above gives us:\n",
    "\n",
    "The system has a Schmidt number of 1.\n",
    "The Schmidt coefficient equals 1 exactly.\n",
    "\n",
    "$\\ket{0_A} = -\\frac{1}{\\sqrt{2}} (\\ket{0}_A + \\ket{1}_A)$\n",
    "\n",
    "$\\ket{0_B} = -\\frac{1}{\\sqrt{2}} (\\ket{0}_B + \\ket{1}_B)$\n",
    "\n",
    "\n",
    "Note I've added subcripts of $A$ and $B$ on the rhs to emphasize with system the original basis vectors are coming from. \n",
    "Substituting and expanding in the code above again gives back the original pure state in the original basis."
   ]
  },
  {
   "cell_type": "markdown",
   "id": "1cbd4c74",
   "metadata": {},
   "source": [
    "For part 3 our  𝑎 matrix is now:"
   ]
  },
  {
   "cell_type": "code",
   "execution_count": 17,
   "id": "0a7588ff",
   "metadata": {},
   "outputs": [
    {
     "data": {
      "text/latex": [
       "$\\displaystyle \\left[\\begin{matrix}\\frac{\\sqrt{3}}{3} & \\frac{\\sqrt{3}}{3}\\\\\\frac{\\sqrt{3}}{3} & 0\\end{matrix}\\right]$"
      ],
      "text/plain": [
       "Matrix([\n",
       "[sqrt(3)/3, sqrt(3)/3],\n",
       "[sqrt(3)/3,         0]])"
      ]
     },
     "metadata": {},
     "output_type": "display_data"
    }
   ],
   "source": [
    "A = 1/sqrt(3) * Matrix([[1, 1],[1, 0]])\n",
    "display(A)"
   ]
  },
  {
   "cell_type": "markdown",
   "id": "2780c673",
   "metadata": {},
   "source": [
    "Replacing the 𝑎 matrix in the code above gives us:\n",
    "\n",
    "The system has a Schmidt number of 2. \n",
    "\n",
    "The Schmidt coefficients are:\n",
    "\n",
    "$\\sqrt{1/2 - \\sqrt{5}/6}$\n",
    "\n",
    "$\\sqrt{1/2 + \\sqrt{5}/6)}$\n",
    "\n",
    "The Schmidt basis are:\n",
    "\n",
    "$\\ket{0_A} = 0.525731112119134\\ |0> - 0.85065080835204\\ |1>$\n",
    "$\\ket{1_A} = 0.85065080835204\\ |0> + 0.525731112119134\\ |1>$\n",
    "\n",
    "$\\ket{0_B} = -0.525731112119134\\ |0> + 0.85065080835204\\ |1>$\n",
    "$\\ket{1_B} =  0.85065080835204\\ |0> + 0.525731112119134\\ |1>$\n",
    " \n",
    "Again, substituting and expanding in the code above again gives back the original pure state in the original basis."
   ]
  },
  {
   "cell_type": "markdown",
   "id": "bddeb5a6",
   "metadata": {},
   "source": [
    "You can see how this can be easily turned into a function. There's no issue with using higher dimensional Hilbert space as it is. The manual step right now is writing the original pure state into the $a$ matrix."
   ]
  },
  {
   "cell_type": "code",
   "execution_count": null,
   "id": "689915bd-cd76-44e2-b27c-3b6c3749708b",
   "metadata": {},
   "outputs": [],
   "source": []
  }
 ],
 "metadata": {
  "kernelspec": {
   "display_name": "quantum-computing",
   "language": "python",
   "name": "quantum-computing"
  },
  "language_info": {
   "codemirror_mode": {
    "name": "ipython",
    "version": 3
   },
   "file_extension": ".py",
   "mimetype": "text/x-python",
   "name": "python",
   "nbconvert_exporter": "python",
   "pygments_lexer": "ipython3",
   "version": "3.10.13"
  },
  "latex_envs": {
   "LaTeX_envs_menu_present": true,
   "autoclose": false,
   "autocomplete": true,
   "bibliofile": "biblio.bib",
   "cite_by": "apalike",
   "current_citInitial": 1,
   "eqLabelWithNumbers": true,
   "eqNumInitial": 1,
   "hotkeys": {
    "equation": "Ctrl-E",
    "itemize": "Ctrl-I"
   },
   "labels_anchors": false,
   "latex_user_defs": false,
   "report_style_numbering": false,
   "user_envs_cfg": false
  },
  "widgets": {
   "application/vnd.jupyter.widget-state+json": {
    "state": {},
    "version_major": 2,
    "version_minor": 0
   }
  }
 },
 "nbformat": 4,
 "nbformat_minor": 5
}
