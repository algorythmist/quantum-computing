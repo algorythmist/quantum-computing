{
 "cells": [
  {
   "cell_type": "markdown",
   "id": "9f9067cf",
   "metadata": {},
   "source": [
    "#### Define bras, kets, brackets\n",
    "$\n",
    "\\newcommand{\\ket}[1]{\\left|{#1}\\right\\rangle}\n",
    "\\newcommand{\\bra}[1]{\\left\\langle{#1}\\right|}\n",
    "\\newcommand{\\braket}[2]{\\left\\langle{#1}\\middle|{#2}\\right\\rangle}\n",
    "$"
   ]
  },
  {
   "cell_type": "markdown",
   "id": "a356823f-d92e-416b-a331-6d66a28e1cd4",
   "metadata": {},
   "source": [
    "# Quantum Computation and Quantum Information\r",
    "## \n",
    "Chapter23 - 2.71 - ends"
   ]
  },
  {
   "cell_type": "markdown",
   "id": "f3abca3f",
   "metadata": {},
   "source": [
    "# Highlights\n",
    "\n"
   ]
  },
  {
   "cell_type": "markdown",
   "id": "71883181-4065-4dfa-b514-1992012c240c",
   "metadata": {},
   "source": [
    "## Density Matrix\n",
    "\n",
    "$\\rho = \\sum_i p_i\\ket{\\psi_i}\\bra{\\psi_i}$, where $\\sum p_i = 1$\n",
    "\n",
    "### Properties\n",
    "\n",
    "- $\\rho$ is a positive operator\n",
    "- $Tr(\\rho) = 1$\n",
    "- $Tr(\\rho^2) \\leq 1$ with equality iff $\\rho$ is pure."
   ]
  },
  {
   "cell_type": "markdown",
   "id": "72dfe758",
   "metadata": {},
   "source": [
    "### Composite systems\n",
    "\n",
    "#### Partial Trace\n",
    "\n",
    "Let $\\ket{a_1},\\ket{a_2} \\in H_A$, $\\ket{b_1}, \\ket{b_2} \\in H_B$, then \n",
    "\n",
    "$$\n",
    "tr_B\\left(\\ket{a_1}\\bra{a_2}\\otimes \\ket{b_1}\\bra{b_2}\\right) \\equiv \\ket{a_1}\\bra{a_2}tr\\left(\\ket{b_1}\\bra{b_2}\\right)\n",
    "= \\braket{b_2}{b_1}\\left(\\ket{a_1}\\bra{a_2}\\right)\n",
    "$$"
   ]
  },
  {
   "cell_type": "markdown",
   "id": "1d3e5e26",
   "metadata": {},
   "source": [
    "#### Schmidt Decomposition\n",
    "\n",
    "Theorem: If $\\psi$ is a pure state of a composite system AB, then there exist orthonormal states $i^A$ in A and $i^B$ in B, and non-negative real numbers $\\lambda_i$, such that \n",
    "\n",
    "$$\n",
    "\\ket{\\psi} = \\sum_i \\lambda_i\\ket{i^a}\\ket{i^B}\n",
    "$$"
   ]
  },
  {
   "cell_type": "markdown",
   "id": "ecedfa52",
   "metadata": {},
   "source": [
    "#### Purification\n",
    "\n",
    "Given a possibly mixed state $\\rho^A$, we can introduce a system $R$ of the same dimension as A, such that $\\rho^A$ is the partial trace of a pure state in the combined system.\n",
    "\n",
    "In particular, suppose $\\rho^A = \\sum_i p_i \\ket{i^A}\\bra{i^A}$ and choose an orthonormal basis $i^R$ in R. Define\n",
    "\n",
    "$$\n",
    "\\ket{AR} = \\sum_i \\sqrt{p_i}\\ket{i^A}\\ket{i^R}\n",
    "$$\n",
    "\n",
    "Then $tr_R(\\ket{AR}\\bra{AR}) = \\rho^A$"
   ]
  },
  {
   "cell_type": "markdown",
   "id": "824527be",
   "metadata": {},
   "source": [
    "### Exercise 2.71\n",
    "\n",
    "Note that $Tr(\\ket{v}\\bra{w}) = \\braket{w}{v}$.\n",
    "\n",
    "Also, by the Schwartz inequality\n",
    "\n",
    "$|\\braket{v}{w}|^2 \\leq |v|^2|w|^2$, with equality iff $v = \\lambda w$\n",
    "\n",
    "so for normalized vectors\n",
    "\n",
    "$\n",
    "|\\braket{v}{w}|^2 \\leq 1\n",
    "$\n",
    "\n",
    "$$\n",
    "\\rho^2 = \\sum_i p_i \\ket{x_i}\\bra{x_i}\\sum_j p_j \\ket{x_j}\\bra{x_j} =\n",
    "\\sum_{ij} p_i p_j \\braket{x_i}{x_j}\\ket{x_i}\\bra{x_j}\n",
    "$$\n",
    "\n",
    "$$\n",
    "tr(\\rho^2) = \\sum_{ij} p_i p_j \\braket{x_i}{x_j} tr(\\ket{x_i}\\bra{x_j}) =  \n",
    "\\sum_{ij} p_i p_j \\braket{x_i}{x_j} \\braket{x_j}{x_i}=\\\\\n",
    "\\sum_{ij} p_i p_j |\\braket{x_i}{x_j}|^2 \\leq \\sum_{ij} p_i p_j = \\sum_i p_i \\sum_j p_j = 1\n",
    "$$\n",
    "\n",
    "we can use the fact that the equalty in the Schwartz inequality is strict only if the vectors differ by a phase factor, to conclude that \n",
    "$Tr(\\rho) < 1$ if the state is not pure."
   ]
  },
  {
   "cell_type": "markdown",
   "id": "4a2f1a12",
   "metadata": {},
   "source": [
    "### Exercise 2.72\n",
    "\n",
    "1) We must show that the trace is 1 and the operator is positive\n",
    "\n",
    "$tr(\\rho) = \\frac{tr(I)+ \\sum_i r_i tr(\\sigma_i)}{2} = \\frac{2+0}{2} = 1$\n",
    "\n",
    "To show it is positive, we must show $\\braket{v}{\\rho v} \\geq 0$ for all v\n",
    "\n",
    "$$\n",
    "\\braket{v}{\\rho v} = \\frac{1}{2}\\left(|v|^2 + \\sum_i r_i \\braket{v_i}{\\sigma_i v_i}\\right)\n",
    "$$\n",
    "\n",
    "Since the $\\sigma_i$ are Hermitian, $\\braket{v_i}{\\sigma_i v_i}$ is real. We can use the fact that $|r| \\leq 1$ to show that the expression is positive."
   ]
  },
  {
   "cell_type": "markdown",
   "id": "6d07aac1",
   "metadata": {},
   "source": [
    "2. $ r = 0$"
   ]
  },
  {
   "cell_type": "markdown",
   "id": "5b895f3f",
   "metadata": {},
   "source": [
    "3)\n",
    "\n",
    "$$\n",
    "\\rho^2 = \\left(\\frac{I+r^i \\sigma_i}{2}\\right)\\left(\\frac{I+r^j \\sigma_j}{2}\\right)=\\\\\n",
    "\\frac{1}{4}\\left(I + 2r^i \\sigma_i + r^i r^j \\sigma_i \\sigma_j \\right) = \\\\\n",
    "\\frac{1}{4}\\left(I + 2r^i \\sigma_i + \\sum_i (r^i)^2 \\sum_{j \\neq i} r^i r^j e_{ij}^k \\sigma_k \\right)\n",
    "$$\n",
    "\n",
    "Using the fact that $tr(\\sigma_i) = 0$, we have\n",
    "\n",
    "$$\n",
    "tr(\\rho^2) = \\frac{1}{4}(2 + 2|r|^2) = \\frac{1}{2}(1+|r|^2)\n",
    "$$\n",
    "\n",
    "which is 1 iff $|r| = 1$"
   ]
  },
  {
   "cell_type": "markdown",
   "id": "dd20371e",
   "metadata": {},
   "source": [
    "4)  TODO"
   ]
  },
  {
   "cell_type": "markdown",
   "id": "ea7fc8f2",
   "metadata": {},
   "source": [
    "### Exercise 2.73 \n",
    "\n",
    "TODO"
   ]
  },
  {
   "cell_type": "markdown",
   "id": "262a514b",
   "metadata": {},
   "source": [
    "### Exercise 2.74\n",
    "\n",
    "$$\n",
    "\\rho^A = tr_B(\\rho^{AB}) = tr_B(\\ket{a}\\ket{b}\\bra{b}\\bra{a}) = |b|^2\\ket{a}\\bra{a}\n",
    "$$"
   ]
  },
  {
   "cell_type": "markdown",
   "id": "0698b7cf",
   "metadata": {},
   "source": [
    "### Exercise 2.75\n",
    "\n",
    "Pick $\\ket{\\psi} = \\frac{\\ket{00} \\pm \\ket{11}}{\\sqrt{2}}$. Then\n",
    "\n",
    "$$\n",
    "\\ket{\\psi}\\bra{\\psi} = \\frac{1}{2}\\left[ \\ket{00}\\bra{00} + \\ket{11}\\bra{11} + \\ket{01}\\bra{01} + \\ket{10}\\bra{10}\\right]  \n",
    "$$\n",
    "\n",
    "$$\n",
    "tr_B(\\ket{\\psi}\\bra{\\psi}) = \\frac{1}{2}\\left[\\ket{0}\\bra{0} + \\ket{1}\\bra{1} \\right]  \n",
    "$$\n",
    "\n",
    "where I have used the orthonormality of 0 and 1 to get rid of the cross-terms. The calculation for the other states is similar."
   ]
  },
  {
   "cell_type": "markdown",
   "id": "9f781030",
   "metadata": {},
   "source": [
    "### Exercise 2.76\n",
    "\n",
    "The generalization follows from the fact that SVD is possible for non-square matrices."
   ]
  },
  {
   "cell_type": "markdown",
   "id": "1bc4e4f0",
   "metadata": {},
   "source": [
    "### Exercise 2.78\n",
    "\n",
    "1) Prove that $\\psi$ is a product state iff it has Schmidt number 1.\n",
    "\n",
    "If  $\\ket{\\psi} = \\ket{a}\\ket{b}$  then it has a Schmidt representation $ |a||b|\\ket{a/|a|}\\ket{b/|b|}$ which has rank 1. Conversely, if $\\ket{\\psi}$ has a rank 1  Schmidt representation $\\lambda\\ket{a}\\ket{b}$ then it is clearly a product state.\n",
    "\n",
    "2) Prove that $\\psi$ is a product state iff  $\\rho^A$ (and $\\rho^B)$ are pure states\n",
    "\n",
    "If $\\ket{\\psi} = \\ket{a}\\ket{b}$, then $\\rho = \\ket{a}\\ket{b}\\otimes\\bra{a}\\bra{b}$, so \n",
    "$\\rho^A = |b|^2\\ket{a}\\bra{a}$ which is a pure state (same for $\\rho^B$).\n",
    "\n",
    "If $\\rho^A = \\ket{a}\\bra{a}$ and $\\rho^B = \\ket{b}\\bra{b}$, then \n",
    "$\\rho = \\rho^A \\otimes \\rho^B = \\ket{a}\\ket{b}\\otimes\\bra{a}\\bra{b}$, which is a product state.\n"
   ]
  },
  {
   "cell_type": "markdown",
   "id": "fd858a74",
   "metadata": {},
   "source": [
    "### Exercise 2.80 \n",
    "\n",
    "Suppose $\\ket{\\psi} = \\sum_i \\lambda_i \\ket{i_1^A}\\ket{i_1^B}$ and $\\ket{\\phi} = \\sum_i \\lambda_i \\ket{i_2^A}\\ket{i_2^B}$.\n",
    "\n",
    "Since $i_1^A$ and $i_2^A$ are orthonormal sets in A, there is a unitary matrix U transforming from one set to the other. Similarly, there is a unitary matrix B transforming $i_1^B$ and $i_2^B$.\n",
    "\n",
    "Then \n",
    "\n",
    "$$\n",
    "U\\otimes V \\ket{\\phi} = \\sum_i \\lambda_i U\\ket{i_2^A}V\\ket{i_2^B} = \\lambda_i \\ket{i_1^A}\\ket{i_1^B} = \\ket{\\psi}\n",
    "$$"
   ]
  },
  {
   "cell_type": "markdown",
   "id": "2a543740",
   "metadata": {},
   "source": [
    "### Exercise 2.81\n",
    "\n",
    "We have \n",
    "\n",
    "$$\n",
    "\\ket{AR_1} = \\sum_i \\sqrt{p_i}\\ket{i^A}\\ket{i^{R_1}}\n",
    "$$\n",
    "\n",
    "and \n",
    "\n",
    "$$\n",
    "\\ket{AR_2} = \\sum_i \\sqrt{p_i}\\ket{i^A}\\ket{i^{R_2}}\n",
    "$$\n",
    "\n",
    "so the result follows from exercise 2.80"
   ]
  },
  {
   "cell_type": "code",
   "execution_count": null,
   "id": "ceda65b3",
   "metadata": {},
   "outputs": [],
   "source": []
  }
 ],
 "metadata": {
  "kernelspec": {
   "display_name": "physics-with-friends",
   "language": "python",
   "name": "physics-with-friends"
  },
  "language_info": {
   "codemirror_mode": {
    "name": "ipython",
    "version": 3
   },
   "file_extension": ".py",
   "mimetype": "text/x-python",
   "name": "python",
   "nbconvert_exporter": "python",
   "pygments_lexer": "ipython3",
   "version": "3.10.13"
  },
  "latex_envs": {
   "LaTeX_envs_menu_present": true,
   "autoclose": false,
   "autocomplete": true,
   "bibliofile": "biblio.bib",
   "cite_by": "apalike",
   "current_citInitial": 1,
   "eqLabelWithNumbers": true,
   "eqNumInitial": 1,
   "hotkeys": {
    "equation": "Ctrl-E",
    "itemize": "Ctrl-I"
   },
   "labels_anchors": false,
   "latex_user_defs": false,
   "report_style_numbering": false,
   "user_envs_cfg": false
  },
  "widgets": {
   "application/vnd.jupyter.widget-state+json": {
    "state": {},
    "version_major": 2,
    "version_minor": 0
   }
  }
 },
 "nbformat": 4,
 "nbformat_minor": 5
}
