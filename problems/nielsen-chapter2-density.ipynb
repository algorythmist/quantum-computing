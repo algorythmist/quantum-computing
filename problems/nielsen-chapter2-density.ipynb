{
 "cells": [
  {
   "cell_type": "markdown",
   "id": "9f9067cf",
   "metadata": {},
   "source": [
    "#### Define bras, kets, brackets\n",
    "$\n",
    "\\newcommand{\\ket}[1]{\\left|{#1}\\right\\rangle}\n",
    "\\newcommand{\\bra}[1]{\\left\\langle{#1}\\right|}\n",
    "\\newcommand{\\braket}[2]{\\left\\langle{#1}\\middle|{#2}\\right\\rangle}\n",
    "$"
   ]
  },
  {
   "cell_type": "markdown",
   "id": "a356823f-d92e-416b-a331-6d66a28e1cd4",
   "metadata": {},
   "source": [
    "# Quantum Computation and Quantum Information\r",
    "## \n",
    "Chapter23 - 2.71 - ends"
   ]
  },
  {
   "cell_type": "markdown",
   "id": "f3abca3f",
   "metadata": {},
   "source": [
    "# Highlights\n",
    "\n"
   ]
  },
  {
   "cell_type": "markdown",
   "id": "71883181-4065-4dfa-b514-1992012c240c",
   "metadata": {},
   "source": [
    "## Density Matrix\n",
    "\n",
    "$\\rho = \\sum_i p_i\\ket{\\psi_i}\\bra{\\psi_i}$, where $\\sum p_i = 1$\n",
    "\n",
    "### Properties\n",
    "\n",
    "- $\\rho$ is a positive operator\n",
    "- $Tr(\\rho) = 1$\n",
    "- $Tr(\\rho^2) \\leq 1$ with equality iff $\\rho$ is pure."
   ]
  },
  {
   "cell_type": "markdown",
   "id": "72dfe758",
   "metadata": {},
   "source": [
    "### Composite systems\n",
    "\n",
    "#### Partial Trace\n",
    "\n",
    "Let $\\ket{a_1},\\ket{a_2} \\in H_A$, $\\ket{b_1}, \\ket{b_2} \\in H_B$, then \n",
    "\n",
    "$$\n",
    "tr_B\\left(\\ket{a_1}\\bra{a_2}\\otimes \\ket{b_1}\\bra{b_2}\\right) \\equiv \\ket{a_1}\\bra{a_2}tr\\left(\\ket{b_1}\\bra{b_2}\\right)\n",
    "= \\braket{b_2}{b_1}\\left(\\ket{a_1}\\bra{a_2}\\right)\n",
    "$$\n",
    "\n",
    "For a composite state $\\rho^{AB}$ in system AB, defined the reduced density operator\n",
    "\n",
    "$$\n",
    "\\rho^A = tr_B(\\rho^{AB})\n",
    "$$"
   ]
  },
  {
   "cell_type": "markdown",
   "id": "1d3e5e26",
   "metadata": {},
   "source": [
    "#### Schmidt Decomposition\n",
    "\n",
    "Theorem: If $\\psi$ is a pure state of a composite system AB, then there exist orthonormal states $i^A$ in A and $i^B$ in B, and non-negative real numbers $\\lambda_i$, such that \n",
    "\n",
    "$$\n",
    "\\ket{\\psi} = \\sum_i \\lambda_i\\ket{i^A}\\ket{i^B}\n",
    "$$\n",
    "\n",
    "The number of non-zero values of $\\lambda_i$ is called the *Schmidt number*."
   ]
  },
  {
   "cell_type": "markdown",
   "id": "ecedfa52",
   "metadata": {},
   "source": [
    "#### Purification\n",
    "\n",
    "Given a possibly mixed state $\\rho^A$, we can introduce a system $R$ of the same dimension as A, such that $\\rho^A$ is the partial trace of a pure state in the combined system.\n",
    "\n",
    "In particular, suppose $\\rho^A = \\sum_i p_i \\ket{i^A}\\bra{i^A}$ and choose an orthonormal basis $i^R$ in R. Define\n",
    "\n",
    "$$\n",
    "\\ket{AR} = \\sum_i \\sqrt{p_i}\\ket{i^A}\\ket{i^R}\n",
    "$$\n",
    "\n",
    "Then $tr_R(\\ket{AR}\\bra{AR}) = \\rho^A$"
   ]
  },
  {
   "cell_type": "markdown",
   "id": "824527be",
   "metadata": {},
   "source": [
    "### Exercise 2.71\n",
    "\n",
    "Note that $Tr(\\ket{v}\\bra{w}) = \\braket{w}{v}$.\n",
    "\n",
    "Also, by the Schwartz inequality\n",
    "\n",
    "$|\\braket{v}{w}|^2 \\leq |v|^2|w|^2$, with equality iff $v = \\lambda w$\n",
    "\n",
    "so for normalized vectors\n",
    "\n",
    "$\n",
    "|\\braket{v}{w}|^2 \\leq 1\n",
    "$\n",
    "\n",
    "$$\n",
    "\\rho^2 = \\sum_i p_i \\ket{x_i}\\bra{x_i}\\sum_j p_j \\ket{x_j}\\bra{x_j} =\n",
    "\\sum_{ij} p_i p_j \\braket{x_i}{x_j}\\ket{x_i}\\bra{x_j}\n",
    "$$\n",
    "\n",
    "$$\n",
    "tr(\\rho^2) = \\sum_{ij} p_i p_j \\braket{x_i}{x_j} tr(\\ket{x_i}\\bra{x_j}) =  \n",
    "\\sum_{ij} p_i p_j \\braket{x_i}{x_j} \\braket{x_j}{x_i}=\\\\\n",
    "\\sum_{ij} p_i p_j |\\braket{x_i}{x_j}|^2 \\leq \\sum_{ij} p_i p_j = \\sum_i p_i \\sum_j p_j = 1\n",
    "$$\n",
    "\n",
    "we can use the fact that the equalty in the Schwartz inequality is strict only if the vectors differ by a phase factor, to conclude that \n",
    "$Tr(\\rho) < 1$ if the state is not pure."
   ]
  },
  {
   "cell_type": "markdown",
   "id": "4a2f1a12",
   "metadata": {},
   "source": [
    "### Exercise 2.72\n",
    "\n",
    "1) We must show that the trace is 1 and the operator is positive\n",
    "\n",
    "$tr(\\rho) = \\frac{tr(I)+ \\sum_i r_i tr(\\sigma_i)}{2} = \\frac{2+0}{2} = 1$\n",
    "\n",
    "To show it is positive, we must show $\\braket{v}{\\rho v} \\geq 0$ for all v\n",
    "\n",
    "$$\n",
    "\\braket{v}{\\rho v} = \\frac{1}{2}\\left(|v|^2 + \\sum_i r_i \\braket{v_i}{\\sigma_i v_i}\\right)\n",
    "$$\n",
    "\n",
    "Since the $\\sigma_i$ are Hermitian, $\\braket{v_i}{\\sigma_i v_i}$ is real. We can use the fact that $|r| \\leq 1$ to show that the expression is positive."
   ]
  },
  {
   "cell_type": "markdown",
   "id": "6d07aac1",
   "metadata": {},
   "source": [
    "2. $ r = 0$"
   ]
  },
  {
   "cell_type": "markdown",
   "id": "5b895f3f",
   "metadata": {},
   "source": [
    "3)\n",
    "\n",
    "$$\n",
    "\\rho^2 = \\left(\\frac{I+r^i \\sigma_i}{2}\\right)\\left(\\frac{I+r^j \\sigma_j}{2}\\right)=\\\\\n",
    "\\frac{1}{4}\\left(I + 2r^i \\sigma_i + r^i r^j \\sigma_i \\sigma_j \\right) = \\\\\n",
    "\\frac{1}{4}\\left(I + 2r^i \\sigma_i + \\sum_i (r^i)^2 \\sum_{j \\neq i} r^i r^j e_{ij}^k \\sigma_k \\right)\n",
    "$$\n",
    "\n",
    "Using the fact that $tr(\\sigma_i) = 0$, we have\n",
    "\n",
    "$$\n",
    "tr(\\rho^2) = \\frac{1}{4}(2 + 2|r|^2) = \\frac{1}{2}(1+|r|^2)\n",
    "$$\n",
    "\n",
    "which is 1 iff $|r| = 1$"
   ]
  },
  {
   "cell_type": "markdown",
   "id": "21d97af3-0ce8-475c-bac4-4035d460a529",
   "metadata": {},
   "source": [
    "### Exercise 2.73 (Wayne Dam)\n",
    "\n",
    "#### Part 1.\n",
    "\n",
    "We're given a $\\rho$ and a state $\\ket{\\psi}$ and we want to create a minimal ensemble for $\\rho$ that contains $\\ket{\\psi}$.\n",
    "\n",
    "This was a tricky problem. The book, *Geometry of Quantum States* by Bengtsson and Zyczkowski, discusses our Theorem 2.6 in general on page 232 under **Schrodinger's mixture theorem**. They don't discuss this problem in particular but their equation (8.41) on page 233 provided a good starting point. See equation (2) below.\n",
    "\n",
    "The trick is to start with a known ensemble of $\\rho$ from its eigen-decomposition.\n",
    "\n",
    "$$\\rho = \\sum_{i=1}^r \\lambda_i \\ket{e_i}\\bra{e_i},$$ where $r$ is the rank of $\\rho$.\n",
    "\n",
    "Using this known ensemble we generate a new one that we construct to be guaranteed to include $\\ket{\\psi}$. This is done with the unitary transformation of Theorem 2.6:\n",
    "\n",
    "Let's call $\\ket{\\psi}$ the $i$'th ket in the ensemble, $\\ket{\\psi_i}$.\n",
    "So for this ket,\n",
    "\n",
    "$$\\sqrt{p_i} \\ket{\\psi_i} = \\sum_j u_{ij} \\sqrt{\\lambda_j} \\ket{e_j}.\\ \\ \\ \\ \\ \\ (1)$$\n",
    "\n",
    "We want to generate the other $\\ket{\\psi_k}$'s and $p_k$'s from the eigen-ensemble using $u_{ij}$. So isolate it in (1) using inner products and orthogonality.\n",
    "\n",
    "$$\n",
    "\\sqrt{p_i} \\braket{e_k}{\\psi_i} = \\sum_j u_{ij} \\sqrt{\\lambda_j} \\braket{e_k}{e_j}\\ \\ \\ \\ \\ \\ (2) \\\\\n",
    "\\sqrt{p_i} \\braket{e_k}{\\psi_i} = u_{ik} \\sqrt{\\lambda_k} \\\\\n",
    "\\Rightarrow u_{ij} = \\frac{p_i}{\\lambda_j} \\braket{e_j}{\\psi_i},\\ j=1\\ldots r.\n",
    "$$\n",
    "\n",
    "Now $\\braket{e_j}{\\psi_i}$ is just the $j$'th compent of state $\\ket{\\psi_i}$. Call it $a_j\\equiv \\braket{e_j}{\\psi_i}$ for convenience.\n",
    "\n",
    "So, $$u_{ij} = \\frac{p_i}{\\lambda_j} a_j,\\ j=1\\ldots r.$$\n",
    "\n",
    "This defines the $i$'th row of the unitary matrix, $U$. We don't have the probability, $p_i$, yet but we add the constraint that $U$ is unitary and so the norm of each row equals 1. This lets us calculate the probability $p_i$ like so,\n",
    "\n",
    "$$ 1 = \\sum_j |u_{ij}|^2 = \\sum_j \\frac{p_i}{\\lambda_j} |a_j|^2.\\\\\n",
    "p_i \\sum_j \\frac{|a_j|^2}{\\lambda_j}  = 1\\\\\n",
    "p_i = \\frac{1}{\\sum_j \\frac{|a_j|^2}{\\lambda_j}}\\ \\ \\ \\ \\ \\ (3)\n",
    "$$\n",
    "\n",
    "The quantities on the rhs are all known and so we can calculate $p_i$ directly from the eigen-decomposition of $\\rho$ and $\\ket{\\psi}$.\n",
    "\n",
    "Now choose the rest of the $r-1$ rows of $U$ to be orthonormal. Say, by Gram-Schmidt.\n",
    "\n",
    "Recall from (1), though, that,\n",
    "\n",
    "$$\\sqrt{p_k} \\ket{\\psi_k} = \\sum_j u_{kj} \\sqrt{\\lambda_j} \\ket{e_j}.$$\n",
    "\n",
    "This applies to *all* $r$ values of $k$ now. \n",
    "\n",
    "We let $k$ range from 1 to $r$ and then perform the sum over $j$ using the known values of $\\lambda_j$ and $\\ket{e_j}$ from the eigen-decomposition and the constructed values of $u_{kj}$. For $k\\neq i$ the $u_{kj}$ values come from the Gram-Schmidt orthogonalization. For $k=i$ the values come from our construction above. This sum then gives us the lhs. We extract the $p_k$ and $\\ket{\\psi_k}$ by normalization.\n",
    "\n",
    "This generates the rest of the ensemble.\n",
    "\n",
    "Note the case of $k=i$ is guaranteed to return $\\sqrt{p_i}\\ket{\\psi_i}$ by the construction, as required.\n",
    "\n",
    "#### Part 2\n",
    "Start with the inner product matrix element first and then expand the inverse of the density matrix in terms of it eigen-decomposition.\n",
    "\n",
    "$$\\bra{\\psi_i}\\rho^{-1}\\ket{\\psi_i} = \\bra{\\psi_i} \\cdot \\sum_j \\frac{1}{\\lambda_j} \\ket{e_j}\\bra{e_j} \\cdot  \\ket{\\psi_i}\\\\\n",
    "=\\sum_j \\frac{1}{\\lambda_j} \\braket{\\psi_i}{e_j} \\braket{e_j}{\\psi_i}\\\\\n",
    "\\sum_j \\frac{1}{\\lambda_j} |a_j|^2 \\\\\n",
    "= \\frac{1}{p_i},$$\n",
    "where the last line comes from (3) above.\n",
    "\n",
    "So,\n",
    "$$ p_i = \\frac{1}{\\bra{\\psi_i}\\rho^{-1}\\ket{\\psi_i}}$$\n",
    "as required."
   ]
  },
  {
   "cell_type": "markdown",
   "id": "262a514b",
   "metadata": {},
   "source": [
    "### Exercise 2.74\n",
    "\n",
    "$$\n",
    "\\rho^A = tr_B(\\rho^{AB}) = tr_B(\\ket{a}\\ket{b}\\bra{b}\\bra{a}) = |b|^2\\ket{a}\\bra{a}\n",
    "$$"
   ]
  },
  {
   "cell_type": "markdown",
   "id": "0698b7cf",
   "metadata": {},
   "source": [
    "### Exercise 2.75\n",
    "\n",
    "Pick $\\ket{\\psi} = \\frac{\\ket{00} \\pm \\ket{11}}{\\sqrt{2}}$. Then\n",
    "\n",
    "$$\n",
    "\\ket{\\psi}\\bra{\\psi} = \\frac{1}{2}\\left[ \\ket{00}\\bra{00} + \\ket{11}\\bra{11} + \\ket{01}\\bra{01} + \\ket{10}\\bra{10}\\right]  \n",
    "$$\n",
    "\n",
    "$$\n",
    "tr_B(\\ket{\\psi}\\bra{\\psi}) = \\frac{1}{2}\\left[\\ket{0}\\bra{0} + \\ket{1}\\bra{1} \\right]  \n",
    "$$\n",
    "\n",
    "where I have used the orthonormality of 0 and 1 to get rid of the cross-terms. The calculation for the other states is similar."
   ]
  },
  {
   "cell_type": "markdown",
   "id": "9f781030",
   "metadata": {},
   "source": [
    "### Exercise 2.76\n",
    "\n",
    "The generalization follows from the fact that SVD is possible for non-square matrices."
   ]
  },
  {
   "cell_type": "markdown",
   "id": "1bc4e4f0",
   "metadata": {},
   "source": [
    "### Exercise 2.78\n",
    "\n",
    "1) Prove that $\\psi$ is a product state iff it has Schmidt number 1.\n",
    "\n",
    "If  $\\ket{\\psi} = \\ket{a}\\ket{b}$  then it has a Schmidt representation $ |a||b|\\ket{a/|a|}\\ket{b/|b|}$ which has rank 1. Conversely, if $\\ket{\\psi}$ has a rank 1  Schmidt representation $\\lambda\\ket{a}\\ket{b}$ then it is clearly a product state.\n",
    "\n",
    "2) Prove that $\\psi$ is a product state iff  $\\rho^A$ (and $\\rho^B)$ are pure states\n",
    "\n",
    "If $\\ket{\\psi} = \\ket{a}\\ket{b}$, then $\\rho = \\ket{a}\\ket{b}\\otimes\\bra{a}\\bra{b}$, so \n",
    "$\\rho^A = |b|^2\\ket{a}\\bra{a}$ which is a pure state (same for $\\rho^B$).\n",
    "\n",
    "If $\\rho^A = \\ket{a}\\bra{a}$ and $\\rho^B = \\ket{b}\\bra{b}$, then \n",
    "$\\rho = \\rho^A \\otimes \\rho^B = \\ket{a}\\ket{b}\\otimes\\bra{a}\\bra{b}$, which is a product state.\n"
   ]
  },
  {
   "cell_type": "markdown",
   "id": "fd858a74",
   "metadata": {},
   "source": [
    "### Exercise 2.80 \n",
    "\n",
    "Suppose $\\ket{\\psi} = \\sum_i \\lambda_i \\ket{i_1^A}\\ket{i_1^B}$ and $\\ket{\\phi} = \\sum_i \\lambda_i \\ket{i_2^A}\\ket{i_2^B}$.\n",
    "\n",
    "Since $i_1^A$ and $i_2^A$ are orthonormal sets in A, there is a unitary matrix U transforming from one set to the other. Similarly, there is a unitary matrix B transforming $i_1^B$ and $i_2^B$.\n",
    "\n",
    "Then \n",
    "\n",
    "$$\n",
    "U\\otimes V \\ket{\\phi} = \\sum_i \\lambda_i U\\ket{i_2^A}V\\ket{i_2^B} = \\lambda_i \\ket{i_1^A}\\ket{i_1^B} = \\ket{\\psi}\n",
    "$$"
   ]
  },
  {
   "cell_type": "markdown",
   "id": "2a543740",
   "metadata": {},
   "source": [
    "### Exercise 2.81\n",
    "\n",
    "We have \n",
    "\n",
    "$$\n",
    "\\ket{AR_1} = \\sum_i \\sqrt{p_i}\\ket{i^A}\\ket{i^{R_1}}\n",
    "$$\n",
    "\n",
    "and \n",
    "\n",
    "$$\n",
    "\\ket{AR_2} = \\sum_i \\sqrt{p_i}\\ket{i^A}\\ket{i^{R_2}}\n",
    "$$\n",
    "\n",
    "so the result follows from exercise 2.80"
   ]
  },
  {
   "cell_type": "code",
   "execution_count": null,
   "id": "ceda65b3",
   "metadata": {},
   "outputs": [],
   "source": []
  }
 ],
 "metadata": {
  "kernelspec": {
   "display_name": "physics-with-friends",
   "language": "python",
   "name": "physics-with-friends"
  },
  "language_info": {
   "codemirror_mode": {
    "name": "ipython",
    "version": 3
   },
   "file_extension": ".py",
   "mimetype": "text/x-python",
   "name": "python",
   "nbconvert_exporter": "python",
   "pygments_lexer": "ipython3",
   "version": "3.10.13"
  },
  "latex_envs": {
   "LaTeX_envs_menu_present": true,
   "autoclose": false,
   "autocomplete": true,
   "bibliofile": "biblio.bib",
   "cite_by": "apalike",
   "current_citInitial": 1,
   "eqLabelWithNumbers": true,
   "eqNumInitial": 1,
   "hotkeys": {
    "equation": "Ctrl-E",
    "itemize": "Ctrl-I"
   },
   "labels_anchors": false,
   "latex_user_defs": false,
   "report_style_numbering": false,
   "user_envs_cfg": false
  },
  "widgets": {
   "application/vnd.jupyter.widget-state+json": {
    "state": {},
    "version_major": 2,
    "version_minor": 0
   }
  }
 },
 "nbformat": 4,
 "nbformat_minor": 5
}
